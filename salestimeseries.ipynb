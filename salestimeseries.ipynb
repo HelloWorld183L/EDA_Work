{
 "cells": [
  {
   "cell_type": "markdown",
   "id": "63df0428",
   "metadata": {
    "papermill": {
     "duration": 0.07164,
     "end_time": "2022-04-16T14:00:39.452384",
     "exception": false,
     "start_time": "2022-04-16T14:00:39.380744",
     "status": "completed"
    },
    "tags": []
   },
   "source": [
    "# Setting things up"
   ]
  },
  {
   "cell_type": "code",
   "execution_count": 83,
   "id": "e11efdcf",
   "metadata": {
    "_cell_guid": "b1076dfc-b9ad-4769-8c92-a6c4dae69d19",
    "_uuid": "8f2839f25d086af736a60e9eeb907d3b93b6e0e5",
    "execution": {
     "iopub.execute_input": "2022-04-16T14:00:39.604180Z",
     "iopub.status.busy": "2022-04-16T14:00:39.603557Z",
     "iopub.status.idle": "2022-04-16T14:00:40.578715Z",
     "shell.execute_reply": "2022-04-16T14:00:40.578056Z",
     "shell.execute_reply.started": "2022-04-16T13:04:02.050215Z"
    },
    "papermill": {
     "duration": 1.054159,
     "end_time": "2022-04-16T14:00:40.578867",
     "exception": false,
     "start_time": "2022-04-16T14:00:39.524708",
     "status": "completed"
    },
    "tags": []
   },
   "outputs": [],
   "source": [
    "# This Python 3 environment comes with many helpful analytics libraries installed\n",
    "# It is defined by the kaggle/python Docker image: https://github.com/kaggle/docker-python\n",
    "# For example, here's several helpful packages to load\n",
    "\n",
    "import numpy as np # linear algebra\n",
    "import pandas as pd # data processing, CSV file I/O (e.g. pd.read_csv)\n",
    "import matplotlib.pyplot as plt\n",
    "import seaborn as sns\n",
    "import missingno as msno\n",
    "\n",
    "# Input data files are available in the read-only \"../input/\" directory\n",
    "# For example, running this (by clicking run or pressing Shift+Enter) will list all files under the input directory\n",
    "\n",
    "import os\n",
    "for dirname, _, filenames in os.walk('/kaggle/input'):\n",
    "    for filename in filenames:\n",
    "        print(os.path.join(dirname, filename))\n",
    "\n",
    "BASE_PATH = 'store-sales/'\n",
    "# You can write up to 20GB to the current directory (/kaggle/working/) that gets preserved as output when you create a version using \"Save & Run All\" \n",
    "# You can also write temporary files to /kaggle/temp/, but they won't be saved outside of the current session"
   ]
  },
  {
   "cell_type": "markdown",
   "id": "69e64fb7",
   "metadata": {
    "papermill": {
     "duration": 0.069924,
     "end_time": "2022-04-16T14:00:40.720848",
     "exception": false,
     "start_time": "2022-04-16T14:00:40.650924",
     "status": "completed"
    },
    "tags": []
   },
   "source": [
    "# Context\n",
    "In this competition, you will predict sales for the thousands of product families sold at Favorita stores located in Ecuador. The training data includes dates, store and product information, whether that item was being promoted, as well as the sales numbers. Additional files include supplementary information that may be useful in building your models.\n",
    "\n",
    "## File Descriptions and Data Field Information\n",
    "### train.csv\n",
    "- The training data, comprising time series of features store_nbr, family, and onpromotion as well as the target sales.\n",
    "- store_nbr identifies the store at which the products are sold.\n",
    "- family identifies the type of product sold.\n",
    "- sales gives the total sales for a product family at a particular store at a given date. Fractional values are possible since products can be sold in fractional units (1.5 kg of cheese, for instance, as opposed to 1 bag of chips).\n",
    "- onpromotion gives the total number of items in a product family that were being promoted at a store at a given date.\n",
    "\n",
    "### test.csv\n",
    "- The test data, having the same features as the training data. You will predict the target sales for the dates in this file.\n",
    "- The dates in the test data are for the 15 days after the last date in the training data.\n",
    "\n",
    "### sample_submission.csv\n",
    "- A sample submission file in the correct format.\n",
    "\n",
    "### stores.csv\n",
    "- Store metadata, including city, state, type, and cluster.\n",
    "- cluster is a grouping of similar stores.\n",
    "\n",
    "### oil.csv\n",
    "- Daily oil price. Includes values during both the train and test data timeframes. (Ecuador is an oil-dependent country and it's economical health is highly vulnerable to shocks in oil prices.)\n",
    "\n",
    "### holidays_events.csv\n",
    "- Holidays and Events, with metadata\n",
    "- NOTE: Pay special attention to the transferred column. A holiday that is transferred officially falls on that calendar day, but was moved to another date by the government. A transferred day is more like a normal day than a holiday. To find the day that it was actually celebrated, look for the corresponding row where type is Transfer. For example, the holiday Independencia de Guayaquil was transferred from 2012-10-09 to 2012-10-12, which means it was celebrated on 2012-10-12. Days that are type Bridge are extra days that are added to a holiday (e.g., to extend the break across a long weekend). These are frequently made up by the type Work Day which is a day not normally scheduled for work (e.g., Saturday) that is meant to payback the Bridge.\n",
    "- Additional holidays are days added a regular calendar holiday, for example, as typically happens around Christmas (making Christmas Eve a holiday).\n",
    "\n",
    "## Additional Notes\n",
    "- Wages in the public sector are paid every two weeks on the 15 th and on the last day of the month. Supermarket sales could be affected by this.\n",
    "- A magnitude 7.8 earthquake struck Ecuador on April 16, 2016. People rallied in relief efforts donating water and other first need products which greatly affected supermarket sales for several weeks after the earthquake."
   ]
  },
  {
   "cell_type": "markdown",
   "id": "4dec4ccd",
   "metadata": {
    "papermill": {
     "duration": 0.068892,
     "end_time": "2022-04-16T14:00:40.860099",
     "exception": false,
     "start_time": "2022-04-16T14:00:40.791207",
     "status": "completed"
    },
    "tags": []
   },
   "source": [
    "# Data cleaning\n",
    "## Retrieving the data"
   ]
  },
  {
   "cell_type": "code",
   "execution_count": 2,
   "id": "6c6e2b85",
   "metadata": {
    "execution": {
     "iopub.execute_input": "2022-04-16T14:00:41.007932Z",
     "iopub.status.busy": "2022-04-16T14:00:41.007255Z",
     "iopub.status.idle": "2022-04-16T14:00:44.053155Z",
     "shell.execute_reply": "2022-04-16T14:00:44.052669Z",
     "shell.execute_reply.started": "2022-04-16T13:04:03.211038Z"
    },
    "papermill": {
     "duration": 3.123322,
     "end_time": "2022-04-16T14:00:44.053296",
     "exception": false,
     "start_time": "2022-04-16T14:00:40.929974",
     "status": "completed"
    },
    "tags": []
   },
   "outputs": [],
   "source": [
    "holiday_events_df = pd.read_csv(BASE_PATH + 'holidays_events.csv')\n",
    "stores_df = pd.read_csv(BASE_PATH + 'stores.csv')\n",
    "transactions_df = pd.read_csv(BASE_PATH + 'transactions.csv')\n",
    "train_df = pd.read_csv(BASE_PATH + 'train.csv')\n",
    "test_df = pd.read_csv(BASE_PATH + 'test.csv')\n",
    "oil_df = pd.read_csv(BASE_PATH + 'oil.csv')\n",
    "sample_submission_df = pd.read_csv(BASE_PATH + 'sample_submission.csv')"
   ]
  },
  {
   "cell_type": "code",
   "execution_count": 3,
   "id": "f70374cd",
   "metadata": {
    "execution": {
     "iopub.execute_input": "2022-04-16T14:00:44.204523Z",
     "iopub.status.busy": "2022-04-16T14:00:44.203920Z",
     "iopub.status.idle": "2022-04-16T14:00:44.218153Z",
     "shell.execute_reply": "2022-04-16T14:00:44.218608Z",
     "shell.execute_reply.started": "2022-04-16T13:04:06.237868Z"
    },
    "papermill": {
     "duration": 0.094663,
     "end_time": "2022-04-16T14:00:44.218759",
     "exception": false,
     "start_time": "2022-04-16T14:00:44.124096",
     "status": "completed"
    },
    "tags": []
   },
   "outputs": [
    {
     "data": {
      "text/html": [
       "<div>\n",
       "<style scoped>\n",
       "    .dataframe tbody tr th:only-of-type {\n",
       "        vertical-align: middle;\n",
       "    }\n",
       "\n",
       "    .dataframe tbody tr th {\n",
       "        vertical-align: top;\n",
       "    }\n",
       "\n",
       "    .dataframe thead th {\n",
       "        text-align: right;\n",
       "    }\n",
       "</style>\n",
       "<table border=\"1\" class=\"dataframe\">\n",
       "  <thead>\n",
       "    <tr style=\"text-align: right;\">\n",
       "      <th></th>\n",
       "      <th>date</th>\n",
       "      <th>type</th>\n",
       "      <th>locale</th>\n",
       "      <th>locale_name</th>\n",
       "      <th>description</th>\n",
       "      <th>transferred</th>\n",
       "    </tr>\n",
       "  </thead>\n",
       "  <tbody>\n",
       "    <tr>\n",
       "      <th>0</th>\n",
       "      <td>2012-03-02</td>\n",
       "      <td>Holiday</td>\n",
       "      <td>Local</td>\n",
       "      <td>Manta</td>\n",
       "      <td>Fundacion de Manta</td>\n",
       "      <td>False</td>\n",
       "    </tr>\n",
       "    <tr>\n",
       "      <th>1</th>\n",
       "      <td>2012-04-01</td>\n",
       "      <td>Holiday</td>\n",
       "      <td>Regional</td>\n",
       "      <td>Cotopaxi</td>\n",
       "      <td>Provincializacion de Cotopaxi</td>\n",
       "      <td>False</td>\n",
       "    </tr>\n",
       "    <tr>\n",
       "      <th>2</th>\n",
       "      <td>2012-04-12</td>\n",
       "      <td>Holiday</td>\n",
       "      <td>Local</td>\n",
       "      <td>Cuenca</td>\n",
       "      <td>Fundacion de Cuenca</td>\n",
       "      <td>False</td>\n",
       "    </tr>\n",
       "    <tr>\n",
       "      <th>3</th>\n",
       "      <td>2012-04-14</td>\n",
       "      <td>Holiday</td>\n",
       "      <td>Local</td>\n",
       "      <td>Libertad</td>\n",
       "      <td>Cantonizacion de Libertad</td>\n",
       "      <td>False</td>\n",
       "    </tr>\n",
       "    <tr>\n",
       "      <th>4</th>\n",
       "      <td>2012-04-21</td>\n",
       "      <td>Holiday</td>\n",
       "      <td>Local</td>\n",
       "      <td>Riobamba</td>\n",
       "      <td>Cantonizacion de Riobamba</td>\n",
       "      <td>False</td>\n",
       "    </tr>\n",
       "    <tr>\n",
       "      <th>...</th>\n",
       "      <td>...</td>\n",
       "      <td>...</td>\n",
       "      <td>...</td>\n",
       "      <td>...</td>\n",
       "      <td>...</td>\n",
       "      <td>...</td>\n",
       "    </tr>\n",
       "    <tr>\n",
       "      <th>345</th>\n",
       "      <td>2017-12-22</td>\n",
       "      <td>Additional</td>\n",
       "      <td>National</td>\n",
       "      <td>Ecuador</td>\n",
       "      <td>Navidad-3</td>\n",
       "      <td>False</td>\n",
       "    </tr>\n",
       "    <tr>\n",
       "      <th>346</th>\n",
       "      <td>2017-12-23</td>\n",
       "      <td>Additional</td>\n",
       "      <td>National</td>\n",
       "      <td>Ecuador</td>\n",
       "      <td>Navidad-2</td>\n",
       "      <td>False</td>\n",
       "    </tr>\n",
       "    <tr>\n",
       "      <th>347</th>\n",
       "      <td>2017-12-24</td>\n",
       "      <td>Additional</td>\n",
       "      <td>National</td>\n",
       "      <td>Ecuador</td>\n",
       "      <td>Navidad-1</td>\n",
       "      <td>False</td>\n",
       "    </tr>\n",
       "    <tr>\n",
       "      <th>348</th>\n",
       "      <td>2017-12-25</td>\n",
       "      <td>Holiday</td>\n",
       "      <td>National</td>\n",
       "      <td>Ecuador</td>\n",
       "      <td>Navidad</td>\n",
       "      <td>False</td>\n",
       "    </tr>\n",
       "    <tr>\n",
       "      <th>349</th>\n",
       "      <td>2017-12-26</td>\n",
       "      <td>Additional</td>\n",
       "      <td>National</td>\n",
       "      <td>Ecuador</td>\n",
       "      <td>Navidad+1</td>\n",
       "      <td>False</td>\n",
       "    </tr>\n",
       "  </tbody>\n",
       "</table>\n",
       "<p>350 rows × 6 columns</p>\n",
       "</div>"
      ],
      "text/plain": [
       "           date        type    locale locale_name  \\\n",
       "0    2012-03-02     Holiday     Local       Manta   \n",
       "1    2012-04-01     Holiday  Regional    Cotopaxi   \n",
       "2    2012-04-12     Holiday     Local      Cuenca   \n",
       "3    2012-04-14     Holiday     Local    Libertad   \n",
       "4    2012-04-21     Holiday     Local    Riobamba   \n",
       "..          ...         ...       ...         ...   \n",
       "345  2017-12-22  Additional  National     Ecuador   \n",
       "346  2017-12-23  Additional  National     Ecuador   \n",
       "347  2017-12-24  Additional  National     Ecuador   \n",
       "348  2017-12-25     Holiday  National     Ecuador   \n",
       "349  2017-12-26  Additional  National     Ecuador   \n",
       "\n",
       "                       description  transferred  \n",
       "0               Fundacion de Manta        False  \n",
       "1    Provincializacion de Cotopaxi        False  \n",
       "2              Fundacion de Cuenca        False  \n",
       "3        Cantonizacion de Libertad        False  \n",
       "4        Cantonizacion de Riobamba        False  \n",
       "..                             ...          ...  \n",
       "345                      Navidad-3        False  \n",
       "346                      Navidad-2        False  \n",
       "347                      Navidad-1        False  \n",
       "348                        Navidad        False  \n",
       "349                      Navidad+1        False  \n",
       "\n",
       "[350 rows x 6 columns]"
      ]
     },
     "execution_count": 3,
     "metadata": {},
     "output_type": "execute_result"
    }
   ],
   "source": [
    "holiday_events_df"
   ]
  },
  {
   "cell_type": "code",
   "execution_count": 4,
   "id": "ed333327",
   "metadata": {
    "execution": {
     "iopub.execute_input": "2022-04-16T14:00:44.375440Z",
     "iopub.status.busy": "2022-04-16T14:00:44.374556Z",
     "iopub.status.idle": "2022-04-16T14:00:44.378536Z",
     "shell.execute_reply": "2022-04-16T14:00:44.378102Z",
     "shell.execute_reply.started": "2022-04-16T13:04:06.266584Z"
    },
    "papermill": {
     "duration": 0.089022,
     "end_time": "2022-04-16T14:00:44.378658",
     "exception": false,
     "start_time": "2022-04-16T14:00:44.289636",
     "status": "completed"
    },
    "tags": []
   },
   "outputs": [
    {
     "data": {
      "text/html": [
       "<div>\n",
       "<style scoped>\n",
       "    .dataframe tbody tr th:only-of-type {\n",
       "        vertical-align: middle;\n",
       "    }\n",
       "\n",
       "    .dataframe tbody tr th {\n",
       "        vertical-align: top;\n",
       "    }\n",
       "\n",
       "    .dataframe thead th {\n",
       "        text-align: right;\n",
       "    }\n",
       "</style>\n",
       "<table border=\"1\" class=\"dataframe\">\n",
       "  <thead>\n",
       "    <tr style=\"text-align: right;\">\n",
       "      <th></th>\n",
       "      <th>store_nbr</th>\n",
       "      <th>city</th>\n",
       "      <th>state</th>\n",
       "      <th>type</th>\n",
       "      <th>cluster</th>\n",
       "    </tr>\n",
       "  </thead>\n",
       "  <tbody>\n",
       "    <tr>\n",
       "      <th>0</th>\n",
       "      <td>1</td>\n",
       "      <td>Quito</td>\n",
       "      <td>Pichincha</td>\n",
       "      <td>D</td>\n",
       "      <td>13</td>\n",
       "    </tr>\n",
       "    <tr>\n",
       "      <th>1</th>\n",
       "      <td>2</td>\n",
       "      <td>Quito</td>\n",
       "      <td>Pichincha</td>\n",
       "      <td>D</td>\n",
       "      <td>13</td>\n",
       "    </tr>\n",
       "    <tr>\n",
       "      <th>2</th>\n",
       "      <td>3</td>\n",
       "      <td>Quito</td>\n",
       "      <td>Pichincha</td>\n",
       "      <td>D</td>\n",
       "      <td>8</td>\n",
       "    </tr>\n",
       "    <tr>\n",
       "      <th>3</th>\n",
       "      <td>4</td>\n",
       "      <td>Quito</td>\n",
       "      <td>Pichincha</td>\n",
       "      <td>D</td>\n",
       "      <td>9</td>\n",
       "    </tr>\n",
       "    <tr>\n",
       "      <th>4</th>\n",
       "      <td>5</td>\n",
       "      <td>Santo Domingo</td>\n",
       "      <td>Santo Domingo de los Tsachilas</td>\n",
       "      <td>D</td>\n",
       "      <td>4</td>\n",
       "    </tr>\n",
       "    <tr>\n",
       "      <th>5</th>\n",
       "      <td>6</td>\n",
       "      <td>Quito</td>\n",
       "      <td>Pichincha</td>\n",
       "      <td>D</td>\n",
       "      <td>13</td>\n",
       "    </tr>\n",
       "    <tr>\n",
       "      <th>6</th>\n",
       "      <td>7</td>\n",
       "      <td>Quito</td>\n",
       "      <td>Pichincha</td>\n",
       "      <td>D</td>\n",
       "      <td>8</td>\n",
       "    </tr>\n",
       "    <tr>\n",
       "      <th>7</th>\n",
       "      <td>8</td>\n",
       "      <td>Quito</td>\n",
       "      <td>Pichincha</td>\n",
       "      <td>D</td>\n",
       "      <td>8</td>\n",
       "    </tr>\n",
       "    <tr>\n",
       "      <th>8</th>\n",
       "      <td>9</td>\n",
       "      <td>Quito</td>\n",
       "      <td>Pichincha</td>\n",
       "      <td>B</td>\n",
       "      <td>6</td>\n",
       "    </tr>\n",
       "    <tr>\n",
       "      <th>9</th>\n",
       "      <td>10</td>\n",
       "      <td>Quito</td>\n",
       "      <td>Pichincha</td>\n",
       "      <td>C</td>\n",
       "      <td>15</td>\n",
       "    </tr>\n",
       "    <tr>\n",
       "      <th>10</th>\n",
       "      <td>11</td>\n",
       "      <td>Cayambe</td>\n",
       "      <td>Pichincha</td>\n",
       "      <td>B</td>\n",
       "      <td>6</td>\n",
       "    </tr>\n",
       "    <tr>\n",
       "      <th>11</th>\n",
       "      <td>12</td>\n",
       "      <td>Latacunga</td>\n",
       "      <td>Cotopaxi</td>\n",
       "      <td>C</td>\n",
       "      <td>15</td>\n",
       "    </tr>\n",
       "    <tr>\n",
       "      <th>12</th>\n",
       "      <td>13</td>\n",
       "      <td>Latacunga</td>\n",
       "      <td>Cotopaxi</td>\n",
       "      <td>C</td>\n",
       "      <td>15</td>\n",
       "    </tr>\n",
       "    <tr>\n",
       "      <th>13</th>\n",
       "      <td>14</td>\n",
       "      <td>Riobamba</td>\n",
       "      <td>Chimborazo</td>\n",
       "      <td>C</td>\n",
       "      <td>7</td>\n",
       "    </tr>\n",
       "    <tr>\n",
       "      <th>14</th>\n",
       "      <td>15</td>\n",
       "      <td>Ibarra</td>\n",
       "      <td>Imbabura</td>\n",
       "      <td>C</td>\n",
       "      <td>15</td>\n",
       "    </tr>\n",
       "    <tr>\n",
       "      <th>15</th>\n",
       "      <td>16</td>\n",
       "      <td>Santo Domingo</td>\n",
       "      <td>Santo Domingo de los Tsachilas</td>\n",
       "      <td>C</td>\n",
       "      <td>3</td>\n",
       "    </tr>\n",
       "    <tr>\n",
       "      <th>16</th>\n",
       "      <td>17</td>\n",
       "      <td>Quito</td>\n",
       "      <td>Pichincha</td>\n",
       "      <td>C</td>\n",
       "      <td>12</td>\n",
       "    </tr>\n",
       "    <tr>\n",
       "      <th>17</th>\n",
       "      <td>18</td>\n",
       "      <td>Quito</td>\n",
       "      <td>Pichincha</td>\n",
       "      <td>B</td>\n",
       "      <td>16</td>\n",
       "    </tr>\n",
       "    <tr>\n",
       "      <th>18</th>\n",
       "      <td>19</td>\n",
       "      <td>Guaranda</td>\n",
       "      <td>Bolivar</td>\n",
       "      <td>C</td>\n",
       "      <td>15</td>\n",
       "    </tr>\n",
       "    <tr>\n",
       "      <th>19</th>\n",
       "      <td>20</td>\n",
       "      <td>Quito</td>\n",
       "      <td>Pichincha</td>\n",
       "      <td>B</td>\n",
       "      <td>6</td>\n",
       "    </tr>\n",
       "    <tr>\n",
       "      <th>20</th>\n",
       "      <td>21</td>\n",
       "      <td>Santo Domingo</td>\n",
       "      <td>Santo Domingo de los Tsachilas</td>\n",
       "      <td>B</td>\n",
       "      <td>6</td>\n",
       "    </tr>\n",
       "    <tr>\n",
       "      <th>21</th>\n",
       "      <td>22</td>\n",
       "      <td>Puyo</td>\n",
       "      <td>Pastaza</td>\n",
       "      <td>C</td>\n",
       "      <td>7</td>\n",
       "    </tr>\n",
       "    <tr>\n",
       "      <th>22</th>\n",
       "      <td>23</td>\n",
       "      <td>Ambato</td>\n",
       "      <td>Tungurahua</td>\n",
       "      <td>D</td>\n",
       "      <td>9</td>\n",
       "    </tr>\n",
       "    <tr>\n",
       "      <th>23</th>\n",
       "      <td>24</td>\n",
       "      <td>Guayaquil</td>\n",
       "      <td>Guayas</td>\n",
       "      <td>D</td>\n",
       "      <td>1</td>\n",
       "    </tr>\n",
       "    <tr>\n",
       "      <th>24</th>\n",
       "      <td>25</td>\n",
       "      <td>Salinas</td>\n",
       "      <td>Santa Elena</td>\n",
       "      <td>D</td>\n",
       "      <td>1</td>\n",
       "    </tr>\n",
       "    <tr>\n",
       "      <th>25</th>\n",
       "      <td>26</td>\n",
       "      <td>Guayaquil</td>\n",
       "      <td>Guayas</td>\n",
       "      <td>D</td>\n",
       "      <td>10</td>\n",
       "    </tr>\n",
       "    <tr>\n",
       "      <th>26</th>\n",
       "      <td>27</td>\n",
       "      <td>Daule</td>\n",
       "      <td>Guayas</td>\n",
       "      <td>D</td>\n",
       "      <td>1</td>\n",
       "    </tr>\n",
       "    <tr>\n",
       "      <th>27</th>\n",
       "      <td>28</td>\n",
       "      <td>Guayaquil</td>\n",
       "      <td>Guayas</td>\n",
       "      <td>E</td>\n",
       "      <td>10</td>\n",
       "    </tr>\n",
       "    <tr>\n",
       "      <th>28</th>\n",
       "      <td>29</td>\n",
       "      <td>Guayaquil</td>\n",
       "      <td>Guayas</td>\n",
       "      <td>E</td>\n",
       "      <td>10</td>\n",
       "    </tr>\n",
       "    <tr>\n",
       "      <th>29</th>\n",
       "      <td>30</td>\n",
       "      <td>Guayaquil</td>\n",
       "      <td>Guayas</td>\n",
       "      <td>C</td>\n",
       "      <td>3</td>\n",
       "    </tr>\n",
       "    <tr>\n",
       "      <th>30</th>\n",
       "      <td>31</td>\n",
       "      <td>Babahoyo</td>\n",
       "      <td>Los Rios</td>\n",
       "      <td>B</td>\n",
       "      <td>10</td>\n",
       "    </tr>\n",
       "    <tr>\n",
       "      <th>31</th>\n",
       "      <td>32</td>\n",
       "      <td>Guayaquil</td>\n",
       "      <td>Guayas</td>\n",
       "      <td>C</td>\n",
       "      <td>3</td>\n",
       "    </tr>\n",
       "    <tr>\n",
       "      <th>32</th>\n",
       "      <td>33</td>\n",
       "      <td>Quevedo</td>\n",
       "      <td>Los Rios</td>\n",
       "      <td>C</td>\n",
       "      <td>3</td>\n",
       "    </tr>\n",
       "    <tr>\n",
       "      <th>33</th>\n",
       "      <td>34</td>\n",
       "      <td>Guayaquil</td>\n",
       "      <td>Guayas</td>\n",
       "      <td>B</td>\n",
       "      <td>6</td>\n",
       "    </tr>\n",
       "    <tr>\n",
       "      <th>34</th>\n",
       "      <td>35</td>\n",
       "      <td>Playas</td>\n",
       "      <td>Guayas</td>\n",
       "      <td>C</td>\n",
       "      <td>3</td>\n",
       "    </tr>\n",
       "    <tr>\n",
       "      <th>35</th>\n",
       "      <td>36</td>\n",
       "      <td>Libertad</td>\n",
       "      <td>Guayas</td>\n",
       "      <td>E</td>\n",
       "      <td>10</td>\n",
       "    </tr>\n",
       "    <tr>\n",
       "      <th>36</th>\n",
       "      <td>37</td>\n",
       "      <td>Cuenca</td>\n",
       "      <td>Azuay</td>\n",
       "      <td>D</td>\n",
       "      <td>2</td>\n",
       "    </tr>\n",
       "    <tr>\n",
       "      <th>37</th>\n",
       "      <td>38</td>\n",
       "      <td>Loja</td>\n",
       "      <td>Loja</td>\n",
       "      <td>D</td>\n",
       "      <td>4</td>\n",
       "    </tr>\n",
       "    <tr>\n",
       "      <th>38</th>\n",
       "      <td>39</td>\n",
       "      <td>Cuenca</td>\n",
       "      <td>Azuay</td>\n",
       "      <td>B</td>\n",
       "      <td>6</td>\n",
       "    </tr>\n",
       "    <tr>\n",
       "      <th>39</th>\n",
       "      <td>40</td>\n",
       "      <td>Machala</td>\n",
       "      <td>El Oro</td>\n",
       "      <td>C</td>\n",
       "      <td>3</td>\n",
       "    </tr>\n",
       "    <tr>\n",
       "      <th>40</th>\n",
       "      <td>41</td>\n",
       "      <td>Machala</td>\n",
       "      <td>El Oro</td>\n",
       "      <td>D</td>\n",
       "      <td>4</td>\n",
       "    </tr>\n",
       "    <tr>\n",
       "      <th>41</th>\n",
       "      <td>42</td>\n",
       "      <td>Cuenca</td>\n",
       "      <td>Azuay</td>\n",
       "      <td>D</td>\n",
       "      <td>2</td>\n",
       "    </tr>\n",
       "    <tr>\n",
       "      <th>42</th>\n",
       "      <td>43</td>\n",
       "      <td>Esmeraldas</td>\n",
       "      <td>Esmeraldas</td>\n",
       "      <td>E</td>\n",
       "      <td>10</td>\n",
       "    </tr>\n",
       "    <tr>\n",
       "      <th>43</th>\n",
       "      <td>44</td>\n",
       "      <td>Quito</td>\n",
       "      <td>Pichincha</td>\n",
       "      <td>A</td>\n",
       "      <td>5</td>\n",
       "    </tr>\n",
       "    <tr>\n",
       "      <th>44</th>\n",
       "      <td>45</td>\n",
       "      <td>Quito</td>\n",
       "      <td>Pichincha</td>\n",
       "      <td>A</td>\n",
       "      <td>11</td>\n",
       "    </tr>\n",
       "    <tr>\n",
       "      <th>45</th>\n",
       "      <td>46</td>\n",
       "      <td>Quito</td>\n",
       "      <td>Pichincha</td>\n",
       "      <td>A</td>\n",
       "      <td>14</td>\n",
       "    </tr>\n",
       "    <tr>\n",
       "      <th>46</th>\n",
       "      <td>47</td>\n",
       "      <td>Quito</td>\n",
       "      <td>Pichincha</td>\n",
       "      <td>A</td>\n",
       "      <td>14</td>\n",
       "    </tr>\n",
       "    <tr>\n",
       "      <th>47</th>\n",
       "      <td>48</td>\n",
       "      <td>Quito</td>\n",
       "      <td>Pichincha</td>\n",
       "      <td>A</td>\n",
       "      <td>14</td>\n",
       "    </tr>\n",
       "    <tr>\n",
       "      <th>48</th>\n",
       "      <td>49</td>\n",
       "      <td>Quito</td>\n",
       "      <td>Pichincha</td>\n",
       "      <td>A</td>\n",
       "      <td>11</td>\n",
       "    </tr>\n",
       "    <tr>\n",
       "      <th>49</th>\n",
       "      <td>50</td>\n",
       "      <td>Ambato</td>\n",
       "      <td>Tungurahua</td>\n",
       "      <td>A</td>\n",
       "      <td>14</td>\n",
       "    </tr>\n",
       "    <tr>\n",
       "      <th>50</th>\n",
       "      <td>51</td>\n",
       "      <td>Guayaquil</td>\n",
       "      <td>Guayas</td>\n",
       "      <td>A</td>\n",
       "      <td>17</td>\n",
       "    </tr>\n",
       "    <tr>\n",
       "      <th>51</th>\n",
       "      <td>52</td>\n",
       "      <td>Manta</td>\n",
       "      <td>Manabi</td>\n",
       "      <td>A</td>\n",
       "      <td>11</td>\n",
       "    </tr>\n",
       "    <tr>\n",
       "      <th>52</th>\n",
       "      <td>53</td>\n",
       "      <td>Manta</td>\n",
       "      <td>Manabi</td>\n",
       "      <td>D</td>\n",
       "      <td>13</td>\n",
       "    </tr>\n",
       "    <tr>\n",
       "      <th>53</th>\n",
       "      <td>54</td>\n",
       "      <td>El Carmen</td>\n",
       "      <td>Manabi</td>\n",
       "      <td>C</td>\n",
       "      <td>3</td>\n",
       "    </tr>\n",
       "  </tbody>\n",
       "</table>\n",
       "</div>"
      ],
      "text/plain": [
       "    store_nbr           city                           state type  cluster\n",
       "0           1          Quito                       Pichincha    D       13\n",
       "1           2          Quito                       Pichincha    D       13\n",
       "2           3          Quito                       Pichincha    D        8\n",
       "3           4          Quito                       Pichincha    D        9\n",
       "4           5  Santo Domingo  Santo Domingo de los Tsachilas    D        4\n",
       "5           6          Quito                       Pichincha    D       13\n",
       "6           7          Quito                       Pichincha    D        8\n",
       "7           8          Quito                       Pichincha    D        8\n",
       "8           9          Quito                       Pichincha    B        6\n",
       "9          10          Quito                       Pichincha    C       15\n",
       "10         11        Cayambe                       Pichincha    B        6\n",
       "11         12      Latacunga                        Cotopaxi    C       15\n",
       "12         13      Latacunga                        Cotopaxi    C       15\n",
       "13         14       Riobamba                      Chimborazo    C        7\n",
       "14         15         Ibarra                        Imbabura    C       15\n",
       "15         16  Santo Domingo  Santo Domingo de los Tsachilas    C        3\n",
       "16         17          Quito                       Pichincha    C       12\n",
       "17         18          Quito                       Pichincha    B       16\n",
       "18         19       Guaranda                         Bolivar    C       15\n",
       "19         20          Quito                       Pichincha    B        6\n",
       "20         21  Santo Domingo  Santo Domingo de los Tsachilas    B        6\n",
       "21         22           Puyo                         Pastaza    C        7\n",
       "22         23         Ambato                      Tungurahua    D        9\n",
       "23         24      Guayaquil                          Guayas    D        1\n",
       "24         25        Salinas                     Santa Elena    D        1\n",
       "25         26      Guayaquil                          Guayas    D       10\n",
       "26         27          Daule                          Guayas    D        1\n",
       "27         28      Guayaquil                          Guayas    E       10\n",
       "28         29      Guayaquil                          Guayas    E       10\n",
       "29         30      Guayaquil                          Guayas    C        3\n",
       "30         31       Babahoyo                        Los Rios    B       10\n",
       "31         32      Guayaquil                          Guayas    C        3\n",
       "32         33        Quevedo                        Los Rios    C        3\n",
       "33         34      Guayaquil                          Guayas    B        6\n",
       "34         35         Playas                          Guayas    C        3\n",
       "35         36       Libertad                          Guayas    E       10\n",
       "36         37         Cuenca                           Azuay    D        2\n",
       "37         38           Loja                            Loja    D        4\n",
       "38         39         Cuenca                           Azuay    B        6\n",
       "39         40        Machala                          El Oro    C        3\n",
       "40         41        Machala                          El Oro    D        4\n",
       "41         42         Cuenca                           Azuay    D        2\n",
       "42         43     Esmeraldas                      Esmeraldas    E       10\n",
       "43         44          Quito                       Pichincha    A        5\n",
       "44         45          Quito                       Pichincha    A       11\n",
       "45         46          Quito                       Pichincha    A       14\n",
       "46         47          Quito                       Pichincha    A       14\n",
       "47         48          Quito                       Pichincha    A       14\n",
       "48         49          Quito                       Pichincha    A       11\n",
       "49         50         Ambato                      Tungurahua    A       14\n",
       "50         51      Guayaquil                          Guayas    A       17\n",
       "51         52          Manta                          Manabi    A       11\n",
       "52         53          Manta                          Manabi    D       13\n",
       "53         54      El Carmen                          Manabi    C        3"
      ]
     },
     "execution_count": 4,
     "metadata": {},
     "output_type": "execute_result"
    }
   ],
   "source": [
    "stores_df"
   ]
  },
  {
   "cell_type": "code",
   "execution_count": 5,
   "id": "6550f365",
   "metadata": {
    "execution": {
     "iopub.execute_input": "2022-04-16T14:00:44.532369Z",
     "iopub.status.busy": "2022-04-16T14:00:44.531461Z",
     "iopub.status.idle": "2022-04-16T14:00:44.535049Z",
     "shell.execute_reply": "2022-04-16T14:00:44.534544Z",
     "shell.execute_reply.started": "2022-04-16T13:04:06.283408Z"
    },
    "papermill": {
     "duration": 0.086149,
     "end_time": "2022-04-16T14:00:44.535189",
     "exception": false,
     "start_time": "2022-04-16T14:00:44.449040",
     "status": "completed"
    },
    "tags": []
   },
   "outputs": [
    {
     "data": {
      "text/html": [
       "<div>\n",
       "<style scoped>\n",
       "    .dataframe tbody tr th:only-of-type {\n",
       "        vertical-align: middle;\n",
       "    }\n",
       "\n",
       "    .dataframe tbody tr th {\n",
       "        vertical-align: top;\n",
       "    }\n",
       "\n",
       "    .dataframe thead th {\n",
       "        text-align: right;\n",
       "    }\n",
       "</style>\n",
       "<table border=\"1\" class=\"dataframe\">\n",
       "  <thead>\n",
       "    <tr style=\"text-align: right;\">\n",
       "      <th></th>\n",
       "      <th>date</th>\n",
       "      <th>store_nbr</th>\n",
       "      <th>transactions</th>\n",
       "    </tr>\n",
       "  </thead>\n",
       "  <tbody>\n",
       "    <tr>\n",
       "      <th>0</th>\n",
       "      <td>2013-01-01</td>\n",
       "      <td>25</td>\n",
       "      <td>770</td>\n",
       "    </tr>\n",
       "    <tr>\n",
       "      <th>1</th>\n",
       "      <td>2013-01-02</td>\n",
       "      <td>1</td>\n",
       "      <td>2111</td>\n",
       "    </tr>\n",
       "    <tr>\n",
       "      <th>2</th>\n",
       "      <td>2013-01-02</td>\n",
       "      <td>2</td>\n",
       "      <td>2358</td>\n",
       "    </tr>\n",
       "    <tr>\n",
       "      <th>3</th>\n",
       "      <td>2013-01-02</td>\n",
       "      <td>3</td>\n",
       "      <td>3487</td>\n",
       "    </tr>\n",
       "    <tr>\n",
       "      <th>4</th>\n",
       "      <td>2013-01-02</td>\n",
       "      <td>4</td>\n",
       "      <td>1922</td>\n",
       "    </tr>\n",
       "    <tr>\n",
       "      <th>...</th>\n",
       "      <td>...</td>\n",
       "      <td>...</td>\n",
       "      <td>...</td>\n",
       "    </tr>\n",
       "    <tr>\n",
       "      <th>83483</th>\n",
       "      <td>2017-08-15</td>\n",
       "      <td>50</td>\n",
       "      <td>2804</td>\n",
       "    </tr>\n",
       "    <tr>\n",
       "      <th>83484</th>\n",
       "      <td>2017-08-15</td>\n",
       "      <td>51</td>\n",
       "      <td>1573</td>\n",
       "    </tr>\n",
       "    <tr>\n",
       "      <th>83485</th>\n",
       "      <td>2017-08-15</td>\n",
       "      <td>52</td>\n",
       "      <td>2255</td>\n",
       "    </tr>\n",
       "    <tr>\n",
       "      <th>83486</th>\n",
       "      <td>2017-08-15</td>\n",
       "      <td>53</td>\n",
       "      <td>932</td>\n",
       "    </tr>\n",
       "    <tr>\n",
       "      <th>83487</th>\n",
       "      <td>2017-08-15</td>\n",
       "      <td>54</td>\n",
       "      <td>802</td>\n",
       "    </tr>\n",
       "  </tbody>\n",
       "</table>\n",
       "<p>83488 rows × 3 columns</p>\n",
       "</div>"
      ],
      "text/plain": [
       "             date  store_nbr  transactions\n",
       "0      2013-01-01         25           770\n",
       "1      2013-01-02          1          2111\n",
       "2      2013-01-02          2          2358\n",
       "3      2013-01-02          3          3487\n",
       "4      2013-01-02          4          1922\n",
       "...           ...        ...           ...\n",
       "83483  2017-08-15         50          2804\n",
       "83484  2017-08-15         51          1573\n",
       "83485  2017-08-15         52          2255\n",
       "83486  2017-08-15         53           932\n",
       "83487  2017-08-15         54           802\n",
       "\n",
       "[83488 rows x 3 columns]"
      ]
     },
     "execution_count": 5,
     "metadata": {},
     "output_type": "execute_result"
    }
   ],
   "source": [
    "transactions_df"
   ]
  },
  {
   "cell_type": "code",
   "execution_count": 6,
   "id": "bce8de7c",
   "metadata": {
    "execution": {
     "iopub.execute_input": "2022-04-16T14:00:44.699628Z",
     "iopub.status.busy": "2022-04-16T14:00:44.698869Z",
     "iopub.status.idle": "2022-04-16T14:00:44.702028Z",
     "shell.execute_reply": "2022-04-16T14:00:44.702510Z",
     "shell.execute_reply.started": "2022-04-16T13:04:06.302211Z"
    },
    "papermill": {
     "duration": 0.094647,
     "end_time": "2022-04-16T14:00:44.702680",
     "exception": false,
     "start_time": "2022-04-16T14:00:44.608033",
     "status": "completed"
    },
    "tags": []
   },
   "outputs": [
    {
     "data": {
      "text/html": [
       "<div>\n",
       "<style scoped>\n",
       "    .dataframe tbody tr th:only-of-type {\n",
       "        vertical-align: middle;\n",
       "    }\n",
       "\n",
       "    .dataframe tbody tr th {\n",
       "        vertical-align: top;\n",
       "    }\n",
       "\n",
       "    .dataframe thead th {\n",
       "        text-align: right;\n",
       "    }\n",
       "</style>\n",
       "<table border=\"1\" class=\"dataframe\">\n",
       "  <thead>\n",
       "    <tr style=\"text-align: right;\">\n",
       "      <th></th>\n",
       "      <th>id</th>\n",
       "      <th>date</th>\n",
       "      <th>store_nbr</th>\n",
       "      <th>family</th>\n",
       "      <th>sales</th>\n",
       "      <th>onpromotion</th>\n",
       "    </tr>\n",
       "  </thead>\n",
       "  <tbody>\n",
       "    <tr>\n",
       "      <th>0</th>\n",
       "      <td>0</td>\n",
       "      <td>2013-01-01</td>\n",
       "      <td>1</td>\n",
       "      <td>AUTOMOTIVE</td>\n",
       "      <td>0.000</td>\n",
       "      <td>0</td>\n",
       "    </tr>\n",
       "    <tr>\n",
       "      <th>1</th>\n",
       "      <td>1</td>\n",
       "      <td>2013-01-01</td>\n",
       "      <td>1</td>\n",
       "      <td>BABY CARE</td>\n",
       "      <td>0.000</td>\n",
       "      <td>0</td>\n",
       "    </tr>\n",
       "    <tr>\n",
       "      <th>2</th>\n",
       "      <td>2</td>\n",
       "      <td>2013-01-01</td>\n",
       "      <td>1</td>\n",
       "      <td>BEAUTY</td>\n",
       "      <td>0.000</td>\n",
       "      <td>0</td>\n",
       "    </tr>\n",
       "    <tr>\n",
       "      <th>3</th>\n",
       "      <td>3</td>\n",
       "      <td>2013-01-01</td>\n",
       "      <td>1</td>\n",
       "      <td>BEVERAGES</td>\n",
       "      <td>0.000</td>\n",
       "      <td>0</td>\n",
       "    </tr>\n",
       "    <tr>\n",
       "      <th>4</th>\n",
       "      <td>4</td>\n",
       "      <td>2013-01-01</td>\n",
       "      <td>1</td>\n",
       "      <td>BOOKS</td>\n",
       "      <td>0.000</td>\n",
       "      <td>0</td>\n",
       "    </tr>\n",
       "    <tr>\n",
       "      <th>...</th>\n",
       "      <td>...</td>\n",
       "      <td>...</td>\n",
       "      <td>...</td>\n",
       "      <td>...</td>\n",
       "      <td>...</td>\n",
       "      <td>...</td>\n",
       "    </tr>\n",
       "    <tr>\n",
       "      <th>3000883</th>\n",
       "      <td>3000883</td>\n",
       "      <td>2017-08-15</td>\n",
       "      <td>9</td>\n",
       "      <td>POULTRY</td>\n",
       "      <td>438.133</td>\n",
       "      <td>0</td>\n",
       "    </tr>\n",
       "    <tr>\n",
       "      <th>3000884</th>\n",
       "      <td>3000884</td>\n",
       "      <td>2017-08-15</td>\n",
       "      <td>9</td>\n",
       "      <td>PREPARED FOODS</td>\n",
       "      <td>154.553</td>\n",
       "      <td>1</td>\n",
       "    </tr>\n",
       "    <tr>\n",
       "      <th>3000885</th>\n",
       "      <td>3000885</td>\n",
       "      <td>2017-08-15</td>\n",
       "      <td>9</td>\n",
       "      <td>PRODUCE</td>\n",
       "      <td>2419.729</td>\n",
       "      <td>148</td>\n",
       "    </tr>\n",
       "    <tr>\n",
       "      <th>3000886</th>\n",
       "      <td>3000886</td>\n",
       "      <td>2017-08-15</td>\n",
       "      <td>9</td>\n",
       "      <td>SCHOOL AND OFFICE SUPPLIES</td>\n",
       "      <td>121.000</td>\n",
       "      <td>8</td>\n",
       "    </tr>\n",
       "    <tr>\n",
       "      <th>3000887</th>\n",
       "      <td>3000887</td>\n",
       "      <td>2017-08-15</td>\n",
       "      <td>9</td>\n",
       "      <td>SEAFOOD</td>\n",
       "      <td>16.000</td>\n",
       "      <td>0</td>\n",
       "    </tr>\n",
       "  </tbody>\n",
       "</table>\n",
       "<p>3000888 rows × 6 columns</p>\n",
       "</div>"
      ],
      "text/plain": [
       "              id        date  store_nbr                      family     sales  \\\n",
       "0              0  2013-01-01          1                  AUTOMOTIVE     0.000   \n",
       "1              1  2013-01-01          1                   BABY CARE     0.000   \n",
       "2              2  2013-01-01          1                      BEAUTY     0.000   \n",
       "3              3  2013-01-01          1                   BEVERAGES     0.000   \n",
       "4              4  2013-01-01          1                       BOOKS     0.000   \n",
       "...          ...         ...        ...                         ...       ...   \n",
       "3000883  3000883  2017-08-15          9                     POULTRY   438.133   \n",
       "3000884  3000884  2017-08-15          9              PREPARED FOODS   154.553   \n",
       "3000885  3000885  2017-08-15          9                     PRODUCE  2419.729   \n",
       "3000886  3000886  2017-08-15          9  SCHOOL AND OFFICE SUPPLIES   121.000   \n",
       "3000887  3000887  2017-08-15          9                     SEAFOOD    16.000   \n",
       "\n",
       "         onpromotion  \n",
       "0                  0  \n",
       "1                  0  \n",
       "2                  0  \n",
       "3                  0  \n",
       "4                  0  \n",
       "...              ...  \n",
       "3000883            0  \n",
       "3000884            1  \n",
       "3000885          148  \n",
       "3000886            8  \n",
       "3000887            0  \n",
       "\n",
       "[3000888 rows x 6 columns]"
      ]
     },
     "execution_count": 6,
     "metadata": {},
     "output_type": "execute_result"
    }
   ],
   "source": [
    "train_df"
   ]
  },
  {
   "cell_type": "code",
   "execution_count": 7,
   "id": "af00639c",
   "metadata": {
    "execution": {
     "iopub.execute_input": "2022-04-16T14:00:44.864775Z",
     "iopub.status.busy": "2022-04-16T14:00:44.864149Z",
     "iopub.status.idle": "2022-04-16T14:00:44.869487Z",
     "shell.execute_reply": "2022-04-16T14:00:44.869022Z",
     "shell.execute_reply.started": "2022-04-16T13:04:06.330542Z"
    },
    "papermill": {
     "duration": 0.09214,
     "end_time": "2022-04-16T14:00:44.869613",
     "exception": false,
     "start_time": "2022-04-16T14:00:44.777473",
     "status": "completed"
    },
    "tags": []
   },
   "outputs": [
    {
     "data": {
      "text/html": [
       "<div>\n",
       "<style scoped>\n",
       "    .dataframe tbody tr th:only-of-type {\n",
       "        vertical-align: middle;\n",
       "    }\n",
       "\n",
       "    .dataframe tbody tr th {\n",
       "        vertical-align: top;\n",
       "    }\n",
       "\n",
       "    .dataframe thead th {\n",
       "        text-align: right;\n",
       "    }\n",
       "</style>\n",
       "<table border=\"1\" class=\"dataframe\">\n",
       "  <thead>\n",
       "    <tr style=\"text-align: right;\">\n",
       "      <th></th>\n",
       "      <th>id</th>\n",
       "      <th>date</th>\n",
       "      <th>store_nbr</th>\n",
       "      <th>family</th>\n",
       "      <th>onpromotion</th>\n",
       "    </tr>\n",
       "  </thead>\n",
       "  <tbody>\n",
       "    <tr>\n",
       "      <th>0</th>\n",
       "      <td>3000888</td>\n",
       "      <td>2017-08-16</td>\n",
       "      <td>1</td>\n",
       "      <td>AUTOMOTIVE</td>\n",
       "      <td>0</td>\n",
       "    </tr>\n",
       "    <tr>\n",
       "      <th>1</th>\n",
       "      <td>3000889</td>\n",
       "      <td>2017-08-16</td>\n",
       "      <td>1</td>\n",
       "      <td>BABY CARE</td>\n",
       "      <td>0</td>\n",
       "    </tr>\n",
       "    <tr>\n",
       "      <th>2</th>\n",
       "      <td>3000890</td>\n",
       "      <td>2017-08-16</td>\n",
       "      <td>1</td>\n",
       "      <td>BEAUTY</td>\n",
       "      <td>2</td>\n",
       "    </tr>\n",
       "    <tr>\n",
       "      <th>3</th>\n",
       "      <td>3000891</td>\n",
       "      <td>2017-08-16</td>\n",
       "      <td>1</td>\n",
       "      <td>BEVERAGES</td>\n",
       "      <td>20</td>\n",
       "    </tr>\n",
       "    <tr>\n",
       "      <th>4</th>\n",
       "      <td>3000892</td>\n",
       "      <td>2017-08-16</td>\n",
       "      <td>1</td>\n",
       "      <td>BOOKS</td>\n",
       "      <td>0</td>\n",
       "    </tr>\n",
       "    <tr>\n",
       "      <th>...</th>\n",
       "      <td>...</td>\n",
       "      <td>...</td>\n",
       "      <td>...</td>\n",
       "      <td>...</td>\n",
       "      <td>...</td>\n",
       "    </tr>\n",
       "    <tr>\n",
       "      <th>28507</th>\n",
       "      <td>3029395</td>\n",
       "      <td>2017-08-31</td>\n",
       "      <td>9</td>\n",
       "      <td>POULTRY</td>\n",
       "      <td>1</td>\n",
       "    </tr>\n",
       "    <tr>\n",
       "      <th>28508</th>\n",
       "      <td>3029396</td>\n",
       "      <td>2017-08-31</td>\n",
       "      <td>9</td>\n",
       "      <td>PREPARED FOODS</td>\n",
       "      <td>0</td>\n",
       "    </tr>\n",
       "    <tr>\n",
       "      <th>28509</th>\n",
       "      <td>3029397</td>\n",
       "      <td>2017-08-31</td>\n",
       "      <td>9</td>\n",
       "      <td>PRODUCE</td>\n",
       "      <td>1</td>\n",
       "    </tr>\n",
       "    <tr>\n",
       "      <th>28510</th>\n",
       "      <td>3029398</td>\n",
       "      <td>2017-08-31</td>\n",
       "      <td>9</td>\n",
       "      <td>SCHOOL AND OFFICE SUPPLIES</td>\n",
       "      <td>9</td>\n",
       "    </tr>\n",
       "    <tr>\n",
       "      <th>28511</th>\n",
       "      <td>3029399</td>\n",
       "      <td>2017-08-31</td>\n",
       "      <td>9</td>\n",
       "      <td>SEAFOOD</td>\n",
       "      <td>0</td>\n",
       "    </tr>\n",
       "  </tbody>\n",
       "</table>\n",
       "<p>28512 rows × 5 columns</p>\n",
       "</div>"
      ],
      "text/plain": [
       "            id        date  store_nbr                      family  onpromotion\n",
       "0      3000888  2017-08-16          1                  AUTOMOTIVE            0\n",
       "1      3000889  2017-08-16          1                   BABY CARE            0\n",
       "2      3000890  2017-08-16          1                      BEAUTY            2\n",
       "3      3000891  2017-08-16          1                   BEVERAGES           20\n",
       "4      3000892  2017-08-16          1                       BOOKS            0\n",
       "...        ...         ...        ...                         ...          ...\n",
       "28507  3029395  2017-08-31          9                     POULTRY            1\n",
       "28508  3029396  2017-08-31          9              PREPARED FOODS            0\n",
       "28509  3029397  2017-08-31          9                     PRODUCE            1\n",
       "28510  3029398  2017-08-31          9  SCHOOL AND OFFICE SUPPLIES            9\n",
       "28511  3029399  2017-08-31          9                     SEAFOOD            0\n",
       "\n",
       "[28512 rows x 5 columns]"
      ]
     },
     "execution_count": 7,
     "metadata": {},
     "output_type": "execute_result"
    }
   ],
   "source": [
    "test_df"
   ]
  },
  {
   "cell_type": "code",
   "execution_count": 8,
   "id": "21060540",
   "metadata": {
    "execution": {
     "iopub.execute_input": "2022-04-16T14:00:45.027661Z",
     "iopub.status.busy": "2022-04-16T14:00:45.026762Z",
     "iopub.status.idle": "2022-04-16T14:00:45.031412Z",
     "shell.execute_reply": "2022-04-16T14:00:45.030846Z",
     "shell.execute_reply.started": "2022-04-16T13:04:06.351801Z"
    },
    "papermill": {
     "duration": 0.089759,
     "end_time": "2022-04-16T14:00:45.031541",
     "exception": false,
     "start_time": "2022-04-16T14:00:44.941782",
     "status": "completed"
    },
    "tags": []
   },
   "outputs": [
    {
     "data": {
      "text/html": [
       "<div>\n",
       "<style scoped>\n",
       "    .dataframe tbody tr th:only-of-type {\n",
       "        vertical-align: middle;\n",
       "    }\n",
       "\n",
       "    .dataframe tbody tr th {\n",
       "        vertical-align: top;\n",
       "    }\n",
       "\n",
       "    .dataframe thead th {\n",
       "        text-align: right;\n",
       "    }\n",
       "</style>\n",
       "<table border=\"1\" class=\"dataframe\">\n",
       "  <thead>\n",
       "    <tr style=\"text-align: right;\">\n",
       "      <th></th>\n",
       "      <th>date</th>\n",
       "      <th>dcoilwtico</th>\n",
       "    </tr>\n",
       "  </thead>\n",
       "  <tbody>\n",
       "    <tr>\n",
       "      <th>0</th>\n",
       "      <td>2013-01-01</td>\n",
       "      <td>NaN</td>\n",
       "    </tr>\n",
       "    <tr>\n",
       "      <th>1</th>\n",
       "      <td>2013-01-02</td>\n",
       "      <td>93.14</td>\n",
       "    </tr>\n",
       "    <tr>\n",
       "      <th>2</th>\n",
       "      <td>2013-01-03</td>\n",
       "      <td>92.97</td>\n",
       "    </tr>\n",
       "    <tr>\n",
       "      <th>3</th>\n",
       "      <td>2013-01-04</td>\n",
       "      <td>93.12</td>\n",
       "    </tr>\n",
       "    <tr>\n",
       "      <th>4</th>\n",
       "      <td>2013-01-07</td>\n",
       "      <td>93.20</td>\n",
       "    </tr>\n",
       "    <tr>\n",
       "      <th>...</th>\n",
       "      <td>...</td>\n",
       "      <td>...</td>\n",
       "    </tr>\n",
       "    <tr>\n",
       "      <th>1213</th>\n",
       "      <td>2017-08-25</td>\n",
       "      <td>47.65</td>\n",
       "    </tr>\n",
       "    <tr>\n",
       "      <th>1214</th>\n",
       "      <td>2017-08-28</td>\n",
       "      <td>46.40</td>\n",
       "    </tr>\n",
       "    <tr>\n",
       "      <th>1215</th>\n",
       "      <td>2017-08-29</td>\n",
       "      <td>46.46</td>\n",
       "    </tr>\n",
       "    <tr>\n",
       "      <th>1216</th>\n",
       "      <td>2017-08-30</td>\n",
       "      <td>45.96</td>\n",
       "    </tr>\n",
       "    <tr>\n",
       "      <th>1217</th>\n",
       "      <td>2017-08-31</td>\n",
       "      <td>47.26</td>\n",
       "    </tr>\n",
       "  </tbody>\n",
       "</table>\n",
       "<p>1218 rows × 2 columns</p>\n",
       "</div>"
      ],
      "text/plain": [
       "            date  dcoilwtico\n",
       "0     2013-01-01         NaN\n",
       "1     2013-01-02       93.14\n",
       "2     2013-01-03       92.97\n",
       "3     2013-01-04       93.12\n",
       "4     2013-01-07       93.20\n",
       "...          ...         ...\n",
       "1213  2017-08-25       47.65\n",
       "1214  2017-08-28       46.40\n",
       "1215  2017-08-29       46.46\n",
       "1216  2017-08-30       45.96\n",
       "1217  2017-08-31       47.26\n",
       "\n",
       "[1218 rows x 2 columns]"
      ]
     },
     "execution_count": 8,
     "metadata": {},
     "output_type": "execute_result"
    }
   ],
   "source": [
    "oil_df"
   ]
  },
  {
   "cell_type": "code",
   "execution_count": 9,
   "id": "0dcc2246",
   "metadata": {
    "execution": {
     "iopub.execute_input": "2022-04-16T14:00:45.189941Z",
     "iopub.status.busy": "2022-04-16T14:00:45.189092Z",
     "iopub.status.idle": "2022-04-16T14:00:45.193487Z",
     "shell.execute_reply": "2022-04-16T14:00:45.192949Z",
     "shell.execute_reply.started": "2022-04-16T13:04:06.382037Z"
    },
    "papermill": {
     "duration": 0.087903,
     "end_time": "2022-04-16T14:00:45.193609",
     "exception": false,
     "start_time": "2022-04-16T14:00:45.105706",
     "status": "completed"
    },
    "tags": []
   },
   "outputs": [
    {
     "data": {
      "text/html": [
       "<div>\n",
       "<style scoped>\n",
       "    .dataframe tbody tr th:only-of-type {\n",
       "        vertical-align: middle;\n",
       "    }\n",
       "\n",
       "    .dataframe tbody tr th {\n",
       "        vertical-align: top;\n",
       "    }\n",
       "\n",
       "    .dataframe thead th {\n",
       "        text-align: right;\n",
       "    }\n",
       "</style>\n",
       "<table border=\"1\" class=\"dataframe\">\n",
       "  <thead>\n",
       "    <tr style=\"text-align: right;\">\n",
       "      <th></th>\n",
       "      <th>id</th>\n",
       "      <th>sales</th>\n",
       "    </tr>\n",
       "  </thead>\n",
       "  <tbody>\n",
       "    <tr>\n",
       "      <th>0</th>\n",
       "      <td>3000888</td>\n",
       "      <td>0.0</td>\n",
       "    </tr>\n",
       "    <tr>\n",
       "      <th>1</th>\n",
       "      <td>3000889</td>\n",
       "      <td>0.0</td>\n",
       "    </tr>\n",
       "    <tr>\n",
       "      <th>2</th>\n",
       "      <td>3000890</td>\n",
       "      <td>0.0</td>\n",
       "    </tr>\n",
       "    <tr>\n",
       "      <th>3</th>\n",
       "      <td>3000891</td>\n",
       "      <td>0.0</td>\n",
       "    </tr>\n",
       "    <tr>\n",
       "      <th>4</th>\n",
       "      <td>3000892</td>\n",
       "      <td>0.0</td>\n",
       "    </tr>\n",
       "    <tr>\n",
       "      <th>...</th>\n",
       "      <td>...</td>\n",
       "      <td>...</td>\n",
       "    </tr>\n",
       "    <tr>\n",
       "      <th>28507</th>\n",
       "      <td>3029395</td>\n",
       "      <td>0.0</td>\n",
       "    </tr>\n",
       "    <tr>\n",
       "      <th>28508</th>\n",
       "      <td>3029396</td>\n",
       "      <td>0.0</td>\n",
       "    </tr>\n",
       "    <tr>\n",
       "      <th>28509</th>\n",
       "      <td>3029397</td>\n",
       "      <td>0.0</td>\n",
       "    </tr>\n",
       "    <tr>\n",
       "      <th>28510</th>\n",
       "      <td>3029398</td>\n",
       "      <td>0.0</td>\n",
       "    </tr>\n",
       "    <tr>\n",
       "      <th>28511</th>\n",
       "      <td>3029399</td>\n",
       "      <td>0.0</td>\n",
       "    </tr>\n",
       "  </tbody>\n",
       "</table>\n",
       "<p>28512 rows × 2 columns</p>\n",
       "</div>"
      ],
      "text/plain": [
       "            id  sales\n",
       "0      3000888    0.0\n",
       "1      3000889    0.0\n",
       "2      3000890    0.0\n",
       "3      3000891    0.0\n",
       "4      3000892    0.0\n",
       "...        ...    ...\n",
       "28507  3029395    0.0\n",
       "28508  3029396    0.0\n",
       "28509  3029397    0.0\n",
       "28510  3029398    0.0\n",
       "28511  3029399    0.0\n",
       "\n",
       "[28512 rows x 2 columns]"
      ]
     },
     "execution_count": 9,
     "metadata": {},
     "output_type": "execute_result"
    }
   ],
   "source": [
    "sample_submission_df"
   ]
  },
  {
   "cell_type": "markdown",
   "id": "9d97a56d",
   "metadata": {
    "papermill": {
     "duration": 0.073129,
     "end_time": "2022-04-16T14:00:45.339788",
     "exception": false,
     "start_time": "2022-04-16T14:00:45.266659",
     "status": "completed"
    },
    "tags": []
   },
   "source": [
    "## Examining the data\n",
    "### Holiday events"
   ]
  },
  {
   "cell_type": "code",
   "execution_count": 10,
   "id": "d1fca4fb",
   "metadata": {
    "execution": {
     "iopub.execute_input": "2022-04-16T14:00:45.500234Z",
     "iopub.status.busy": "2022-04-16T14:00:45.499392Z",
     "iopub.status.idle": "2022-04-16T14:00:45.502809Z",
     "shell.execute_reply": "2022-04-16T14:00:45.503342Z",
     "shell.execute_reply.started": "2022-04-16T13:04:06.403819Z"
    },
    "papermill": {
     "duration": 0.090371,
     "end_time": "2022-04-16T14:00:45.503505",
     "exception": false,
     "start_time": "2022-04-16T14:00:45.413134",
     "status": "completed"
    },
    "tags": []
   },
   "outputs": [
    {
     "data": {
      "text/html": [
       "<div>\n",
       "<style scoped>\n",
       "    .dataframe tbody tr th:only-of-type {\n",
       "        vertical-align: middle;\n",
       "    }\n",
       "\n",
       "    .dataframe tbody tr th {\n",
       "        vertical-align: top;\n",
       "    }\n",
       "\n",
       "    .dataframe thead th {\n",
       "        text-align: right;\n",
       "    }\n",
       "</style>\n",
       "<table border=\"1\" class=\"dataframe\">\n",
       "  <thead>\n",
       "    <tr style=\"text-align: right;\">\n",
       "      <th></th>\n",
       "      <th>date</th>\n",
       "      <th>type</th>\n",
       "      <th>locale</th>\n",
       "      <th>locale_name</th>\n",
       "      <th>description</th>\n",
       "      <th>transferred</th>\n",
       "    </tr>\n",
       "  </thead>\n",
       "  <tbody>\n",
       "    <tr>\n",
       "      <th>0</th>\n",
       "      <td>2012-03-02</td>\n",
       "      <td>Holiday</td>\n",
       "      <td>Local</td>\n",
       "      <td>Manta</td>\n",
       "      <td>Fundacion de Manta</td>\n",
       "      <td>False</td>\n",
       "    </tr>\n",
       "    <tr>\n",
       "      <th>1</th>\n",
       "      <td>2012-04-01</td>\n",
       "      <td>Holiday</td>\n",
       "      <td>Regional</td>\n",
       "      <td>Cotopaxi</td>\n",
       "      <td>Provincializacion de Cotopaxi</td>\n",
       "      <td>False</td>\n",
       "    </tr>\n",
       "    <tr>\n",
       "      <th>2</th>\n",
       "      <td>2012-04-12</td>\n",
       "      <td>Holiday</td>\n",
       "      <td>Local</td>\n",
       "      <td>Cuenca</td>\n",
       "      <td>Fundacion de Cuenca</td>\n",
       "      <td>False</td>\n",
       "    </tr>\n",
       "    <tr>\n",
       "      <th>3</th>\n",
       "      <td>2012-04-14</td>\n",
       "      <td>Holiday</td>\n",
       "      <td>Local</td>\n",
       "      <td>Libertad</td>\n",
       "      <td>Cantonizacion de Libertad</td>\n",
       "      <td>False</td>\n",
       "    </tr>\n",
       "    <tr>\n",
       "      <th>4</th>\n",
       "      <td>2012-04-21</td>\n",
       "      <td>Holiday</td>\n",
       "      <td>Local</td>\n",
       "      <td>Riobamba</td>\n",
       "      <td>Cantonizacion de Riobamba</td>\n",
       "      <td>False</td>\n",
       "    </tr>\n",
       "    <tr>\n",
       "      <th>...</th>\n",
       "      <td>...</td>\n",
       "      <td>...</td>\n",
       "      <td>...</td>\n",
       "      <td>...</td>\n",
       "      <td>...</td>\n",
       "      <td>...</td>\n",
       "    </tr>\n",
       "    <tr>\n",
       "      <th>345</th>\n",
       "      <td>2017-12-22</td>\n",
       "      <td>Additional</td>\n",
       "      <td>National</td>\n",
       "      <td>Ecuador</td>\n",
       "      <td>Navidad-3</td>\n",
       "      <td>False</td>\n",
       "    </tr>\n",
       "    <tr>\n",
       "      <th>346</th>\n",
       "      <td>2017-12-23</td>\n",
       "      <td>Additional</td>\n",
       "      <td>National</td>\n",
       "      <td>Ecuador</td>\n",
       "      <td>Navidad-2</td>\n",
       "      <td>False</td>\n",
       "    </tr>\n",
       "    <tr>\n",
       "      <th>347</th>\n",
       "      <td>2017-12-24</td>\n",
       "      <td>Additional</td>\n",
       "      <td>National</td>\n",
       "      <td>Ecuador</td>\n",
       "      <td>Navidad-1</td>\n",
       "      <td>False</td>\n",
       "    </tr>\n",
       "    <tr>\n",
       "      <th>348</th>\n",
       "      <td>2017-12-25</td>\n",
       "      <td>Holiday</td>\n",
       "      <td>National</td>\n",
       "      <td>Ecuador</td>\n",
       "      <td>Navidad</td>\n",
       "      <td>False</td>\n",
       "    </tr>\n",
       "    <tr>\n",
       "      <th>349</th>\n",
       "      <td>2017-12-26</td>\n",
       "      <td>Additional</td>\n",
       "      <td>National</td>\n",
       "      <td>Ecuador</td>\n",
       "      <td>Navidad+1</td>\n",
       "      <td>False</td>\n",
       "    </tr>\n",
       "  </tbody>\n",
       "</table>\n",
       "<p>350 rows × 6 columns</p>\n",
       "</div>"
      ],
      "text/plain": [
       "           date        type    locale locale_name  \\\n",
       "0    2012-03-02     Holiday     Local       Manta   \n",
       "1    2012-04-01     Holiday  Regional    Cotopaxi   \n",
       "2    2012-04-12     Holiday     Local      Cuenca   \n",
       "3    2012-04-14     Holiday     Local    Libertad   \n",
       "4    2012-04-21     Holiday     Local    Riobamba   \n",
       "..          ...         ...       ...         ...   \n",
       "345  2017-12-22  Additional  National     Ecuador   \n",
       "346  2017-12-23  Additional  National     Ecuador   \n",
       "347  2017-12-24  Additional  National     Ecuador   \n",
       "348  2017-12-25     Holiday  National     Ecuador   \n",
       "349  2017-12-26  Additional  National     Ecuador   \n",
       "\n",
       "                       description  transferred  \n",
       "0               Fundacion de Manta        False  \n",
       "1    Provincializacion de Cotopaxi        False  \n",
       "2              Fundacion de Cuenca        False  \n",
       "3        Cantonizacion de Libertad        False  \n",
       "4        Cantonizacion de Riobamba        False  \n",
       "..                             ...          ...  \n",
       "345                      Navidad-3        False  \n",
       "346                      Navidad-2        False  \n",
       "347                      Navidad-1        False  \n",
       "348                        Navidad        False  \n",
       "349                      Navidad+1        False  \n",
       "\n",
       "[350 rows x 6 columns]"
      ]
     },
     "execution_count": 10,
     "metadata": {},
     "output_type": "execute_result"
    }
   ],
   "source": [
    "holiday_events_df"
   ]
  },
  {
   "cell_type": "code",
   "execution_count": 11,
   "id": "6080a96f",
   "metadata": {
    "execution": {
     "iopub.execute_input": "2022-04-16T14:00:45.674916Z",
     "iopub.status.busy": "2022-04-16T14:00:45.674220Z",
     "iopub.status.idle": "2022-04-16T14:00:45.677479Z",
     "shell.execute_reply": "2022-04-16T14:00:45.677936Z",
     "shell.execute_reply.started": "2022-04-16T13:04:06.428748Z"
    },
    "papermill": {
     "duration": 0.099481,
     "end_time": "2022-04-16T14:00:45.678139",
     "exception": false,
     "start_time": "2022-04-16T14:00:45.578658",
     "status": "completed"
    },
    "tags": []
   },
   "outputs": [
    {
     "name": "stdout",
     "output_type": "stream",
     "text": [
      "<class 'pandas.core.frame.DataFrame'>\n",
      "RangeIndex: 350 entries, 0 to 349\n",
      "Data columns (total 6 columns):\n",
      " #   Column       Non-Null Count  Dtype \n",
      "---  ------       --------------  ----- \n",
      " 0   date         350 non-null    object\n",
      " 1   type         350 non-null    object\n",
      " 2   locale       350 non-null    object\n",
      " 3   locale_name  350 non-null    object\n",
      " 4   description  350 non-null    object\n",
      " 5   transferred  350 non-null    bool  \n",
      "dtypes: bool(1), object(5)\n",
      "memory usage: 14.1+ KB\n"
     ]
    }
   ],
   "source": [
    "holiday_events_df.info()"
   ]
  },
  {
   "cell_type": "code",
   "execution_count": 12,
   "id": "ade609dd",
   "metadata": {
    "execution": {
     "iopub.execute_input": "2022-04-16T14:00:45.839761Z",
     "iopub.status.busy": "2022-04-16T14:00:45.835299Z",
     "iopub.status.idle": "2022-04-16T14:00:46.127425Z",
     "shell.execute_reply": "2022-04-16T14:00:46.128458Z",
     "shell.execute_reply.started": "2022-04-16T13:04:06.453993Z"
    },
    "papermill": {
     "duration": 0.374304,
     "end_time": "2022-04-16T14:00:46.128737",
     "exception": false,
     "start_time": "2022-04-16T14:00:45.754433",
     "status": "completed"
    },
    "tags": []
   },
   "outputs": [
    {
     "data": {
      "text/plain": [
       "<AxesSubplot:>"
      ]
     },
     "execution_count": 12,
     "metadata": {},
     "output_type": "execute_result"
    },
    {
     "data": {
      "image/png": "[encoded data removed]",
      "text/plain": [
       "<Figure size 360x360 with 2 Axes>"
      ]
     },
     "metadata": {
      "needs_background": "light"
     },
     "output_type": "display_data"
    }
   ],
   "source": [
    "msno.matrix(holiday_events_df, figsize=(5,5))"
   ]
  },
  {
   "cell_type": "markdown",
   "id": "04435ab4",
   "metadata": {
    "papermill": {
     "duration": 0.076021,
     "end_time": "2022-04-16T14:00:46.304761",
     "exception": false,
     "start_time": "2022-04-16T14:00:46.228740",
     "status": "completed"
    },
    "tags": []
   },
   "source": [
    "There are no null values but we would ideally want to change the date column's datatype to Date so we can do more with it and to ensure the data is good to use (no invalid date values)."
   ]
  },
  {
   "cell_type": "code",
   "execution_count": 13,
   "id": "976ab0bd",
   "metadata": {
    "execution": {
     "iopub.execute_input": "2022-04-16T14:00:46.463647Z",
     "iopub.status.busy": "2022-04-16T14:00:46.462747Z",
     "iopub.status.idle": "2022-04-16T14:00:46.473817Z",
     "shell.execute_reply": "2022-04-16T14:00:46.474471Z",
     "shell.execute_reply.started": "2022-04-16T13:04:06.695540Z"
    },
    "papermill": {
     "duration": 0.093456,
     "end_time": "2022-04-16T14:00:46.474737",
     "exception": false,
     "start_time": "2022-04-16T14:00:46.381281",
     "status": "completed"
    },
    "tags": []
   },
   "outputs": [
    {
     "name": "stdout",
     "output_type": "stream",
     "text": [
      "<class 'pandas.core.frame.DataFrame'>\n",
      "RangeIndex: 350 entries, 0 to 349\n",
      "Data columns (total 6 columns):\n",
      " #   Column       Non-Null Count  Dtype         \n",
      "---  ------       --------------  -----         \n",
      " 0   date         350 non-null    datetime64[ns]\n",
      " 1   type         350 non-null    object        \n",
      " 2   locale       350 non-null    object        \n",
      " 3   locale_name  350 non-null    object        \n",
      " 4   description  350 non-null    object        \n",
      " 5   transferred  350 non-null    bool          \n",
      "dtypes: bool(1), datetime64[ns](1), object(4)\n",
      "memory usage: 14.1+ KB\n"
     ]
    }
   ],
   "source": [
    "holiday_events_df['date'] = pd.to_datetime(holiday_events_df['date'])\n",
    "holiday_events_df.info()"
   ]
  },
  {
   "cell_type": "code",
   "execution_count": 14,
   "id": "e1c765d0",
   "metadata": {
    "execution": {
     "iopub.execute_input": "2022-04-16T14:00:46.635456Z",
     "iopub.status.busy": "2022-04-16T14:00:46.634814Z",
     "iopub.status.idle": "2022-04-16T14:00:46.639942Z",
     "shell.execute_reply": "2022-04-16T14:00:46.640432Z",
     "shell.execute_reply.started": "2022-04-16T13:04:06.714138Z"
    },
    "papermill": {
     "duration": 0.087619,
     "end_time": "2022-04-16T14:00:46.640589",
     "exception": false,
     "start_time": "2022-04-16T14:00:46.552970",
     "status": "completed"
    },
    "tags": []
   },
   "outputs": [
    {
     "data": {
      "text/plain": [
       "Holiday       221\n",
       "Event          56\n",
       "Additional     51\n",
       "Transfer       12\n",
       "Work Day        5\n",
       "Bridge          5\n",
       "Name: type, dtype: int64"
      ]
     },
     "execution_count": 14,
     "metadata": {},
     "output_type": "execute_result"
    }
   ],
   "source": [
    "holiday_events_df['type'].value_counts()"
   ]
  },
  {
   "cell_type": "code",
   "execution_count": 15,
   "id": "c656cb3d",
   "metadata": {
    "execution": {
     "iopub.execute_input": "2022-04-16T14:00:46.803108Z",
     "iopub.status.busy": "2022-04-16T14:00:46.802472Z",
     "iopub.status.idle": "2022-04-16T14:00:46.805030Z",
     "shell.execute_reply": "2022-04-16T14:00:46.805565Z",
     "shell.execute_reply.started": "2022-04-16T13:04:06.727723Z"
    },
    "papermill": {
     "duration": 0.087657,
     "end_time": "2022-04-16T14:00:46.805727",
     "exception": false,
     "start_time": "2022-04-16T14:00:46.718070",
     "status": "completed"
    },
    "tags": []
   },
   "outputs": [
    {
     "data": {
      "text/plain": [
       "National    174\n",
       "Local       152\n",
       "Regional     24\n",
       "Name: locale, dtype: int64"
      ]
     },
     "execution_count": 15,
     "metadata": {},
     "output_type": "execute_result"
    }
   ],
   "source": [
    "holiday_events_df['locale'].value_counts()"
   ]
  },
  {
   "cell_type": "code",
   "execution_count": 16,
   "id": "b8879bfe",
   "metadata": {
    "execution": {
     "iopub.execute_input": "2022-04-16T14:00:46.964839Z",
     "iopub.status.busy": "2022-04-16T14:00:46.964247Z",
     "iopub.status.idle": "2022-04-16T14:00:46.970727Z",
     "shell.execute_reply": "2022-04-16T14:00:46.971179Z",
     "shell.execute_reply.started": "2022-04-16T13:04:06.738368Z"
    },
    "papermill": {
     "duration": 0.087403,
     "end_time": "2022-04-16T14:00:46.971337",
     "exception": false,
     "start_time": "2022-04-16T14:00:46.883934",
     "status": "completed"
    },
    "tags": []
   },
   "outputs": [
    {
     "data": {
      "text/plain": [
       "Ecuador                           174\n",
       "Quito                              13\n",
       "Guaranda                           12\n",
       "Ambato                             12\n",
       "Riobamba                           12\n",
       "Latacunga                          12\n",
       "Guayaquil                          11\n",
       "Ibarra                              7\n",
       "Cuenca                              7\n",
       "Santa Elena                         6\n",
       "Esmeraldas                          6\n",
       "Loja                                6\n",
       "Imbabura                            6\n",
       "El Carmen                           6\n",
       "Santo Domingo de los Tsachilas      6\n",
       "Machala                             6\n",
       "Cayambe                             6\n",
       "Manta                               6\n",
       "Santo Domingo                       6\n",
       "Salinas                             6\n",
       "Quevedo                             6\n",
       "Libertad                            6\n",
       "Puyo                                6\n",
       "Cotopaxi                            6\n",
       "Name: locale_name, dtype: int64"
      ]
     },
     "execution_count": 16,
     "metadata": {},
     "output_type": "execute_result"
    }
   ],
   "source": [
    "holiday_events_df['locale_name'].value_counts()"
   ]
  },
  {
   "cell_type": "markdown",
   "id": "4775be0e",
   "metadata": {
    "papermill": {
     "duration": 0.080439,
     "end_time": "2022-04-16T14:00:47.130182",
     "exception": false,
     "start_time": "2022-04-16T14:00:47.049743",
     "status": "completed"
    },
    "tags": []
   },
   "source": [
    "### Stores"
   ]
  },
  {
   "cell_type": "code",
   "execution_count": 17,
   "id": "cd4f6e72",
   "metadata": {
    "execution": {
     "iopub.execute_input": "2022-04-16T14:00:47.292995Z",
     "iopub.status.busy": "2022-04-16T14:00:47.292420Z",
     "iopub.status.idle": "2022-04-16T14:00:47.301309Z",
     "shell.execute_reply": "2022-04-16T14:00:47.301764Z",
     "shell.execute_reply.started": "2022-04-16T13:04:06.754736Z"
    },
    "papermill": {
     "duration": 0.091921,
     "end_time": "2022-04-16T14:00:47.301924",
     "exception": false,
     "start_time": "2022-04-16T14:00:47.210003",
     "status": "completed"
    },
    "tags": []
   },
   "outputs": [
    {
     "data": {
      "text/html": [
       "<div>\n",
       "<style scoped>\n",
       "    .dataframe tbody tr th:only-of-type {\n",
       "        vertical-align: middle;\n",
       "    }\n",
       "\n",
       "    .dataframe tbody tr th {\n",
       "        vertical-align: top;\n",
       "    }\n",
       "\n",
       "    .dataframe thead th {\n",
       "        text-align: right;\n",
       "    }\n",
       "</style>\n",
       "<table border=\"1\" class=\"dataframe\">\n",
       "  <thead>\n",
       "    <tr style=\"text-align: right;\">\n",
       "      <th></th>\n",
       "      <th>store_nbr</th>\n",
       "      <th>city</th>\n",
       "      <th>state</th>\n",
       "      <th>type</th>\n",
       "      <th>cluster</th>\n",
       "    </tr>\n",
       "  </thead>\n",
       "  <tbody>\n",
       "    <tr>\n",
       "      <th>0</th>\n",
       "      <td>1</td>\n",
       "      <td>Quito</td>\n",
       "      <td>Pichincha</td>\n",
       "      <td>D</td>\n",
       "      <td>13</td>\n",
       "    </tr>\n",
       "    <tr>\n",
       "      <th>1</th>\n",
       "      <td>2</td>\n",
       "      <td>Quito</td>\n",
       "      <td>Pichincha</td>\n",
       "      <td>D</td>\n",
       "      <td>13</td>\n",
       "    </tr>\n",
       "    <tr>\n",
       "      <th>2</th>\n",
       "      <td>3</td>\n",
       "      <td>Quito</td>\n",
       "      <td>Pichincha</td>\n",
       "      <td>D</td>\n",
       "      <td>8</td>\n",
       "    </tr>\n",
       "    <tr>\n",
       "      <th>3</th>\n",
       "      <td>4</td>\n",
       "      <td>Quito</td>\n",
       "      <td>Pichincha</td>\n",
       "      <td>D</td>\n",
       "      <td>9</td>\n",
       "    </tr>\n",
       "    <tr>\n",
       "      <th>4</th>\n",
       "      <td>5</td>\n",
       "      <td>Santo Domingo</td>\n",
       "      <td>Santo Domingo de los Tsachilas</td>\n",
       "      <td>D</td>\n",
       "      <td>4</td>\n",
       "    </tr>\n",
       "  </tbody>\n",
       "</table>\n",
       "</div>"
      ],
      "text/plain": [
       "   store_nbr           city                           state type  cluster\n",
       "0          1          Quito                       Pichincha    D       13\n",
       "1          2          Quito                       Pichincha    D       13\n",
       "2          3          Quito                       Pichincha    D        8\n",
       "3          4          Quito                       Pichincha    D        9\n",
       "4          5  Santo Domingo  Santo Domingo de los Tsachilas    D        4"
      ]
     },
     "execution_count": 17,
     "metadata": {},
     "output_type": "execute_result"
    }
   ],
   "source": [
    "stores_df.head()"
   ]
  },
  {
   "cell_type": "code",
   "execution_count": 18,
   "id": "d50dea5d",
   "metadata": {
    "execution": {
     "iopub.execute_input": "2022-04-16T14:00:47.463561Z",
     "iopub.status.busy": "2022-04-16T14:00:47.462932Z",
     "iopub.status.idle": "2022-04-16T14:00:47.472509Z",
     "shell.execute_reply": "2022-04-16T14:00:47.473311Z",
     "shell.execute_reply.started": "2022-04-16T13:04:06.769765Z"
    },
    "papermill": {
     "duration": 0.091937,
     "end_time": "2022-04-16T14:00:47.473592",
     "exception": false,
     "start_time": "2022-04-16T14:00:47.381655",
     "status": "completed"
    },
    "tags": []
   },
   "outputs": [
    {
     "name": "stdout",
     "output_type": "stream",
     "text": [
      "<class 'pandas.core.frame.DataFrame'>\n",
      "RangeIndex: 54 entries, 0 to 53\n",
      "Data columns (total 5 columns):\n",
      " #   Column     Non-Null Count  Dtype \n",
      "---  ------     --------------  ----- \n",
      " 0   store_nbr  54 non-null     int64 \n",
      " 1   city       54 non-null     object\n",
      " 2   state      54 non-null     object\n",
      " 3   type       54 non-null     object\n",
      " 4   cluster    54 non-null     int64 \n",
      "dtypes: int64(2), object(3)\n",
      "memory usage: 2.2+ KB\n"
     ]
    }
   ],
   "source": [
    "stores_df.info()"
   ]
  },
  {
   "cell_type": "code",
   "execution_count": 19,
   "id": "6957f053",
   "metadata": {
    "execution": {
     "iopub.execute_input": "2022-04-16T14:00:47.636748Z",
     "iopub.status.busy": "2022-04-16T14:00:47.636154Z",
     "iopub.status.idle": "2022-04-16T14:00:47.865128Z",
     "shell.execute_reply": "2022-04-16T14:00:47.865631Z",
     "shell.execute_reply.started": "2022-04-16T13:04:06.790083Z"
    },
    "papermill": {
     "duration": 0.311547,
     "end_time": "2022-04-16T14:00:47.865789",
     "exception": false,
     "start_time": "2022-04-16T14:00:47.554242",
     "status": "completed"
    },
    "tags": []
   },
   "outputs": [
    {
     "data": {
      "text/plain": [
       "<AxesSubplot:>"
      ]
     },
     "execution_count": 19,
     "metadata": {},
     "output_type": "execute_result"
    },
    {
     "data": {
      "image/png": "[encoded data removed]",
      "text/plain": [
       "<Figure size 360x360 with 2 Axes>"
      ]
     },
     "metadata": {
      "needs_background": "light"
     },
     "output_type": "display_data"
    }
   ],
   "source": [
    "msno.matrix(stores_df, figsize=(5,5))"
   ]
  },
  {
   "cell_type": "code",
   "execution_count": 20,
   "id": "a796bd41",
   "metadata": {
    "execution": {
     "iopub.execute_input": "2022-04-16T14:00:48.037179Z",
     "iopub.status.busy": "2022-04-16T14:00:48.036267Z",
     "iopub.status.idle": "2022-04-16T14:00:48.039575Z",
     "shell.execute_reply": "2022-04-16T14:00:48.040013Z",
     "shell.execute_reply.started": "2022-04-16T13:04:06.961452Z"
    },
    "papermill": {
     "duration": 0.092353,
     "end_time": "2022-04-16T14:00:48.040166",
     "exception": false,
     "start_time": "2022-04-16T14:00:47.947813",
     "status": "completed"
    },
    "tags": []
   },
   "outputs": [
    {
     "data": {
      "text/plain": [
       "Quito            18\n",
       "Guayaquil         8\n",
       "Santo Domingo     3\n",
       "Cuenca            3\n",
       "Manta             2\n",
       "Machala           2\n",
       "Latacunga         2\n",
       "Ambato            2\n",
       "Loja              1\n",
       "Playas            1\n",
       "Puyo              1\n",
       "Riobamba          1\n",
       "Babahoyo          1\n",
       "Esmeraldas        1\n",
       "Cayambe           1\n",
       "Libertad          1\n",
       "Ibarra            1\n",
       "El Carmen         1\n",
       "Daule             1\n",
       "Salinas           1\n",
       "Guaranda          1\n",
       "Quevedo           1\n",
       "Name: city, dtype: int64"
      ]
     },
     "execution_count": 20,
     "metadata": {},
     "output_type": "execute_result"
    }
   ],
   "source": [
    "stores_df['city'].value_counts()"
   ]
  },
  {
   "cell_type": "code",
   "execution_count": 21,
   "id": "39083a4a",
   "metadata": {
    "execution": {
     "iopub.execute_input": "2022-04-16T14:00:48.206786Z",
     "iopub.status.busy": "2022-04-16T14:00:48.205832Z",
     "iopub.status.idle": "2022-04-16T14:00:48.212421Z",
     "shell.execute_reply": "2022-04-16T14:00:48.212865Z",
     "shell.execute_reply.started": "2022-04-16T13:04:06.972185Z"
    },
    "papermill": {
     "duration": 0.092319,
     "end_time": "2022-04-16T14:00:48.213015",
     "exception": false,
     "start_time": "2022-04-16T14:00:48.120696",
     "status": "completed"
    },
    "tags": []
   },
   "outputs": [
    {
     "data": {
      "text/plain": [
       "D    18\n",
       "C    15\n",
       "A     9\n",
       "B     8\n",
       "E     4\n",
       "Name: type, dtype: int64"
      ]
     },
     "execution_count": 21,
     "metadata": {},
     "output_type": "execute_result"
    }
   ],
   "source": [
    "stores_df['type'].value_counts()"
   ]
  },
  {
   "cell_type": "markdown",
   "id": "975ea357",
   "metadata": {
    "papermill": {
     "duration": 0.079822,
     "end_time": "2022-04-16T14:00:48.372866",
     "exception": false,
     "start_time": "2022-04-16T14:00:48.293044",
     "status": "completed"
    },
    "tags": []
   },
   "source": [
    "### Transactions"
   ]
  },
  {
   "cell_type": "code",
   "execution_count": 22,
   "id": "88ffad9c",
   "metadata": {
    "execution": {
     "iopub.execute_input": "2022-04-16T14:00:48.546901Z",
     "iopub.status.busy": "2022-04-16T14:00:48.545949Z",
     "iopub.status.idle": "2022-04-16T14:00:48.556690Z",
     "shell.execute_reply": "2022-04-16T14:00:48.557183Z",
     "shell.execute_reply.started": "2022-04-16T13:04:06.985138Z"
    },
    "papermill": {
     "duration": 0.094986,
     "end_time": "2022-04-16T14:00:48.557337",
     "exception": false,
     "start_time": "2022-04-16T14:00:48.462351",
     "status": "completed"
    },
    "tags": []
   },
   "outputs": [
    {
     "data": {
      "text/html": [
       "<div>\n",
       "<style scoped>\n",
       "    .dataframe tbody tr th:only-of-type {\n",
       "        vertical-align: middle;\n",
       "    }\n",
       "\n",
       "    .dataframe tbody tr th {\n",
       "        vertical-align: top;\n",
       "    }\n",
       "\n",
       "    .dataframe thead th {\n",
       "        text-align: right;\n",
       "    }\n",
       "</style>\n",
       "<table border=\"1\" class=\"dataframe\">\n",
       "  <thead>\n",
       "    <tr style=\"text-align: right;\">\n",
       "      <th></th>\n",
       "      <th>date</th>\n",
       "      <th>store_nbr</th>\n",
       "      <th>transactions</th>\n",
       "    </tr>\n",
       "  </thead>\n",
       "  <tbody>\n",
       "    <tr>\n",
       "      <th>0</th>\n",
       "      <td>2013-01-01</td>\n",
       "      <td>25</td>\n",
       "      <td>770</td>\n",
       "    </tr>\n",
       "    <tr>\n",
       "      <th>1</th>\n",
       "      <td>2013-01-02</td>\n",
       "      <td>1</td>\n",
       "      <td>2111</td>\n",
       "    </tr>\n",
       "    <tr>\n",
       "      <th>2</th>\n",
       "      <td>2013-01-02</td>\n",
       "      <td>2</td>\n",
       "      <td>2358</td>\n",
       "    </tr>\n",
       "    <tr>\n",
       "      <th>3</th>\n",
       "      <td>2013-01-02</td>\n",
       "      <td>3</td>\n",
       "      <td>3487</td>\n",
       "    </tr>\n",
       "    <tr>\n",
       "      <th>4</th>\n",
       "      <td>2013-01-02</td>\n",
       "      <td>4</td>\n",
       "      <td>1922</td>\n",
       "    </tr>\n",
       "    <tr>\n",
       "      <th>...</th>\n",
       "      <td>...</td>\n",
       "      <td>...</td>\n",
       "      <td>...</td>\n",
       "    </tr>\n",
       "    <tr>\n",
       "      <th>83483</th>\n",
       "      <td>2017-08-15</td>\n",
       "      <td>50</td>\n",
       "      <td>2804</td>\n",
       "    </tr>\n",
       "    <tr>\n",
       "      <th>83484</th>\n",
       "      <td>2017-08-15</td>\n",
       "      <td>51</td>\n",
       "      <td>1573</td>\n",
       "    </tr>\n",
       "    <tr>\n",
       "      <th>83485</th>\n",
       "      <td>2017-08-15</td>\n",
       "      <td>52</td>\n",
       "      <td>2255</td>\n",
       "    </tr>\n",
       "    <tr>\n",
       "      <th>83486</th>\n",
       "      <td>2017-08-15</td>\n",
       "      <td>53</td>\n",
       "      <td>932</td>\n",
       "    </tr>\n",
       "    <tr>\n",
       "      <th>83487</th>\n",
       "      <td>2017-08-15</td>\n",
       "      <td>54</td>\n",
       "      <td>802</td>\n",
       "    </tr>\n",
       "  </tbody>\n",
       "</table>\n",
       "<p>83488 rows × 3 columns</p>\n",
       "</div>"
      ],
      "text/plain": [
       "             date  store_nbr  transactions\n",
       "0      2013-01-01         25           770\n",
       "1      2013-01-02          1          2111\n",
       "2      2013-01-02          2          2358\n",
       "3      2013-01-02          3          3487\n",
       "4      2013-01-02          4          1922\n",
       "...           ...        ...           ...\n",
       "83483  2017-08-15         50          2804\n",
       "83484  2017-08-15         51          1573\n",
       "83485  2017-08-15         52          2255\n",
       "83486  2017-08-15         53           932\n",
       "83487  2017-08-15         54           802\n",
       "\n",
       "[83488 rows x 3 columns]"
      ]
     },
     "execution_count": 22,
     "metadata": {},
     "output_type": "execute_result"
    }
   ],
   "source": [
    "transactions_df"
   ]
  },
  {
   "cell_type": "code",
   "execution_count": 23,
   "id": "a01b4aa9",
   "metadata": {
    "execution": {
     "iopub.execute_input": "2022-04-16T14:00:48.724904Z",
     "iopub.status.busy": "2022-04-16T14:00:48.724301Z",
     "iopub.status.idle": "2022-04-16T14:00:48.742949Z",
     "shell.execute_reply": "2022-04-16T14:00:48.743409Z",
     "shell.execute_reply.started": "2022-04-16T13:04:07.000965Z"
    },
    "papermill": {
     "duration": 0.104284,
     "end_time": "2022-04-16T14:00:48.743559",
     "exception": false,
     "start_time": "2022-04-16T14:00:48.639275",
     "status": "completed"
    },
    "tags": []
   },
   "outputs": [
    {
     "name": "stdout",
     "output_type": "stream",
     "text": [
      "<class 'pandas.core.frame.DataFrame'>\n",
      "RangeIndex: 83488 entries, 0 to 83487\n",
      "Data columns (total 3 columns):\n",
      " #   Column        Non-Null Count  Dtype \n",
      "---  ------        --------------  ----- \n",
      " 0   date          83488 non-null  object\n",
      " 1   store_nbr     83488 non-null  int64 \n",
      " 2   transactions  83488 non-null  int64 \n",
      "dtypes: int64(2), object(1)\n",
      "memory usage: 1.9+ MB\n"
     ]
    }
   ],
   "source": [
    "transactions_df.info()"
   ]
  },
  {
   "cell_type": "code",
   "execution_count": 24,
   "id": "cf8edf10",
   "metadata": {
    "execution": {
     "iopub.execute_input": "2022-04-16T14:00:48.943200Z",
     "iopub.status.busy": "2022-04-16T14:00:48.942469Z",
     "iopub.status.idle": "2022-04-16T14:00:49.320728Z",
     "shell.execute_reply": "2022-04-16T14:00:49.321473Z",
     "shell.execute_reply.started": "2022-04-16T13:04:07.020461Z"
    },
    "papermill": {
     "duration": 0.488927,
     "end_time": "2022-04-16T14:00:49.321698",
     "exception": false,
     "start_time": "2022-04-16T14:00:48.832771",
     "status": "completed"
    },
    "tags": []
   },
   "outputs": [
    {
     "data": {
      "text/plain": [
       "<AxesSubplot:>"
      ]
     },
     "execution_count": 24,
     "metadata": {},
     "output_type": "execute_result"
    },
    {
     "data": {
      "image/png": "[encoded data removed]",
      "text/plain": [
       "<Figure size 360x360 with 2 Axes>"
      ]
     },
     "metadata": {
      "needs_background": "light"
     },
     "output_type": "display_data"
    }
   ],
   "source": [
    "msno.matrix(transactions_df, figsize=(5,5))"
   ]
  },
  {
   "cell_type": "code",
   "execution_count": 25,
   "id": "51870f87",
   "metadata": {
    "execution": {
     "iopub.execute_input": "2022-04-16T14:00:49.535291Z",
     "iopub.status.busy": "2022-04-16T14:00:49.534328Z",
     "iopub.status.idle": "2022-04-16T14:00:49.561448Z",
     "shell.execute_reply": "2022-04-16T14:00:49.560628Z",
     "shell.execute_reply.started": "2022-04-16T13:04:07.369412Z"
    },
    "papermill": {
     "duration": 0.126554,
     "end_time": "2022-04-16T14:00:49.561590",
     "exception": false,
     "start_time": "2022-04-16T14:00:49.435036",
     "status": "completed"
    },
    "tags": []
   },
   "outputs": [
    {
     "name": "stdout",
     "output_type": "stream",
     "text": [
      "<class 'pandas.core.frame.DataFrame'>\n",
      "RangeIndex: 83488 entries, 0 to 83487\n",
      "Data columns (total 3 columns):\n",
      " #   Column        Non-Null Count  Dtype         \n",
      "---  ------        --------------  -----         \n",
      " 0   date          83488 non-null  datetime64[ns]\n",
      " 1   store_nbr     83488 non-null  int64         \n",
      " 2   transactions  83488 non-null  int64         \n",
      "dtypes: datetime64[ns](1), int64(2)\n",
      "memory usage: 1.9 MB\n"
     ]
    }
   ],
   "source": [
    "transactions_df['date'] = pd.to_datetime(transactions_df['date'])\n",
    "transactions_df.info()"
   ]
  },
  {
   "cell_type": "markdown",
   "id": "b8fc7a90",
   "metadata": {
    "papermill": {
     "duration": 0.083106,
     "end_time": "2022-04-16T14:00:49.729615",
     "exception": false,
     "start_time": "2022-04-16T14:00:49.646509",
     "status": "completed"
    },
    "tags": []
   },
   "source": [
    "### Train/Test"
   ]
  },
  {
   "cell_type": "code",
   "execution_count": 26,
   "id": "5e52edd2",
   "metadata": {
    "execution": {
     "iopub.execute_input": "2022-04-16T14:00:49.918352Z",
     "iopub.status.busy": "2022-04-16T14:00:49.917428Z",
     "iopub.status.idle": "2022-04-16T14:00:49.932854Z",
     "shell.execute_reply": "2022-04-16T14:00:49.932343Z",
     "shell.execute_reply.started": "2022-04-16T13:04:07.411695Z"
    },
    "papermill": {
     "duration": 0.106743,
     "end_time": "2022-04-16T14:00:49.933001",
     "exception": false,
     "start_time": "2022-04-16T14:00:49.826258",
     "status": "completed"
    },
    "tags": []
   },
   "outputs": [
    {
     "data": {
      "text/html": [
       "<div>\n",
       "<style scoped>\n",
       "    .dataframe tbody tr th:only-of-type {\n",
       "        vertical-align: middle;\n",
       "    }\n",
       "\n",
       "    .dataframe tbody tr th {\n",
       "        vertical-align: top;\n",
       "    }\n",
       "\n",
       "    .dataframe thead th {\n",
       "        text-align: right;\n",
       "    }\n",
       "</style>\n",
       "<table border=\"1\" class=\"dataframe\">\n",
       "  <thead>\n",
       "    <tr style=\"text-align: right;\">\n",
       "      <th></th>\n",
       "      <th>id</th>\n",
       "      <th>date</th>\n",
       "      <th>store_nbr</th>\n",
       "      <th>family</th>\n",
       "      <th>sales</th>\n",
       "      <th>onpromotion</th>\n",
       "    </tr>\n",
       "  </thead>\n",
       "  <tbody>\n",
       "    <tr>\n",
       "      <th>0</th>\n",
       "      <td>0</td>\n",
       "      <td>2013-01-01</td>\n",
       "      <td>1</td>\n",
       "      <td>AUTOMOTIVE</td>\n",
       "      <td>0.000</td>\n",
       "      <td>0</td>\n",
       "    </tr>\n",
       "    <tr>\n",
       "      <th>1</th>\n",
       "      <td>1</td>\n",
       "      <td>2013-01-01</td>\n",
       "      <td>1</td>\n",
       "      <td>BABY CARE</td>\n",
       "      <td>0.000</td>\n",
       "      <td>0</td>\n",
       "    </tr>\n",
       "    <tr>\n",
       "      <th>2</th>\n",
       "      <td>2</td>\n",
       "      <td>2013-01-01</td>\n",
       "      <td>1</td>\n",
       "      <td>BEAUTY</td>\n",
       "      <td>0.000</td>\n",
       "      <td>0</td>\n",
       "    </tr>\n",
       "    <tr>\n",
       "      <th>3</th>\n",
       "      <td>3</td>\n",
       "      <td>2013-01-01</td>\n",
       "      <td>1</td>\n",
       "      <td>BEVERAGES</td>\n",
       "      <td>0.000</td>\n",
       "      <td>0</td>\n",
       "    </tr>\n",
       "    <tr>\n",
       "      <th>4</th>\n",
       "      <td>4</td>\n",
       "      <td>2013-01-01</td>\n",
       "      <td>1</td>\n",
       "      <td>BOOKS</td>\n",
       "      <td>0.000</td>\n",
       "      <td>0</td>\n",
       "    </tr>\n",
       "    <tr>\n",
       "      <th>...</th>\n",
       "      <td>...</td>\n",
       "      <td>...</td>\n",
       "      <td>...</td>\n",
       "      <td>...</td>\n",
       "      <td>...</td>\n",
       "      <td>...</td>\n",
       "    </tr>\n",
       "    <tr>\n",
       "      <th>3000883</th>\n",
       "      <td>3000883</td>\n",
       "      <td>2017-08-15</td>\n",
       "      <td>9</td>\n",
       "      <td>POULTRY</td>\n",
       "      <td>438.133</td>\n",
       "      <td>0</td>\n",
       "    </tr>\n",
       "    <tr>\n",
       "      <th>3000884</th>\n",
       "      <td>3000884</td>\n",
       "      <td>2017-08-15</td>\n",
       "      <td>9</td>\n",
       "      <td>PREPARED FOODS</td>\n",
       "      <td>154.553</td>\n",
       "      <td>1</td>\n",
       "    </tr>\n",
       "    <tr>\n",
       "      <th>3000885</th>\n",
       "      <td>3000885</td>\n",
       "      <td>2017-08-15</td>\n",
       "      <td>9</td>\n",
       "      <td>PRODUCE</td>\n",
       "      <td>2419.729</td>\n",
       "      <td>148</td>\n",
       "    </tr>\n",
       "    <tr>\n",
       "      <th>3000886</th>\n",
       "      <td>3000886</td>\n",
       "      <td>2017-08-15</td>\n",
       "      <td>9</td>\n",
       "      <td>SCHOOL AND OFFICE SUPPLIES</td>\n",
       "      <td>121.000</td>\n",
       "      <td>8</td>\n",
       "    </tr>\n",
       "    <tr>\n",
       "      <th>3000887</th>\n",
       "      <td>3000887</td>\n",
       "      <td>2017-08-15</td>\n",
       "      <td>9</td>\n",
       "      <td>SEAFOOD</td>\n",
       "      <td>16.000</td>\n",
       "      <td>0</td>\n",
       "    </tr>\n",
       "  </tbody>\n",
       "</table>\n",
       "<p>3000888 rows × 6 columns</p>\n",
       "</div>"
      ],
      "text/plain": [
       "              id        date  store_nbr                      family     sales  \\\n",
       "0              0  2013-01-01          1                  AUTOMOTIVE     0.000   \n",
       "1              1  2013-01-01          1                   BABY CARE     0.000   \n",
       "2              2  2013-01-01          1                      BEAUTY     0.000   \n",
       "3              3  2013-01-01          1                   BEVERAGES     0.000   \n",
       "4              4  2013-01-01          1                       BOOKS     0.000   \n",
       "...          ...         ...        ...                         ...       ...   \n",
       "3000883  3000883  2017-08-15          9                     POULTRY   438.133   \n",
       "3000884  3000884  2017-08-15          9              PREPARED FOODS   154.553   \n",
       "3000885  3000885  2017-08-15          9                     PRODUCE  2419.729   \n",
       "3000886  3000886  2017-08-15          9  SCHOOL AND OFFICE SUPPLIES   121.000   \n",
       "3000887  3000887  2017-08-15          9                     SEAFOOD    16.000   \n",
       "\n",
       "         onpromotion  \n",
       "0                  0  \n",
       "1                  0  \n",
       "2                  0  \n",
       "3                  0  \n",
       "4                  0  \n",
       "...              ...  \n",
       "3000883            0  \n",
       "3000884            1  \n",
       "3000885          148  \n",
       "3000886            8  \n",
       "3000887            0  \n",
       "\n",
       "[3000888 rows x 6 columns]"
      ]
     },
     "execution_count": 26,
     "metadata": {},
     "output_type": "execute_result"
    }
   ],
   "source": [
    "train_df"
   ]
  },
  {
   "cell_type": "markdown",
   "id": "7fcafb80",
   "metadata": {
    "papermill": {
     "duration": 0.085621,
     "end_time": "2022-04-16T14:00:50.103527",
     "exception": false,
     "start_time": "2022-04-16T14:00:50.017906",
     "status": "completed"
    },
    "tags": []
   },
   "source": [
    "Considering how 'family' is meant to be about the product type, I do not like this name. I will rename it instead."
   ]
  },
  {
   "cell_type": "code",
   "execution_count": 27,
   "id": "9dd80dbd",
   "metadata": {
    "execution": {
     "iopub.execute_input": "2022-04-16T14:00:50.276991Z",
     "iopub.status.busy": "2022-04-16T14:00:50.276359Z",
     "iopub.status.idle": "2022-04-16T14:00:50.292153Z",
     "shell.execute_reply": "2022-04-16T14:00:50.292715Z",
     "shell.execute_reply.started": "2022-04-16T13:04:07.431921Z"
    },
    "papermill": {
     "duration": 0.104603,
     "end_time": "2022-04-16T14:00:50.292867",
     "exception": false,
     "start_time": "2022-04-16T14:00:50.188264",
     "status": "completed"
    },
    "tags": []
   },
   "outputs": [
    {
     "data": {
      "text/html": [
       "<div>\n",
       "<style scoped>\n",
       "    .dataframe tbody tr th:only-of-type {\n",
       "        vertical-align: middle;\n",
       "    }\n",
       "\n",
       "    .dataframe tbody tr th {\n",
       "        vertical-align: top;\n",
       "    }\n",
       "\n",
       "    .dataframe thead th {\n",
       "        text-align: right;\n",
       "    }\n",
       "</style>\n",
       "<table border=\"1\" class=\"dataframe\">\n",
       "  <thead>\n",
       "    <tr style=\"text-align: right;\">\n",
       "      <th></th>\n",
       "      <th>id</th>\n",
       "      <th>date</th>\n",
       "      <th>store_nbr</th>\n",
       "      <th>product_family</th>\n",
       "      <th>sales</th>\n",
       "      <th>onpromotion</th>\n",
       "    </tr>\n",
       "  </thead>\n",
       "  <tbody>\n",
       "    <tr>\n",
       "      <th>0</th>\n",
       "      <td>0</td>\n",
       "      <td>2013-01-01</td>\n",
       "      <td>1</td>\n",
       "      <td>AUTOMOTIVE</td>\n",
       "      <td>0.000</td>\n",
       "      <td>0</td>\n",
       "    </tr>\n",
       "    <tr>\n",
       "      <th>1</th>\n",
       "      <td>1</td>\n",
       "      <td>2013-01-01</td>\n",
       "      <td>1</td>\n",
       "      <td>BABY CARE</td>\n",
       "      <td>0.000</td>\n",
       "      <td>0</td>\n",
       "    </tr>\n",
       "    <tr>\n",
       "      <th>2</th>\n",
       "      <td>2</td>\n",
       "      <td>2013-01-01</td>\n",
       "      <td>1</td>\n",
       "      <td>BEAUTY</td>\n",
       "      <td>0.000</td>\n",
       "      <td>0</td>\n",
       "    </tr>\n",
       "    <tr>\n",
       "      <th>3</th>\n",
       "      <td>3</td>\n",
       "      <td>2013-01-01</td>\n",
       "      <td>1</td>\n",
       "      <td>BEVERAGES</td>\n",
       "      <td>0.000</td>\n",
       "      <td>0</td>\n",
       "    </tr>\n",
       "    <tr>\n",
       "      <th>4</th>\n",
       "      <td>4</td>\n",
       "      <td>2013-01-01</td>\n",
       "      <td>1</td>\n",
       "      <td>BOOKS</td>\n",
       "      <td>0.000</td>\n",
       "      <td>0</td>\n",
       "    </tr>\n",
       "    <tr>\n",
       "      <th>...</th>\n",
       "      <td>...</td>\n",
       "      <td>...</td>\n",
       "      <td>...</td>\n",
       "      <td>...</td>\n",
       "      <td>...</td>\n",
       "      <td>...</td>\n",
       "    </tr>\n",
       "    <tr>\n",
       "      <th>3000883</th>\n",
       "      <td>3000883</td>\n",
       "      <td>2017-08-15</td>\n",
       "      <td>9</td>\n",
       "      <td>POULTRY</td>\n",
       "      <td>438.133</td>\n",
       "      <td>0</td>\n",
       "    </tr>\n",
       "    <tr>\n",
       "      <th>3000884</th>\n",
       "      <td>3000884</td>\n",
       "      <td>2017-08-15</td>\n",
       "      <td>9</td>\n",
       "      <td>PREPARED FOODS</td>\n",
       "      <td>154.553</td>\n",
       "      <td>1</td>\n",
       "    </tr>\n",
       "    <tr>\n",
       "      <th>3000885</th>\n",
       "      <td>3000885</td>\n",
       "      <td>2017-08-15</td>\n",
       "      <td>9</td>\n",
       "      <td>PRODUCE</td>\n",
       "      <td>2419.729</td>\n",
       "      <td>148</td>\n",
       "    </tr>\n",
       "    <tr>\n",
       "      <th>3000886</th>\n",
       "      <td>3000886</td>\n",
       "      <td>2017-08-15</td>\n",
       "      <td>9</td>\n",
       "      <td>SCHOOL AND OFFICE SUPPLIES</td>\n",
       "      <td>121.000</td>\n",
       "      <td>8</td>\n",
       "    </tr>\n",
       "    <tr>\n",
       "      <th>3000887</th>\n",
       "      <td>3000887</td>\n",
       "      <td>2017-08-15</td>\n",
       "      <td>9</td>\n",
       "      <td>SEAFOOD</td>\n",
       "      <td>16.000</td>\n",
       "      <td>0</td>\n",
       "    </tr>\n",
       "  </tbody>\n",
       "</table>\n",
       "<p>3000888 rows × 6 columns</p>\n",
       "</div>"
      ],
      "text/plain": [
       "              id        date  store_nbr              product_family     sales  \\\n",
       "0              0  2013-01-01          1                  AUTOMOTIVE     0.000   \n",
       "1              1  2013-01-01          1                   BABY CARE     0.000   \n",
       "2              2  2013-01-01          1                      BEAUTY     0.000   \n",
       "3              3  2013-01-01          1                   BEVERAGES     0.000   \n",
       "4              4  2013-01-01          1                       BOOKS     0.000   \n",
       "...          ...         ...        ...                         ...       ...   \n",
       "3000883  3000883  2017-08-15          9                     POULTRY   438.133   \n",
       "3000884  3000884  2017-08-15          9              PREPARED FOODS   154.553   \n",
       "3000885  3000885  2017-08-15          9                     PRODUCE  2419.729   \n",
       "3000886  3000886  2017-08-15          9  SCHOOL AND OFFICE SUPPLIES   121.000   \n",
       "3000887  3000887  2017-08-15          9                     SEAFOOD    16.000   \n",
       "\n",
       "         onpromotion  \n",
       "0                  0  \n",
       "1                  0  \n",
       "2                  0  \n",
       "3                  0  \n",
       "4                  0  \n",
       "...              ...  \n",
       "3000883            0  \n",
       "3000884            1  \n",
       "3000885          148  \n",
       "3000886            8  \n",
       "3000887            0  \n",
       "\n",
       "[3000888 rows x 6 columns]"
      ]
     },
     "execution_count": 27,
     "metadata": {},
     "output_type": "execute_result"
    }
   ],
   "source": [
    "train_df.rename(columns = {'family': 'product_family'}, inplace=True)\n",
    "test_df.rename(columns = {'family': 'product_family'}, inplace=True)\n",
    "train_df"
   ]
  },
  {
   "cell_type": "code",
   "execution_count": 28,
   "id": "0d57655d",
   "metadata": {
    "execution": {
     "iopub.execute_input": "2022-04-16T14:00:50.469156Z",
     "iopub.status.busy": "2022-04-16T14:00:50.468243Z",
     "iopub.status.idle": "2022-04-16T14:00:50.477593Z",
     "shell.execute_reply": "2022-04-16T14:00:50.478046Z",
     "shell.execute_reply.started": "2022-04-16T13:04:07.461124Z"
    },
    "papermill": {
     "duration": 0.099706,
     "end_time": "2022-04-16T14:00:50.478187",
     "exception": false,
     "start_time": "2022-04-16T14:00:50.378481",
     "status": "completed"
    },
    "tags": []
   },
   "outputs": [
    {
     "name": "stdout",
     "output_type": "stream",
     "text": [
      "<class 'pandas.core.frame.DataFrame'>\n",
      "RangeIndex: 3000888 entries, 0 to 3000887\n",
      "Data columns (total 6 columns):\n",
      " #   Column          Dtype  \n",
      "---  ------          -----  \n",
      " 0   id              int64  \n",
      " 1   date            object \n",
      " 2   store_nbr       int64  \n",
      " 3   product_family  object \n",
      " 4   sales           float64\n",
      " 5   onpromotion     int64  \n",
      "dtypes: float64(1), int64(3), object(2)\n",
      "memory usage: 137.4+ MB\n"
     ]
    }
   ],
   "source": [
    "train_df.info()"
   ]
  },
  {
   "cell_type": "code",
   "execution_count": 29,
   "id": "f61c4105",
   "metadata": {
    "execution": {
     "iopub.execute_input": "2022-04-16T14:00:50.660356Z",
     "iopub.status.busy": "2022-04-16T14:00:50.659757Z",
     "iopub.status.idle": "2022-04-16T14:00:50.668169Z",
     "shell.execute_reply": "2022-04-16T14:00:50.668706Z",
     "shell.execute_reply.started": "2022-04-16T13:04:07.472712Z"
    },
    "papermill": {
     "duration": 0.105131,
     "end_time": "2022-04-16T14:00:50.668869",
     "exception": false,
     "start_time": "2022-04-16T14:00:50.563738",
     "status": "completed"
    },
    "tags": []
   },
   "outputs": [
    {
     "name": "stdout",
     "output_type": "stream",
     "text": [
      "<class 'pandas.core.frame.DataFrame'>\n",
      "RangeIndex: 28512 entries, 0 to 28511\n",
      "Data columns (total 5 columns):\n",
      " #   Column          Non-Null Count  Dtype \n",
      "---  ------          --------------  ----- \n",
      " 0   id              28512 non-null  int64 \n",
      " 1   date            28512 non-null  object\n",
      " 2   store_nbr       28512 non-null  int64 \n",
      " 3   product_family  28512 non-null  object\n",
      " 4   onpromotion     28512 non-null  int64 \n",
      "dtypes: int64(3), object(2)\n",
      "memory usage: 1.1+ MB\n"
     ]
    }
   ],
   "source": [
    "test_df.info()"
   ]
  },
  {
   "cell_type": "code",
   "execution_count": 30,
   "id": "4152625b",
   "metadata": {
    "execution": {
     "iopub.execute_input": "2022-04-16T14:00:50.851738Z",
     "iopub.status.busy": "2022-04-16T14:00:50.850871Z",
     "iopub.status.idle": "2022-04-16T14:00:56.410250Z",
     "shell.execute_reply": "2022-04-16T14:00:56.410726Z",
     "shell.execute_reply.started": "2022-04-16T13:04:07.492320Z"
    },
    "papermill": {
     "duration": 5.652999,
     "end_time": "2022-04-16T14:00:56.410877",
     "exception": false,
     "start_time": "2022-04-16T14:00:50.757878",
     "status": "completed"
    },
    "tags": []
   },
   "outputs": [
    {
     "name": "stderr",
     "output_type": "stream",
     "text": [
      "/home/nimenides/.local/lib/python3.8/site-packages/missingno/missingno.py:61: UserWarning: Plotting a sparkline on an existing axis is not currently supported. To remove this warning, set sparkline=False.\n",
      "  warnings.warn(\n"
     ]
    },
    {
     "data": {
      "text/plain": [
       "<AxesSubplot:>"
      ]
     },
     "execution_count": 30,
     "metadata": {},
     "output_type": "execute_result"
    },
    {
     "data": {
      "image/png": "[encoded data removed]",
      "text/plain": [
       "<Figure size 720x720 with 2 Axes>"
      ]
     },
     "metadata": {
      "needs_background": "light"
     },
     "output_type": "display_data"
    }
   ],
   "source": [
    "fig, (ax1, ax2) = plt.subplots(2, figsize=(10,10))\n",
    "\n",
    "msno.matrix(train_df, ax=ax1)\n",
    "msno.matrix(test_df,  ax=ax2)"
   ]
  },
  {
   "cell_type": "code",
   "execution_count": 31,
   "id": "29492635",
   "metadata": {
    "execution": {
     "iopub.execute_input": "2022-04-16T14:00:56.755639Z",
     "iopub.status.busy": "2022-04-16T14:00:56.755015Z",
     "iopub.status.idle": "2022-04-16T14:00:57.094340Z",
     "shell.execute_reply": "2022-04-16T14:00:57.094931Z",
     "shell.execute_reply.started": "2022-04-16T13:04:13.283160Z"
    },
    "papermill": {
     "duration": 0.594905,
     "end_time": "2022-04-16T14:00:57.095118",
     "exception": false,
     "start_time": "2022-04-16T14:00:56.500213",
     "status": "completed"
    },
    "tags": []
   },
   "outputs": [
    {
     "name": "stdout",
     "output_type": "stream",
     "text": [
      "<class 'pandas.core.frame.DataFrame'>\n",
      "RangeIndex: 3000888 entries, 0 to 3000887\n",
      "Data columns (total 6 columns):\n",
      " #   Column          Dtype         \n",
      "---  ------          -----         \n",
      " 0   id              int64         \n",
      " 1   date            datetime64[ns]\n",
      " 2   store_nbr       int64         \n",
      " 3   product_family  object        \n",
      " 4   sales           float64       \n",
      " 5   onpromotion     int64         \n",
      "dtypes: datetime64[ns](1), float64(1), int64(3), object(1)\n",
      "memory usage: 137.4+ MB\n"
     ]
    }
   ],
   "source": [
    "train_df['date'] = pd.to_datetime(train_df['date'])\n",
    "test_df['date'] = pd.to_datetime(test_df['date'])\n",
    "train_df.info()"
   ]
  },
  {
   "cell_type": "markdown",
   "id": "3a0b9707",
   "metadata": {
    "papermill": {
     "duration": 0.087052,
     "end_time": "2022-04-16T14:00:57.271848",
     "exception": false,
     "start_time": "2022-04-16T14:00:57.184796",
     "status": "completed"
    },
    "tags": []
   },
   "source": [
    "### Oil"
   ]
  },
  {
   "cell_type": "code",
   "execution_count": 32,
   "id": "5b5c847d",
   "metadata": {
    "execution": {
     "iopub.execute_input": "2022-04-16T14:00:57.462648Z",
     "iopub.status.busy": "2022-04-16T14:00:57.462026Z",
     "iopub.status.idle": "2022-04-16T14:00:57.466087Z",
     "shell.execute_reply": "2022-04-16T14:00:57.465559Z",
     "shell.execute_reply.started": "2022-04-16T13:04:13.672089Z"
    },
    "papermill": {
     "duration": 0.105668,
     "end_time": "2022-04-16T14:00:57.466213",
     "exception": false,
     "start_time": "2022-04-16T14:00:57.360545",
     "status": "completed"
    },
    "tags": []
   },
   "outputs": [
    {
     "data": {
      "text/html": [
       "<div>\n",
       "<style scoped>\n",
       "    .dataframe tbody tr th:only-of-type {\n",
       "        vertical-align: middle;\n",
       "    }\n",
       "\n",
       "    .dataframe tbody tr th {\n",
       "        vertical-align: top;\n",
       "    }\n",
       "\n",
       "    .dataframe thead th {\n",
       "        text-align: right;\n",
       "    }\n",
       "</style>\n",
       "<table border=\"1\" class=\"dataframe\">\n",
       "  <thead>\n",
       "    <tr style=\"text-align: right;\">\n",
       "      <th></th>\n",
       "      <th>date</th>\n",
       "      <th>dcoilwtico</th>\n",
       "    </tr>\n",
       "  </thead>\n",
       "  <tbody>\n",
       "    <tr>\n",
       "      <th>0</th>\n",
       "      <td>2013-01-01</td>\n",
       "      <td>NaN</td>\n",
       "    </tr>\n",
       "    <tr>\n",
       "      <th>1</th>\n",
       "      <td>2013-01-02</td>\n",
       "      <td>93.14</td>\n",
       "    </tr>\n",
       "    <tr>\n",
       "      <th>2</th>\n",
       "      <td>2013-01-03</td>\n",
       "      <td>92.97</td>\n",
       "    </tr>\n",
       "    <tr>\n",
       "      <th>3</th>\n",
       "      <td>2013-01-04</td>\n",
       "      <td>93.12</td>\n",
       "    </tr>\n",
       "    <tr>\n",
       "      <th>4</th>\n",
       "      <td>2013-01-07</td>\n",
       "      <td>93.20</td>\n",
       "    </tr>\n",
       "    <tr>\n",
       "      <th>...</th>\n",
       "      <td>...</td>\n",
       "      <td>...</td>\n",
       "    </tr>\n",
       "    <tr>\n",
       "      <th>1213</th>\n",
       "      <td>2017-08-25</td>\n",
       "      <td>47.65</td>\n",
       "    </tr>\n",
       "    <tr>\n",
       "      <th>1214</th>\n",
       "      <td>2017-08-28</td>\n",
       "      <td>46.40</td>\n",
       "    </tr>\n",
       "    <tr>\n",
       "      <th>1215</th>\n",
       "      <td>2017-08-29</td>\n",
       "      <td>46.46</td>\n",
       "    </tr>\n",
       "    <tr>\n",
       "      <th>1216</th>\n",
       "      <td>2017-08-30</td>\n",
       "      <td>45.96</td>\n",
       "    </tr>\n",
       "    <tr>\n",
       "      <th>1217</th>\n",
       "      <td>2017-08-31</td>\n",
       "      <td>47.26</td>\n",
       "    </tr>\n",
       "  </tbody>\n",
       "</table>\n",
       "<p>1218 rows × 2 columns</p>\n",
       "</div>"
      ],
      "text/plain": [
       "            date  dcoilwtico\n",
       "0     2013-01-01         NaN\n",
       "1     2013-01-02       93.14\n",
       "2     2013-01-03       92.97\n",
       "3     2013-01-04       93.12\n",
       "4     2013-01-07       93.20\n",
       "...          ...         ...\n",
       "1213  2017-08-25       47.65\n",
       "1214  2017-08-28       46.40\n",
       "1215  2017-08-29       46.46\n",
       "1216  2017-08-30       45.96\n",
       "1217  2017-08-31       47.26\n",
       "\n",
       "[1218 rows x 2 columns]"
      ]
     },
     "execution_count": 32,
     "metadata": {},
     "output_type": "execute_result"
    }
   ],
   "source": [
    "oil_df"
   ]
  },
  {
   "cell_type": "markdown",
   "id": "e93d0f0b",
   "metadata": {
    "papermill": {
     "duration": 0.088574,
     "end_time": "2022-04-16T14:00:57.645194",
     "exception": false,
     "start_time": "2022-04-16T14:00:57.556620",
     "status": "completed"
    },
    "tags": []
   },
   "source": [
    "This data will be important as some countries like Ecuador are oil-dependent and this should be taken into account."
   ]
  },
  {
   "cell_type": "code",
   "execution_count": 33,
   "id": "7bc9667f",
   "metadata": {
    "execution": {
     "iopub.execute_input": "2022-04-16T14:00:57.843130Z",
     "iopub.status.busy": "2022-04-16T14:00:57.842202Z",
     "iopub.status.idle": "2022-04-16T14:00:57.849040Z",
     "shell.execute_reply": "2022-04-16T14:00:57.848375Z",
     "shell.execute_reply.started": "2022-04-16T13:04:13.685590Z"
    },
    "papermill": {
     "duration": 0.109821,
     "end_time": "2022-04-16T14:00:57.849179",
     "exception": false,
     "start_time": "2022-04-16T14:00:57.739358",
     "status": "completed"
    },
    "tags": []
   },
   "outputs": [
    {
     "name": "stdout",
     "output_type": "stream",
     "text": [
      "<class 'pandas.core.frame.DataFrame'>\n",
      "RangeIndex: 1218 entries, 0 to 1217\n",
      "Data columns (total 2 columns):\n",
      " #   Column      Non-Null Count  Dtype  \n",
      "---  ------      --------------  -----  \n",
      " 0   date        1218 non-null   object \n",
      " 1   dcoilwtico  1175 non-null   float64\n",
      "dtypes: float64(1), object(1)\n",
      "memory usage: 19.2+ KB\n"
     ]
    }
   ],
   "source": [
    "oil_df.info()"
   ]
  },
  {
   "cell_type": "code",
   "execution_count": 34,
   "id": "448446ea",
   "metadata": {
    "execution": {
     "iopub.execute_input": "2022-04-16T14:00:58.043630Z",
     "iopub.status.busy": "2022-04-16T14:00:58.042785Z",
     "iopub.status.idle": "2022-04-16T14:00:58.184155Z",
     "shell.execute_reply": "2022-04-16T14:00:58.185139Z",
     "shell.execute_reply.started": "2022-04-16T13:04:13.698895Z"
    },
    "papermill": {
     "duration": 0.24457,
     "end_time": "2022-04-16T14:00:58.185402",
     "exception": false,
     "start_time": "2022-04-16T14:00:57.940832",
     "status": "completed"
    },
    "tags": []
   },
   "outputs": [
    {
     "name": "stdout",
     "output_type": "stream",
     "text": [
      "date           0\n",
      "dcoilwtico    43\n",
      "dtype: int64\n"
     ]
    },
    {
     "data": {
      "image/png": "[encoded data removed]",
      "text/plain": [
       "<Figure size 360x360 with 2 Axes>"
      ]
     },
     "metadata": {
      "needs_background": "light"
     },
     "output_type": "display_data"
    }
   ],
   "source": [
    "msno.matrix(oil_df, figsize=(5,5))\n",
    "print(oil_df.isnull().sum())"
   ]
  },
  {
   "cell_type": "markdown",
   "id": "19ccdd4e",
   "metadata": {
    "papermill": {
     "duration": 0.09144,
     "end_time": "2022-04-16T14:00:58.409166",
     "exception": false,
     "start_time": "2022-04-16T14:00:58.317726",
     "status": "completed"
    },
    "tags": []
   },
   "source": [
    "It appears that there's missing data in the \"dcoilwtico\" column in a irregular pattern. Since there aren't many missing values at all, I think it is safe to remove the rows with missing values."
   ]
  },
  {
   "cell_type": "code",
   "execution_count": 35,
   "id": "442e0fb3",
   "metadata": {
    "execution": {
     "iopub.execute_input": "2022-04-16T14:00:58.595910Z",
     "iopub.status.busy": "2022-04-16T14:00:58.595296Z",
     "iopub.status.idle": "2022-04-16T14:00:58.608149Z",
     "shell.execute_reply": "2022-04-16T14:00:58.607469Z",
     "shell.execute_reply.started": "2022-04-16T13:04:13.916228Z"
    },
    "papermill": {
     "duration": 0.107639,
     "end_time": "2022-04-16T14:00:58.608285",
     "exception": false,
     "start_time": "2022-04-16T14:00:58.500646",
     "status": "completed"
    },
    "tags": []
   },
   "outputs": [
    {
     "name": "stdout",
     "output_type": "stream",
     "text": [
      "<class 'pandas.core.frame.DataFrame'>\n",
      "RangeIndex: 1218 entries, 0 to 1217\n",
      "Data columns (total 2 columns):\n",
      " #   Column      Non-Null Count  Dtype         \n",
      "---  ------      --------------  -----         \n",
      " 0   date        1218 non-null   datetime64[ns]\n",
      " 1   dcoilwtico  1175 non-null   float64       \n",
      "dtypes: datetime64[ns](1), float64(1)\n",
      "memory usage: 19.2 KB\n"
     ]
    }
   ],
   "source": [
    "oil_df['date'] = pd.to_datetime(oil_df['date'])\n",
    "oil_df.info()"
   ]
  },
  {
   "cell_type": "code",
   "execution_count": 36,
   "id": "95dada89",
   "metadata": {
    "execution": {
     "iopub.execute_input": "2022-04-16T14:00:58.796379Z",
     "iopub.status.busy": "2022-04-16T14:00:58.795565Z",
     "iopub.status.idle": "2022-04-16T14:00:58.802968Z",
     "shell.execute_reply": "2022-04-16T14:00:58.803526Z",
     "shell.execute_reply.started": "2022-04-16T13:04:13.937716Z"
    },
    "papermill": {
     "duration": 0.103895,
     "end_time": "2022-04-16T14:00:58.803698",
     "exception": false,
     "start_time": "2022-04-16T14:00:58.699803",
     "status": "completed"
    },
    "tags": []
   },
   "outputs": [],
   "source": [
    "oil_df.dropna(inplace=True)"
   ]
  },
  {
   "cell_type": "markdown",
   "id": "c54d42ca",
   "metadata": {
    "papermill": {
     "duration": 0.094015,
     "end_time": "2022-04-16T14:00:58.994143",
     "exception": false,
     "start_time": "2022-04-16T14:00:58.900128",
     "status": "completed"
    },
    "tags": []
   },
   "source": [
    "# Exploratory Data Analysis"
   ]
  },
  {
   "cell_type": "code",
   "execution_count": 37,
   "id": "b9e78b20",
   "metadata": {
    "execution": {
     "iopub.execute_input": "2022-04-16T14:00:59.181847Z",
     "iopub.status.busy": "2022-04-16T14:00:59.181229Z",
     "iopub.status.idle": "2022-04-16T14:00:59.188903Z",
     "shell.execute_reply": "2022-04-16T14:00:59.189388Z",
     "shell.execute_reply.started": "2022-04-16T13:04:13.954018Z"
    },
    "papermill": {
     "duration": 0.102099,
     "end_time": "2022-04-16T14:00:59.189535",
     "exception": false,
     "start_time": "2022-04-16T14:00:59.087436",
     "status": "completed"
    },
    "tags": []
   },
   "outputs": [],
   "source": [
    "# https://www.kaggle.com/code/ryanholbrook/seasonality\n",
    "def plot_periodogram(ts, detrend='linear', ax=None):\n",
    "    from scipy.signal import periodogram\n",
    "    fs = pd.Timedelta(\"1Y\") / pd.Timedelta(\"1D\")\n",
    "    freqencies, spectrum = periodogram(\n",
    "        ts,\n",
    "        fs=fs,\n",
    "        detrend=detrend,\n",
    "        window=\"boxcar\",\n",
    "        scaling='spectrum',\n",
    "    )\n",
    "    if ax is None:\n",
    "        _, ax = plt.subplots()\n",
    "    ax.step(freqencies, spectrum, color=\"purple\")\n",
    "    ax.set_xscale(\"log\")\n",
    "    ax.set_xticks([1, 2, 4, 6, 12, 26, 52, 104])\n",
    "    ax.set_xticklabels(\n",
    "        [\n",
    "            \"Annual (1)\",\n",
    "            \"Semiannual (2)\",\n",
    "            \"Quarterly (4)\",\n",
    "            \"Bimonthly (6)\",\n",
    "            \"Monthly (12)\",\n",
    "            \"Biweekly (26)\",\n",
    "            \"Weekly (52)\",\n",
    "            \"Semiweekly (104)\",\n",
    "        ],\n",
    "        rotation=30,\n",
    "    )\n",
    "    ax.ticklabel_format(axis=\"y\", style=\"sci\", scilimits=(0, 0))\n",
    "    ax.set_ylabel(\"Variance\")\n",
    "    ax.set_title(\"Periodogram\")\n",
    "    return ax"
   ]
  },
  {
   "cell_type": "markdown",
   "id": "15bced07",
   "metadata": {
    "papermill": {
     "duration": 0.08774,
     "end_time": "2022-04-16T14:00:59.366788",
     "exception": false,
     "start_time": "2022-04-16T14:00:59.279048",
     "status": "completed"
    },
    "tags": []
   },
   "source": [
    "## Holiday events"
   ]
  },
  {
   "cell_type": "code",
   "execution_count": 38,
   "id": "8e845070",
   "metadata": {
    "execution": {
     "iopub.execute_input": "2022-04-16T14:00:59.550983Z",
     "iopub.status.busy": "2022-04-16T14:00:59.550337Z",
     "iopub.status.idle": "2022-04-16T14:00:59.564136Z",
     "shell.execute_reply": "2022-04-16T14:00:59.564581Z",
     "shell.execute_reply.started": "2022-04-16T13:04:13.973310Z"
    },
    "papermill": {
     "duration": 0.106192,
     "end_time": "2022-04-16T14:00:59.564733",
     "exception": false,
     "start_time": "2022-04-16T14:00:59.458541",
     "status": "completed"
    },
    "tags": []
   },
   "outputs": [
    {
     "data": {
      "text/html": [
       "<div>\n",
       "<style scoped>\n",
       "    .dataframe tbody tr th:only-of-type {\n",
       "        vertical-align: middle;\n",
       "    }\n",
       "\n",
       "    .dataframe tbody tr th {\n",
       "        vertical-align: top;\n",
       "    }\n",
       "\n",
       "    .dataframe thead th {\n",
       "        text-align: right;\n",
       "    }\n",
       "</style>\n",
       "<table border=\"1\" class=\"dataframe\">\n",
       "  <thead>\n",
       "    <tr style=\"text-align: right;\">\n",
       "      <th></th>\n",
       "      <th>date</th>\n",
       "      <th>type</th>\n",
       "      <th>locale</th>\n",
       "      <th>locale_name</th>\n",
       "      <th>description</th>\n",
       "      <th>transferred</th>\n",
       "    </tr>\n",
       "  </thead>\n",
       "  <tbody>\n",
       "    <tr>\n",
       "      <th>0</th>\n",
       "      <td>2012-03-02</td>\n",
       "      <td>Holiday</td>\n",
       "      <td>Local</td>\n",
       "      <td>Manta</td>\n",
       "      <td>Fundacion de Manta</td>\n",
       "      <td>False</td>\n",
       "    </tr>\n",
       "    <tr>\n",
       "      <th>1</th>\n",
       "      <td>2012-04-01</td>\n",
       "      <td>Holiday</td>\n",
       "      <td>Regional</td>\n",
       "      <td>Cotopaxi</td>\n",
       "      <td>Provincializacion de Cotopaxi</td>\n",
       "      <td>False</td>\n",
       "    </tr>\n",
       "    <tr>\n",
       "      <th>2</th>\n",
       "      <td>2012-04-12</td>\n",
       "      <td>Holiday</td>\n",
       "      <td>Local</td>\n",
       "      <td>Cuenca</td>\n",
       "      <td>Fundacion de Cuenca</td>\n",
       "      <td>False</td>\n",
       "    </tr>\n",
       "    <tr>\n",
       "      <th>3</th>\n",
       "      <td>2012-04-14</td>\n",
       "      <td>Holiday</td>\n",
       "      <td>Local</td>\n",
       "      <td>Libertad</td>\n",
       "      <td>Cantonizacion de Libertad</td>\n",
       "      <td>False</td>\n",
       "    </tr>\n",
       "    <tr>\n",
       "      <th>4</th>\n",
       "      <td>2012-04-21</td>\n",
       "      <td>Holiday</td>\n",
       "      <td>Local</td>\n",
       "      <td>Riobamba</td>\n",
       "      <td>Cantonizacion de Riobamba</td>\n",
       "      <td>False</td>\n",
       "    </tr>\n",
       "    <tr>\n",
       "      <th>...</th>\n",
       "      <td>...</td>\n",
       "      <td>...</td>\n",
       "      <td>...</td>\n",
       "      <td>...</td>\n",
       "      <td>...</td>\n",
       "      <td>...</td>\n",
       "    </tr>\n",
       "    <tr>\n",
       "      <th>345</th>\n",
       "      <td>2017-12-22</td>\n",
       "      <td>Additional</td>\n",
       "      <td>National</td>\n",
       "      <td>Ecuador</td>\n",
       "      <td>Navidad-3</td>\n",
       "      <td>False</td>\n",
       "    </tr>\n",
       "    <tr>\n",
       "      <th>346</th>\n",
       "      <td>2017-12-23</td>\n",
       "      <td>Additional</td>\n",
       "      <td>National</td>\n",
       "      <td>Ecuador</td>\n",
       "      <td>Navidad-2</td>\n",
       "      <td>False</td>\n",
       "    </tr>\n",
       "    <tr>\n",
       "      <th>347</th>\n",
       "      <td>2017-12-24</td>\n",
       "      <td>Additional</td>\n",
       "      <td>National</td>\n",
       "      <td>Ecuador</td>\n",
       "      <td>Navidad-1</td>\n",
       "      <td>False</td>\n",
       "    </tr>\n",
       "    <tr>\n",
       "      <th>348</th>\n",
       "      <td>2017-12-25</td>\n",
       "      <td>Holiday</td>\n",
       "      <td>National</td>\n",
       "      <td>Ecuador</td>\n",
       "      <td>Navidad</td>\n",
       "      <td>False</td>\n",
       "    </tr>\n",
       "    <tr>\n",
       "      <th>349</th>\n",
       "      <td>2017-12-26</td>\n",
       "      <td>Additional</td>\n",
       "      <td>National</td>\n",
       "      <td>Ecuador</td>\n",
       "      <td>Navidad+1</td>\n",
       "      <td>False</td>\n",
       "    </tr>\n",
       "  </tbody>\n",
       "</table>\n",
       "<p>350 rows × 6 columns</p>\n",
       "</div>"
      ],
      "text/plain": [
       "          date        type    locale locale_name  \\\n",
       "0   2012-03-02     Holiday     Local       Manta   \n",
       "1   2012-04-01     Holiday  Regional    Cotopaxi   \n",
       "2   2012-04-12     Holiday     Local      Cuenca   \n",
       "3   2012-04-14     Holiday     Local    Libertad   \n",
       "4   2012-04-21     Holiday     Local    Riobamba   \n",
       "..         ...         ...       ...         ...   \n",
       "345 2017-12-22  Additional  National     Ecuador   \n",
       "346 2017-12-23  Additional  National     Ecuador   \n",
       "347 2017-12-24  Additional  National     Ecuador   \n",
       "348 2017-12-25     Holiday  National     Ecuador   \n",
       "349 2017-12-26  Additional  National     Ecuador   \n",
       "\n",
       "                       description  transferred  \n",
       "0               Fundacion de Manta        False  \n",
       "1    Provincializacion de Cotopaxi        False  \n",
       "2              Fundacion de Cuenca        False  \n",
       "3        Cantonizacion de Libertad        False  \n",
       "4        Cantonizacion de Riobamba        False  \n",
       "..                             ...          ...  \n",
       "345                      Navidad-3        False  \n",
       "346                      Navidad-2        False  \n",
       "347                      Navidad-1        False  \n",
       "348                        Navidad        False  \n",
       "349                      Navidad+1        False  \n",
       "\n",
       "[350 rows x 6 columns]"
      ]
     },
     "execution_count": 38,
     "metadata": {},
     "output_type": "execute_result"
    }
   ],
   "source": [
    "holiday_events_df"
   ]
  },
  {
   "cell_type": "code",
   "execution_count": 39,
   "id": "2f5278cc",
   "metadata": {
    "execution": {
     "iopub.execute_input": "2022-04-16T14:00:59.750012Z",
     "iopub.status.busy": "2022-04-16T14:00:59.749389Z",
     "iopub.status.idle": "2022-04-16T14:01:00.075393Z",
     "shell.execute_reply": "2022-04-16T14:01:00.075869Z",
     "shell.execute_reply.started": "2022-04-16T13:04:13.999046Z"
    },
    "papermill": {
     "duration": 0.420174,
     "end_time": "2022-04-16T14:01:00.076086",
     "exception": false,
     "start_time": "2022-04-16T14:00:59.655912",
     "status": "completed"
    },
    "tags": []
   },
   "outputs": [
    {
     "data": {
      "text/plain": [
       "<AxesSubplot:xlabel='locale', ylabel='Count'>"
      ]
     },
     "execution_count": 39,
     "metadata": {},
     "output_type": "execute_result"
    },
    {
     "data": {
      "image/png": "[encoded data removed]",
      "text/plain": [
       "<Figure size 720x720 with 2 Axes>"
      ]
     },
     "metadata": {
      "needs_background": "light"
     },
     "output_type": "display_data"
    }
   ],
   "source": [
    "fig, (ax1, ax2) = plt.subplots(2, figsize=(10,10))\n",
    "\n",
    "sns.histplot(holiday_events_df['type'], ax=ax1)\n",
    "sns.histplot(holiday_events_df['locale'], ax=ax2)"
   ]
  },
  {
   "cell_type": "markdown",
   "id": "7f8508a6",
   "metadata": {
    "papermill": {
     "duration": 0.092785,
     "end_time": "2022-04-16T14:01:00.264848",
     "exception": false,
     "start_time": "2022-04-16T14:01:00.172063",
     "status": "completed"
    },
    "tags": []
   },
   "source": [
    "It appears that most \"holiday events\" are holidays with \"Additional\" just being special days (e.g. Christmas) and \"Bridge\" days being extra days added to a holiday. \"Work Day\" seems to make up for the \"Bridge\" days where it occurs on unconventional days (e.g. weekends). \"National\" seems to be equivalent to \"Ecuador\" as this data is based from a Ecuadorian retailer."
   ]
  },
  {
   "cell_type": "code",
   "execution_count": 40,
   "id": "e0b36767",
   "metadata": {
    "execution": {
     "iopub.execute_input": "2022-04-16T14:01:00.452332Z",
     "iopub.status.busy": "2022-04-16T14:01:00.449970Z",
     "iopub.status.idle": "2022-04-16T14:01:00.618255Z",
     "shell.execute_reply": "2022-04-16T14:01:00.618710Z",
     "shell.execute_reply.started": "2022-04-16T13:04:14.331012Z"
    },
    "papermill": {
     "duration": 0.262958,
     "end_time": "2022-04-16T14:01:00.618872",
     "exception": false,
     "start_time": "2022-04-16T14:01:00.355914",
     "status": "completed"
    },
    "tags": []
   },
   "outputs": [
    {
     "data": {
      "text/plain": [
       "<AxesSubplot:xlabel='transferred', ylabel='count'>"
      ]
     },
     "execution_count": 40,
     "metadata": {},
     "output_type": "execute_result"
    },
    {
     "data": {
      "image/png": "[encoded data removed]",
      "text/plain": [
       "<Figure size 432x288 with 1 Axes>"
      ]
     },
     "metadata": {
      "needs_background": "light"
     },
     "output_type": "display_data"
    }
   ],
   "source": [
    "sns.countplot(x=holiday_events_df['transferred'])"
   ]
  },
  {
   "cell_type": "markdown",
   "id": "5e1d92e2",
   "metadata": {
    "papermill": {
     "duration": 0.09495,
     "end_time": "2022-04-16T14:01:00.808182",
     "exception": false,
     "start_time": "2022-04-16T14:01:00.713232",
     "status": "completed"
    },
    "tags": []
   },
   "source": [
    "Unsurprisingly, many of the events haven't been transferred. We may want to take transfers into account if we wish to improve our forecasting model."
   ]
  },
  {
   "cell_type": "markdown",
   "id": "62567435",
   "metadata": {
    "papermill": {
     "duration": 0.094886,
     "end_time": "2022-04-16T14:01:01.001657",
     "exception": false,
     "start_time": "2022-04-16T14:01:00.906771",
     "status": "completed"
    },
    "tags": []
   },
   "source": [
    "## Transactions"
   ]
  },
  {
   "cell_type": "code",
   "execution_count": 41,
   "id": "aa45577e",
   "metadata": {
    "execution": {
     "iopub.execute_input": "2022-04-16T14:01:01.201415Z",
     "iopub.status.busy": "2022-04-16T14:01:01.200799Z",
     "iopub.status.idle": "2022-04-16T14:01:01.204578Z",
     "shell.execute_reply": "2022-04-16T14:01:01.204047Z",
     "shell.execute_reply.started": "2022-04-16T13:04:14.461568Z"
    },
    "papermill": {
     "duration": 0.105918,
     "end_time": "2022-04-16T14:01:01.204694",
     "exception": false,
     "start_time": "2022-04-16T14:01:01.098776",
     "status": "completed"
    },
    "tags": []
   },
   "outputs": [
    {
     "data": {
      "text/html": [
       "<div>\n",
       "<style scoped>\n",
       "    .dataframe tbody tr th:only-of-type {\n",
       "        vertical-align: middle;\n",
       "    }\n",
       "\n",
       "    .dataframe tbody tr th {\n",
       "        vertical-align: top;\n",
       "    }\n",
       "\n",
       "    .dataframe thead th {\n",
       "        text-align: right;\n",
       "    }\n",
       "</style>\n",
       "<table border=\"1\" class=\"dataframe\">\n",
       "  <thead>\n",
       "    <tr style=\"text-align: right;\">\n",
       "      <th></th>\n",
       "      <th>date</th>\n",
       "      <th>store_nbr</th>\n",
       "      <th>transactions</th>\n",
       "    </tr>\n",
       "  </thead>\n",
       "  <tbody>\n",
       "    <tr>\n",
       "      <th>0</th>\n",
       "      <td>2013-01-01</td>\n",
       "      <td>25</td>\n",
       "      <td>770</td>\n",
       "    </tr>\n",
       "    <tr>\n",
       "      <th>1</th>\n",
       "      <td>2013-01-02</td>\n",
       "      <td>1</td>\n",
       "      <td>2111</td>\n",
       "    </tr>\n",
       "    <tr>\n",
       "      <th>2</th>\n",
       "      <td>2013-01-02</td>\n",
       "      <td>2</td>\n",
       "      <td>2358</td>\n",
       "    </tr>\n",
       "    <tr>\n",
       "      <th>3</th>\n",
       "      <td>2013-01-02</td>\n",
       "      <td>3</td>\n",
       "      <td>3487</td>\n",
       "    </tr>\n",
       "    <tr>\n",
       "      <th>4</th>\n",
       "      <td>2013-01-02</td>\n",
       "      <td>4</td>\n",
       "      <td>1922</td>\n",
       "    </tr>\n",
       "  </tbody>\n",
       "</table>\n",
       "</div>"
      ],
      "text/plain": [
       "        date  store_nbr  transactions\n",
       "0 2013-01-01         25           770\n",
       "1 2013-01-02          1          2111\n",
       "2 2013-01-02          2          2358\n",
       "3 2013-01-02          3          3487\n",
       "4 2013-01-02          4          1922"
      ]
     },
     "execution_count": 41,
     "metadata": {},
     "output_type": "execute_result"
    }
   ],
   "source": [
    "transactions_df.head()"
   ]
  },
  {
   "cell_type": "code",
   "execution_count": 42,
   "id": "07527274",
   "metadata": {
    "execution": {
     "iopub.execute_input": "2022-04-16T14:01:01.398492Z",
     "iopub.status.busy": "2022-04-16T14:01:01.397825Z",
     "iopub.status.idle": "2022-04-16T14:02:42.396078Z",
     "shell.execute_reply": "2022-04-16T14:02:42.396542Z",
     "shell.execute_reply.started": "2022-04-16T13:04:14.481063Z"
    },
    "papermill": {
     "duration": 101.097615,
     "end_time": "2022-04-16T14:02:42.396725",
     "exception": false,
     "start_time": "2022-04-16T14:01:01.299110",
     "status": "completed"
    },
    "tags": []
   },
   "outputs": [
    {
     "data": {
      "text/plain": [
       "<AxesSubplot:xlabel='date', ylabel='transactions'>"
      ]
     },
     "execution_count": 42,
     "metadata": {},
     "output_type": "execute_result"
    },
    {
     "data": {
      "image/png": "[encoded data removed]",
      "text/plain": [
       "<Figure size 432x288 with 1 Axes>"
      ]
     },
     "metadata": {
      "needs_background": "light"
     },
     "output_type": "display_data"
    }
   ],
   "source": [
    "transactions_df['moving_avg'] = transactions_df['transactions'].rolling(\n",
    "    window=730,\n",
    "    center=True,\n",
    "    min_periods=315,\n",
    ").mean()\n",
    "\n",
    "sns.lineplot(x='date', y='transactions', data=transactions_df, color=\"0.5\")\n",
    "sns.lineplot(x='date', y='moving_avg', data=transactions_df,\n",
    "             linewidth=3, label=\"Daily Transactions - 365-Day Moving Average\",\n",
    "             color=\"red\")"
   ]
  },
  {
   "cell_type": "markdown",
   "id": "9c915bf5",
   "metadata": {
    "papermill": {
     "duration": 0.09823,
     "end_time": "2022-04-16T14:02:42.593506",
     "exception": false,
     "start_time": "2022-04-16T14:02:42.495276",
     "status": "completed"
    },
    "tags": []
   },
   "source": [
    "From a glance, we can see that there are peaks on a annual basis starting from 2014 of transactions moving past 2000 transactions within a day. We should account for this seasonality in our forecasting model."
   ]
  },
  {
   "cell_type": "code",
   "execution_count": 43,
   "id": "3170843c",
   "metadata": {
    "execution": {
     "iopub.execute_input": "2022-04-16T14:02:42.788986Z",
     "iopub.status.busy": "2022-04-16T14:02:42.788361Z",
     "iopub.status.idle": "2022-04-16T14:02:42.799841Z",
     "shell.execute_reply": "2022-04-16T14:02:42.800346Z",
     "shell.execute_reply.started": "2022-04-16T13:05:25.515553Z"
    },
    "papermill": {
     "duration": 0.110813,
     "end_time": "2022-04-16T14:02:42.800508",
     "exception": false,
     "start_time": "2022-04-16T14:02:42.689695",
     "status": "completed"
    },
    "tags": []
   },
   "outputs": [
    {
     "data": {
      "text/html": [
       "<div>\n",
       "<style scoped>\n",
       "    .dataframe tbody tr th:only-of-type {\n",
       "        vertical-align: middle;\n",
       "    }\n",
       "\n",
       "    .dataframe tbody tr th {\n",
       "        vertical-align: top;\n",
       "    }\n",
       "\n",
       "    .dataframe thead th {\n",
       "        text-align: right;\n",
       "    }\n",
       "</style>\n",
       "<table border=\"1\" class=\"dataframe\">\n",
       "  <thead>\n",
       "    <tr style=\"text-align: right;\">\n",
       "      <th></th>\n",
       "      <th>date</th>\n",
       "      <th>store_nbr</th>\n",
       "      <th>transactions</th>\n",
       "      <th>moving_avg</th>\n",
       "      <th>Lag_1</th>\n",
       "    </tr>\n",
       "  </thead>\n",
       "  <tbody>\n",
       "    <tr>\n",
       "      <th>0</th>\n",
       "      <td>2013-01-01</td>\n",
       "      <td>25</td>\n",
       "      <td>770</td>\n",
       "      <td>1776.419178</td>\n",
       "      <td>NaN</td>\n",
       "    </tr>\n",
       "    <tr>\n",
       "      <th>1</th>\n",
       "      <td>2013-01-02</td>\n",
       "      <td>1</td>\n",
       "      <td>2111</td>\n",
       "      <td>1776.418033</td>\n",
       "      <td>770.0</td>\n",
       "    </tr>\n",
       "    <tr>\n",
       "      <th>2</th>\n",
       "      <td>2013-01-02</td>\n",
       "      <td>2</td>\n",
       "      <td>2358</td>\n",
       "      <td>1777.648501</td>\n",
       "      <td>2111.0</td>\n",
       "    </tr>\n",
       "    <tr>\n",
       "      <th>3</th>\n",
       "      <td>2013-01-02</td>\n",
       "      <td>3</td>\n",
       "      <td>3487</td>\n",
       "      <td>1777.671196</td>\n",
       "      <td>2358.0</td>\n",
       "    </tr>\n",
       "    <tr>\n",
       "      <th>4</th>\n",
       "      <td>2013-01-02</td>\n",
       "      <td>4</td>\n",
       "      <td>1922</td>\n",
       "      <td>1774.831978</td>\n",
       "      <td>3487.0</td>\n",
       "    </tr>\n",
       "  </tbody>\n",
       "</table>\n",
       "</div>"
      ],
      "text/plain": [
       "        date  store_nbr  transactions   moving_avg   Lag_1\n",
       "0 2013-01-01         25           770  1776.419178     NaN\n",
       "1 2013-01-02          1          2111  1776.418033   770.0\n",
       "2 2013-01-02          2          2358  1777.648501  2111.0\n",
       "3 2013-01-02          3          3487  1777.671196  2358.0\n",
       "4 2013-01-02          4          1922  1774.831978  3487.0"
      ]
     },
     "execution_count": 43,
     "metadata": {},
     "output_type": "execute_result"
    }
   ],
   "source": [
    "transactions_df['Lag_1'] = transactions_df['transactions'].shift(1)\n",
    "transactions_df.head()"
   ]
  },
  {
   "cell_type": "code",
   "execution_count": 44,
   "id": "cd8c8eb0",
   "metadata": {
    "execution": {
     "iopub.execute_input": "2022-04-16T14:02:42.998200Z",
     "iopub.status.busy": "2022-04-16T14:02:42.997573Z",
     "iopub.status.idle": "2022-04-16T14:02:43.566213Z",
     "shell.execute_reply": "2022-04-16T14:02:43.566683Z",
     "shell.execute_reply.started": "2022-04-16T13:05:25.531065Z"
    },
    "papermill": {
     "duration": 0.667981,
     "end_time": "2022-04-16T14:02:43.566872",
     "exception": false,
     "start_time": "2022-04-16T14:02:42.898891",
     "status": "completed"
    },
    "tags": []
   },
   "outputs": [
    {
     "data": {
      "image/png": "[encoded data removed]",
      "text/plain": [
       "<Figure size 432x288 with 1 Axes>"
      ]
     },
     "metadata": {
      "needs_background": "light"
     },
     "output_type": "display_data"
    }
   ],
   "source": [
    "fig, ax = plt.subplots()\n",
    "\n",
    "ax = sns.regplot(x='Lag_1', y='transactions', data=transactions_df, ci=None, scatter_kws=dict(color='0.25'))\n",
    "ax.set_title(\"Lag plot of Sales Transactions\")\n",
    "ax.set_aspect(\"equal\")"
   ]
  },
  {
   "cell_type": "markdown",
   "id": "e45f74ea",
   "metadata": {
    "papermill": {
     "duration": 0.099053,
     "end_time": "2022-04-16T14:02:43.764305",
     "exception": false,
     "start_time": "2022-04-16T14:02:43.665252",
     "status": "completed"
    },
    "tags": []
   },
   "source": [
    "From this, we know that there is a serial dependence, suggesting that there is a relationship between current and previous transactions."
   ]
  },
  {
   "cell_type": "markdown",
   "id": "11f7ee3a",
   "metadata": {
    "papermill": {
     "duration": 0.103376,
     "end_time": "2022-04-16T14:02:43.968942",
     "exception": false,
     "start_time": "2022-04-16T14:02:43.865566",
     "status": "completed"
    },
    "tags": []
   },
   "source": [
    "## Oil"
   ]
  },
  {
   "cell_type": "code",
   "execution_count": 45,
   "id": "708768f5",
   "metadata": {
    "execution": {
     "iopub.execute_input": "2022-04-16T14:02:44.177861Z",
     "iopub.status.busy": "2022-04-16T14:02:44.172663Z",
     "iopub.status.idle": "2022-04-16T14:02:44.183341Z",
     "shell.execute_reply": "2022-04-16T14:02:44.182697Z",
     "shell.execute_reply.started": "2022-04-16T13:05:26.131618Z"
    },
    "papermill": {
     "duration": 0.114675,
     "end_time": "2022-04-16T14:02:44.183509",
     "exception": false,
     "start_time": "2022-04-16T14:02:44.068834",
     "status": "completed"
    },
    "tags": []
   },
   "outputs": [
    {
     "data": {
      "text/html": [
       "<div>\n",
       "<style scoped>\n",
       "    .dataframe tbody tr th:only-of-type {\n",
       "        vertical-align: middle;\n",
       "    }\n",
       "\n",
       "    .dataframe tbody tr th {\n",
       "        vertical-align: top;\n",
       "    }\n",
       "\n",
       "    .dataframe thead th {\n",
       "        text-align: right;\n",
       "    }\n",
       "</style>\n",
       "<table border=\"1\" class=\"dataframe\">\n",
       "  <thead>\n",
       "    <tr style=\"text-align: right;\">\n",
       "      <th></th>\n",
       "      <th>date</th>\n",
       "      <th>dcoilwtico</th>\n",
       "    </tr>\n",
       "  </thead>\n",
       "  <tbody>\n",
       "    <tr>\n",
       "      <th>1</th>\n",
       "      <td>2013-01-02</td>\n",
       "      <td>93.14</td>\n",
       "    </tr>\n",
       "    <tr>\n",
       "      <th>2</th>\n",
       "      <td>2013-01-03</td>\n",
       "      <td>92.97</td>\n",
       "    </tr>\n",
       "    <tr>\n",
       "      <th>3</th>\n",
       "      <td>2013-01-04</td>\n",
       "      <td>93.12</td>\n",
       "    </tr>\n",
       "    <tr>\n",
       "      <th>4</th>\n",
       "      <td>2013-01-07</td>\n",
       "      <td>93.20</td>\n",
       "    </tr>\n",
       "    <tr>\n",
       "      <th>5</th>\n",
       "      <td>2013-01-08</td>\n",
       "      <td>93.21</td>\n",
       "    </tr>\n",
       "  </tbody>\n",
       "</table>\n",
       "</div>"
      ],
      "text/plain": [
       "        date  dcoilwtico\n",
       "1 2013-01-02       93.14\n",
       "2 2013-01-03       92.97\n",
       "3 2013-01-04       93.12\n",
       "4 2013-01-07       93.20\n",
       "5 2013-01-08       93.21"
      ]
     },
     "execution_count": 45,
     "metadata": {},
     "output_type": "execute_result"
    }
   ],
   "source": [
    "oil_df.head()"
   ]
  },
  {
   "cell_type": "code",
   "execution_count": 46,
   "id": "3c4af4ba",
   "metadata": {
    "execution": {
     "iopub.execute_input": "2022-04-16T14:02:44.383866Z",
     "iopub.status.busy": "2022-04-16T14:02:44.383320Z",
     "iopub.status.idle": "2022-04-16T14:02:44.733473Z",
     "shell.execute_reply": "2022-04-16T14:02:44.732689Z",
     "shell.execute_reply.started": "2022-04-16T13:05:26.145567Z"
    },
    "papermill": {
     "duration": 0.452152,
     "end_time": "2022-04-16T14:02:44.733643",
     "exception": false,
     "start_time": "2022-04-16T14:02:44.281491",
     "status": "completed"
    },
    "tags": []
   },
   "outputs": [
    {
     "data": {
      "text/plain": [
       "Text(0.5, 1.0, 'Daily oil price - 365-Day Moving Average')"
      ]
     },
     "execution_count": 46,
     "metadata": {},
     "output_type": "execute_result"
    },
    {
     "data": {
      "image/png": "[encoded data removed]",
      "text/plain": [
       "<Figure size 432x288 with 1 Axes>"
      ]
     },
     "metadata": {
      "needs_background": "light"
     },
     "output_type": "display_data"
    }
   ],
   "source": [
    "oil_df['moving_avg'] = oil_df['dcoilwtico'].rolling(\n",
    "    window=31,\n",
    "    center=True,\n",
    "    min_periods=15,\n",
    ").mean()\n",
    "\n",
    "sns.lineplot(x='date', y='dcoilwtico', data=oil_df, color=\"0.5\")\n",
    "sns.lineplot(x='date', y='moving_avg', data=oil_df,\n",
    "             linewidth=3, label=\"Moving Average\",\n",
    "             color=\"red\")\n",
    "plt.title(\"Daily oil price - 365-Day Moving Average\")"
   ]
  },
  {
   "cell_type": "markdown",
   "id": "e421de7f",
   "metadata": {
    "papermill": {
     "duration": 0.100742,
     "end_time": "2022-04-16T14:02:44.933382",
     "exception": false,
     "start_time": "2022-04-16T14:02:44.832640",
     "status": "completed"
    },
    "tags": []
   },
   "source": [
    "It seems that oil price was steady until mid-2014 when it suddenly decreased until the beginning of 2015. This seems to suggest that oil price fluctates less consistently and that it will need to be taken into account (critical supply chain operations such as delivery rely on oil)."
   ]
  },
  {
   "cell_type": "code",
   "execution_count": 47,
   "id": "76f1b449",
   "metadata": {
    "execution": {
     "iopub.execute_input": "2022-04-16T14:02:45.136461Z",
     "iopub.status.busy": "2022-04-16T14:02:45.135897Z",
     "iopub.status.idle": "2022-04-16T14:02:45.324439Z",
     "shell.execute_reply": "2022-04-16T14:02:45.324004Z",
     "shell.execute_reply.started": "2022-04-16T13:05:26.480267Z"
    },
    "papermill": {
     "duration": 0.290198,
     "end_time": "2022-04-16T14:02:45.324564",
     "exception": false,
     "start_time": "2022-04-16T14:02:45.034366",
     "status": "completed"
    },
    "tags": []
   },
   "outputs": [
    {
     "data": {
      "image/png": "[encoded data removed]",
      "text/plain": [
       "<Figure size 432x288 with 1 Axes>"
      ]
     },
     "metadata": {
      "needs_background": "light"
     },
     "output_type": "display_data"
    }
   ],
   "source": [
    "oil_df['Lag_1'] = oil_df['dcoilwtico'].shift(1)\n",
    "\n",
    "fig, ax = plt.subplots()\n",
    "ax = sns.regplot(x='Lag_1', y='dcoilwtico', data=oil_df, ci=None, scatter_kws=dict(color='0.25'))\n",
    "ax.set_title(\"Lag plot of Sales Transactions\")\n",
    "ax.set_aspect(\"equal\")"
   ]
  },
  {
   "cell_type": "markdown",
   "id": "5c7844d9",
   "metadata": {
    "papermill": {
     "duration": 0.099723,
     "end_time": "2022-04-16T14:02:45.523690",
     "exception": false,
     "start_time": "2022-04-16T14:02:45.423967",
     "status": "completed"
    },
    "tags": []
   },
   "source": [
    "## Stores"
   ]
  },
  {
   "cell_type": "code",
   "execution_count": 48,
   "id": "d56a67c5",
   "metadata": {
    "execution": {
     "iopub.execute_input": "2022-04-16T14:02:45.725890Z",
     "iopub.status.busy": "2022-04-16T14:02:45.725312Z",
     "iopub.status.idle": "2022-04-16T14:02:45.734339Z",
     "shell.execute_reply": "2022-04-16T14:02:45.734840Z",
     "shell.execute_reply.started": "2022-04-16T13:05:26.632809Z"
    },
    "papermill": {
     "duration": 0.112542,
     "end_time": "2022-04-16T14:02:45.734987",
     "exception": false,
     "start_time": "2022-04-16T14:02:45.622445",
     "status": "completed"
    },
    "tags": []
   },
   "outputs": [
    {
     "data": {
      "text/html": [
       "<div>\n",
       "<style scoped>\n",
       "    .dataframe tbody tr th:only-of-type {\n",
       "        vertical-align: middle;\n",
       "    }\n",
       "\n",
       "    .dataframe tbody tr th {\n",
       "        vertical-align: top;\n",
       "    }\n",
       "\n",
       "    .dataframe thead th {\n",
       "        text-align: right;\n",
       "    }\n",
       "</style>\n",
       "<table border=\"1\" class=\"dataframe\">\n",
       "  <thead>\n",
       "    <tr style=\"text-align: right;\">\n",
       "      <th></th>\n",
       "      <th>store_nbr</th>\n",
       "      <th>city</th>\n",
       "      <th>state</th>\n",
       "      <th>type</th>\n",
       "      <th>cluster</th>\n",
       "    </tr>\n",
       "  </thead>\n",
       "  <tbody>\n",
       "    <tr>\n",
       "      <th>0</th>\n",
       "      <td>1</td>\n",
       "      <td>Quito</td>\n",
       "      <td>Pichincha</td>\n",
       "      <td>D</td>\n",
       "      <td>13</td>\n",
       "    </tr>\n",
       "    <tr>\n",
       "      <th>1</th>\n",
       "      <td>2</td>\n",
       "      <td>Quito</td>\n",
       "      <td>Pichincha</td>\n",
       "      <td>D</td>\n",
       "      <td>13</td>\n",
       "    </tr>\n",
       "    <tr>\n",
       "      <th>2</th>\n",
       "      <td>3</td>\n",
       "      <td>Quito</td>\n",
       "      <td>Pichincha</td>\n",
       "      <td>D</td>\n",
       "      <td>8</td>\n",
       "    </tr>\n",
       "    <tr>\n",
       "      <th>3</th>\n",
       "      <td>4</td>\n",
       "      <td>Quito</td>\n",
       "      <td>Pichincha</td>\n",
       "      <td>D</td>\n",
       "      <td>9</td>\n",
       "    </tr>\n",
       "    <tr>\n",
       "      <th>4</th>\n",
       "      <td>5</td>\n",
       "      <td>Santo Domingo</td>\n",
       "      <td>Santo Domingo de los Tsachilas</td>\n",
       "      <td>D</td>\n",
       "      <td>4</td>\n",
       "    </tr>\n",
       "  </tbody>\n",
       "</table>\n",
       "</div>"
      ],
      "text/plain": [
       "   store_nbr           city                           state type  cluster\n",
       "0          1          Quito                       Pichincha    D       13\n",
       "1          2          Quito                       Pichincha    D       13\n",
       "2          3          Quito                       Pichincha    D        8\n",
       "3          4          Quito                       Pichincha    D        9\n",
       "4          5  Santo Domingo  Santo Domingo de los Tsachilas    D        4"
      ]
     },
     "execution_count": 48,
     "metadata": {},
     "output_type": "execute_result"
    }
   ],
   "source": [
    "stores_df.head()"
   ]
  },
  {
   "cell_type": "code",
   "execution_count": 49,
   "id": "bd669f8f",
   "metadata": {
    "execution": {
     "iopub.execute_input": "2022-04-16T14:02:45.937890Z",
     "iopub.status.busy": "2022-04-16T14:02:45.937304Z",
     "iopub.status.idle": "2022-04-16T14:02:46.505373Z",
     "shell.execute_reply": "2022-04-16T14:02:46.504912Z",
     "shell.execute_reply.started": "2022-04-16T13:05:26.647120Z"
    },
    "papermill": {
     "duration": 0.670653,
     "end_time": "2022-04-16T14:02:46.505499",
     "exception": false,
     "start_time": "2022-04-16T14:02:45.834846",
     "status": "completed"
    },
    "tags": []
   },
   "outputs": [
    {
     "data": {
      "text/plain": [
       "<AxesSubplot:>"
      ]
     },
     "execution_count": 49,
     "metadata": {},
     "output_type": "execute_result"
    },
    {
     "data": {
      "image/png": "[encoded data removed]",
      "text/plain": [
       "<Figure size 720x720 with 2 Axes>"
      ]
     },
     "metadata": {
      "needs_background": "light"
     },
     "output_type": "display_data"
    }
   ],
   "source": [
    "fig, (ax1, ax2) = plt.subplots(2, figsize=(10,10))\n",
    "\n",
    "cities_counts = stores_df['city'].value_counts().values\n",
    "distinct_cities = stores_df['city'].value_counts().index.to_list()\n",
    "\n",
    "states_counts = stores_df['state'].value_counts().values\n",
    "distinct_states = stores_df['state'].value_counts().index.to_list()\n",
    "\n",
    "sns.barplot(x=cities_counts, y=distinct_cities, ax=ax1)\n",
    "sns.barplot(x=states_counts, y=distinct_states, ax=ax2)"
   ]
  },
  {
   "cell_type": "markdown",
   "id": "da83e436",
   "metadata": {
    "papermill": {
     "duration": 0.105869,
     "end_time": "2022-04-16T14:02:46.715725",
     "exception": false,
     "start_time": "2022-04-16T14:02:46.609856",
     "status": "completed"
    },
    "tags": []
   },
   "source": [
    "It appears that most data points reside in the cities of Qutio and Guayaquil. Pichincha and Guayas seem to be the most popular states."
   ]
  },
  {
   "cell_type": "code",
   "execution_count": 50,
   "id": "c0e07614",
   "metadata": {
    "execution": {
     "iopub.execute_input": "2022-04-16T14:02:46.929631Z",
     "iopub.status.busy": "2022-04-16T14:02:46.928645Z",
     "iopub.status.idle": "2022-04-16T14:02:47.245312Z",
     "shell.execute_reply": "2022-04-16T14:02:47.244797Z",
     "shell.execute_reply.started": "2022-04-16T13:05:27.172340Z"
    },
    "papermill": {
     "duration": 0.425905,
     "end_time": "2022-04-16T14:02:47.245452",
     "exception": false,
     "start_time": "2022-04-16T14:02:46.819547",
     "status": "completed"
    },
    "tags": []
   },
   "outputs": [
    {
     "data": {
      "text/plain": [
       "<AxesSubplot:>"
      ]
     },
     "execution_count": 50,
     "metadata": {},
     "output_type": "execute_result"
    },
    {
     "data": {
      "image/png": "[encoded data removed]",
      "text/plain": [
       "<Figure size 432x288 with 1 Axes>"
      ]
     },
     "metadata": {
      "needs_background": "light"
     },
     "output_type": "display_data"
    }
   ],
   "source": [
    "types = stores_df['type'].value_counts().values\n",
    "distinct_types = stores_df['type'].value_counts().index.to_list()\n",
    "\n",
    "sns.barplot(x=distinct_types, y=types)"
   ]
  },
  {
   "cell_type": "markdown",
   "id": "feb9c7ce",
   "metadata": {
    "papermill": {
     "duration": 0.107517,
     "end_time": "2022-04-16T14:02:47.456314",
     "exception": false,
     "start_time": "2022-04-16T14:02:47.348797",
     "status": "completed"
    },
    "tags": []
   },
   "source": [
    "## Train/Test"
   ]
  },
  {
   "cell_type": "code",
   "execution_count": 51,
   "id": "4a803c0c",
   "metadata": {
    "execution": {
     "iopub.execute_input": "2022-04-16T14:02:47.666842Z",
     "iopub.status.busy": "2022-04-16T14:02:47.666268Z",
     "iopub.status.idle": "2022-04-16T14:02:47.678267Z",
     "shell.execute_reply": "2022-04-16T14:02:47.677658Z",
     "shell.execute_reply.started": "2022-04-16T13:05:27.447470Z"
    },
    "papermill": {
     "duration": 0.118284,
     "end_time": "2022-04-16T14:02:47.678396",
     "exception": false,
     "start_time": "2022-04-16T14:02:47.560112",
     "status": "completed"
    },
    "tags": []
   },
   "outputs": [
    {
     "data": {
      "text/html": [
       "<div>\n",
       "<style scoped>\n",
       "    .dataframe tbody tr th:only-of-type {\n",
       "        vertical-align: middle;\n",
       "    }\n",
       "\n",
       "    .dataframe tbody tr th {\n",
       "        vertical-align: top;\n",
       "    }\n",
       "\n",
       "    .dataframe thead th {\n",
       "        text-align: right;\n",
       "    }\n",
       "</style>\n",
       "<table border=\"1\" class=\"dataframe\">\n",
       "  <thead>\n",
       "    <tr style=\"text-align: right;\">\n",
       "      <th></th>\n",
       "      <th>id</th>\n",
       "      <th>date</th>\n",
       "      <th>store_nbr</th>\n",
       "      <th>product_family</th>\n",
       "      <th>sales</th>\n",
       "      <th>onpromotion</th>\n",
       "    </tr>\n",
       "  </thead>\n",
       "  <tbody>\n",
       "    <tr>\n",
       "      <th>0</th>\n",
       "      <td>0</td>\n",
       "      <td>2013-01-01</td>\n",
       "      <td>1</td>\n",
       "      <td>AUTOMOTIVE</td>\n",
       "      <td>0.0</td>\n",
       "      <td>0</td>\n",
       "    </tr>\n",
       "    <tr>\n",
       "      <th>1</th>\n",
       "      <td>1</td>\n",
       "      <td>2013-01-01</td>\n",
       "      <td>1</td>\n",
       "      <td>BABY CARE</td>\n",
       "      <td>0.0</td>\n",
       "      <td>0</td>\n",
       "    </tr>\n",
       "    <tr>\n",
       "      <th>2</th>\n",
       "      <td>2</td>\n",
       "      <td>2013-01-01</td>\n",
       "      <td>1</td>\n",
       "      <td>BEAUTY</td>\n",
       "      <td>0.0</td>\n",
       "      <td>0</td>\n",
       "    </tr>\n",
       "    <tr>\n",
       "      <th>3</th>\n",
       "      <td>3</td>\n",
       "      <td>2013-01-01</td>\n",
       "      <td>1</td>\n",
       "      <td>BEVERAGES</td>\n",
       "      <td>0.0</td>\n",
       "      <td>0</td>\n",
       "    </tr>\n",
       "    <tr>\n",
       "      <th>4</th>\n",
       "      <td>4</td>\n",
       "      <td>2013-01-01</td>\n",
       "      <td>1</td>\n",
       "      <td>BOOKS</td>\n",
       "      <td>0.0</td>\n",
       "      <td>0</td>\n",
       "    </tr>\n",
       "  </tbody>\n",
       "</table>\n",
       "</div>"
      ],
      "text/plain": [
       "   id       date  store_nbr product_family  sales  onpromotion\n",
       "0   0 2013-01-01          1     AUTOMOTIVE    0.0            0\n",
       "1   1 2013-01-01          1      BABY CARE    0.0            0\n",
       "2   2 2013-01-01          1         BEAUTY    0.0            0\n",
       "3   3 2013-01-01          1      BEVERAGES    0.0            0\n",
       "4   4 2013-01-01          1          BOOKS    0.0            0"
      ]
     },
     "execution_count": 51,
     "metadata": {},
     "output_type": "execute_result"
    }
   ],
   "source": [
    "train_df.head()"
   ]
  },
  {
   "cell_type": "code",
   "execution_count": 52,
   "id": "8090e417",
   "metadata": {
    "execution": {
     "iopub.execute_input": "2022-04-16T14:02:47.897081Z",
     "iopub.status.busy": "2022-04-16T14:02:47.896348Z",
     "iopub.status.idle": "2022-04-16T14:02:51.742105Z",
     "shell.execute_reply": "2022-04-16T14:02:51.742535Z",
     "shell.execute_reply.started": "2022-04-16T13:05:27.467363Z"
    },
    "papermill": {
     "duration": 3.960472,
     "end_time": "2022-04-16T14:02:51.742687",
     "exception": false,
     "start_time": "2022-04-16T14:02:47.782215",
     "status": "completed"
    },
    "tags": []
   },
   "outputs": [
    {
     "data": {
      "text/plain": [
       "<AxesSubplot:xlabel='count', ylabel='product_family'>"
      ]
     },
     "execution_count": 52,
     "metadata": {},
     "output_type": "execute_result"
    },
    {
     "data": {
      "image/png": "[encoded data removed]",
      "text/plain": [
       "<Figure size 720x720 with 1 Axes>"
      ]
     },
     "metadata": {
      "needs_background": "light"
     },
     "output_type": "display_data"
    }
   ],
   "source": [
    "fig, ax = plt.subplots(figsize=(10,10))\n",
    "sns.countplot(y=train_df['product_family'])"
   ]
  },
  {
   "cell_type": "markdown",
   "id": "94a76c41",
   "metadata": {
    "papermill": {
     "duration": 0.135173,
     "end_time": "2022-04-16T14:02:51.988386",
     "exception": false,
     "start_time": "2022-04-16T14:02:51.853213",
     "status": "completed"
    },
    "tags": []
   },
   "source": [
    "It seems that this dataset has precisely **equal** proportions for different product families. However, we could merge some families together as I cannot see the difference between \"HOME AND KITCHEN I\" and \"HOME AND KITCHEN II\" for example."
   ]
  },
  {
   "cell_type": "code",
   "execution_count": 53,
   "id": "72a5e537",
   "metadata": {
    "execution": {
     "iopub.execute_input": "2022-04-16T14:02:52.227087Z",
     "iopub.status.busy": "2022-04-16T14:02:52.226428Z",
     "iopub.status.idle": "2022-04-16T14:04:13.390622Z",
     "shell.execute_reply": "2022-04-16T14:04:13.391125Z",
     "shell.execute_reply.started": "2022-04-16T13:36:44.465656Z"
    },
    "papermill": {
     "duration": 81.285706,
     "end_time": "2022-04-16T14:04:13.391296",
     "exception": false,
     "start_time": "2022-04-16T14:02:52.105590",
     "status": "completed"
    },
    "tags": []
   },
   "outputs": [
    {
     "data": {
      "text/plain": [
       "<AxesSubplot:xlabel='date', ylabel='sales'>"
      ]
     },
     "execution_count": 53,
     "metadata": {},
     "output_type": "execute_result"
    },
    {
     "data": {
      "image/png": "[encoded data removed]",
      "text/plain": [
       "<Figure size 720x720 with 1 Axes>"
      ]
     },
     "metadata": {
      "needs_background": "light"
     },
     "output_type": "display_data"
    }
   ],
   "source": [
    "_, _ = plt.subplots(figsize=(10,10))\n",
    "sns.lineplot(x='date', y='sales', data=train_df)"
   ]
  },
  {
   "cell_type": "markdown",
   "id": "8e983bb9",
   "metadata": {
    "papermill": {
     "duration": 0.110972,
     "end_time": "2022-04-16T14:04:13.614519",
     "exception": false,
     "start_time": "2022-04-16T14:04:13.503547",
     "status": "completed"
    },
    "tags": []
   },
   "source": [
    "It seems that sales has increased over the years (but so has variance in sales), however I find the annual dips in sales to be quite strange considering the annual increase in transactions. Why would there be a dip in sales if there's an increase in transactions? An explanation for this dip could be that there's annual discounts which motivate more transactions but they could lead to less sales (I feel this is unlikely to be the case).\n",
    "\n",
    "Sales appears to fluctate significantly between 2014 and 2015 which is when the oil prices decrease significantly (oil price clearly affects sales in a significant way here)."
   ]
  },
  {
   "cell_type": "code",
   "execution_count": 54,
   "id": "ecbf6a0c",
   "metadata": {
    "execution": {
     "iopub.execute_input": "2022-04-16T14:04:13.843099Z",
     "iopub.status.busy": "2022-04-16T14:04:13.842522Z",
     "iopub.status.idle": "2022-04-16T14:04:13.906245Z",
     "shell.execute_reply": "2022-04-16T14:04:13.905696Z",
     "shell.execute_reply.started": "2022-04-16T13:20:19.056821Z"
    },
    "papermill": {
     "duration": 0.179296,
     "end_time": "2022-04-16T14:04:13.906392",
     "exception": false,
     "start_time": "2022-04-16T14:04:13.727096",
     "status": "completed"
    },
    "tags": []
   },
   "outputs": [
    {
     "data": {
      "text/html": [
       "<div>\n",
       "<style scoped>\n",
       "    .dataframe tbody tr th:only-of-type {\n",
       "        vertical-align: middle;\n",
       "    }\n",
       "\n",
       "    .dataframe tbody tr th {\n",
       "        vertical-align: top;\n",
       "    }\n",
       "\n",
       "    .dataframe thead th {\n",
       "        text-align: right;\n",
       "    }\n",
       "</style>\n",
       "<table border=\"1\" class=\"dataframe\">\n",
       "  <thead>\n",
       "    <tr style=\"text-align: right;\">\n",
       "      <th></th>\n",
       "      <th>id</th>\n",
       "      <th>date</th>\n",
       "      <th>store_nbr</th>\n",
       "      <th>product_family</th>\n",
       "      <th>sales</th>\n",
       "      <th>onpromotion</th>\n",
       "    </tr>\n",
       "  </thead>\n",
       "  <tbody>\n",
       "    <tr>\n",
       "      <th>0</th>\n",
       "      <td>0</td>\n",
       "      <td>2013-01-01</td>\n",
       "      <td>1</td>\n",
       "      <td>AUTOMOTIVE</td>\n",
       "      <td>0.0</td>\n",
       "      <td>0</td>\n",
       "    </tr>\n",
       "    <tr>\n",
       "      <th>1</th>\n",
       "      <td>1</td>\n",
       "      <td>2013-01-01</td>\n",
       "      <td>1</td>\n",
       "      <td>BABY CARE</td>\n",
       "      <td>0.0</td>\n",
       "      <td>0</td>\n",
       "    </tr>\n",
       "    <tr>\n",
       "      <th>2</th>\n",
       "      <td>2</td>\n",
       "      <td>2013-01-01</td>\n",
       "      <td>1</td>\n",
       "      <td>BEAUTY</td>\n",
       "      <td>0.0</td>\n",
       "      <td>0</td>\n",
       "    </tr>\n",
       "    <tr>\n",
       "      <th>3</th>\n",
       "      <td>3</td>\n",
       "      <td>2013-01-01</td>\n",
       "      <td>1</td>\n",
       "      <td>BEVERAGES</td>\n",
       "      <td>0.0</td>\n",
       "      <td>0</td>\n",
       "    </tr>\n",
       "    <tr>\n",
       "      <th>4</th>\n",
       "      <td>4</td>\n",
       "      <td>2013-01-01</td>\n",
       "      <td>1</td>\n",
       "      <td>BOOKS</td>\n",
       "      <td>0.0</td>\n",
       "      <td>0</td>\n",
       "    </tr>\n",
       "    <tr>\n",
       "      <th>...</th>\n",
       "      <td>...</td>\n",
       "      <td>...</td>\n",
       "      <td>...</td>\n",
       "      <td>...</td>\n",
       "      <td>...</td>\n",
       "      <td>...</td>\n",
       "    </tr>\n",
       "    <tr>\n",
       "      <th>3000839</th>\n",
       "      <td>3000839</td>\n",
       "      <td>2017-08-15</td>\n",
       "      <td>8</td>\n",
       "      <td>HOME APPLIANCES</td>\n",
       "      <td>0.0</td>\n",
       "      <td>0</td>\n",
       "    </tr>\n",
       "    <tr>\n",
       "      <th>3000853</th>\n",
       "      <td>3000853</td>\n",
       "      <td>2017-08-15</td>\n",
       "      <td>8</td>\n",
       "      <td>SCHOOL AND OFFICE SUPPLIES</td>\n",
       "      <td>0.0</td>\n",
       "      <td>0</td>\n",
       "    </tr>\n",
       "    <tr>\n",
       "      <th>3000856</th>\n",
       "      <td>3000856</td>\n",
       "      <td>2017-08-15</td>\n",
       "      <td>9</td>\n",
       "      <td>BABY CARE</td>\n",
       "      <td>0.0</td>\n",
       "      <td>0</td>\n",
       "    </tr>\n",
       "    <tr>\n",
       "      <th>3000859</th>\n",
       "      <td>3000859</td>\n",
       "      <td>2017-08-15</td>\n",
       "      <td>9</td>\n",
       "      <td>BOOKS</td>\n",
       "      <td>0.0</td>\n",
       "      <td>0</td>\n",
       "    </tr>\n",
       "    <tr>\n",
       "      <th>3000872</th>\n",
       "      <td>3000872</td>\n",
       "      <td>2017-08-15</td>\n",
       "      <td>9</td>\n",
       "      <td>HOME APPLIANCES</td>\n",
       "      <td>0.0</td>\n",
       "      <td>0</td>\n",
       "    </tr>\n",
       "  </tbody>\n",
       "</table>\n",
       "<p>939130 rows × 6 columns</p>\n",
       "</div>"
      ],
      "text/plain": [
       "              id       date  store_nbr              product_family  sales  \\\n",
       "0              0 2013-01-01          1                  AUTOMOTIVE    0.0   \n",
       "1              1 2013-01-01          1                   BABY CARE    0.0   \n",
       "2              2 2013-01-01          1                      BEAUTY    0.0   \n",
       "3              3 2013-01-01          1                   BEVERAGES    0.0   \n",
       "4              4 2013-01-01          1                       BOOKS    0.0   \n",
       "...          ...        ...        ...                         ...    ...   \n",
       "3000839  3000839 2017-08-15          8             HOME APPLIANCES    0.0   \n",
       "3000853  3000853 2017-08-15          8  SCHOOL AND OFFICE SUPPLIES    0.0   \n",
       "3000856  3000856 2017-08-15          9                   BABY CARE    0.0   \n",
       "3000859  3000859 2017-08-15          9                       BOOKS    0.0   \n",
       "3000872  3000872 2017-08-15          9             HOME APPLIANCES    0.0   \n",
       "\n",
       "         onpromotion  \n",
       "0                  0  \n",
       "1                  0  \n",
       "2                  0  \n",
       "3                  0  \n",
       "4                  0  \n",
       "...              ...  \n",
       "3000839            0  \n",
       "3000853            0  \n",
       "3000856            0  \n",
       "3000859            0  \n",
       "3000872            0  \n",
       "\n",
       "[939130 rows x 6 columns]"
      ]
     },
     "execution_count": 54,
     "metadata": {},
     "output_type": "execute_result"
    }
   ],
   "source": [
    "train_df[train_df['sales'] == 0]"
   ]
  },
  {
   "cell_type": "code",
   "execution_count": 55,
   "id": "1827da12",
   "metadata": {
    "execution": {
     "iopub.execute_input": "2022-04-16T14:04:14.134630Z",
     "iopub.status.busy": "2022-04-16T14:04:14.133663Z",
     "iopub.status.idle": "2022-04-16T14:04:14.201527Z",
     "shell.execute_reply": "2022-04-16T14:04:14.200843Z",
     "shell.execute_reply.started": "2022-04-16T13:30:26.802226Z"
    },
    "papermill": {
     "duration": 0.18285,
     "end_time": "2022-04-16T14:04:14.201678",
     "exception": false,
     "start_time": "2022-04-16T14:04:14.018828",
     "status": "completed"
    },
    "tags": []
   },
   "outputs": [
    {
     "data": {
      "text/plain": [
       "'31.3%'"
      ]
     },
     "execution_count": 55,
     "metadata": {},
     "output_type": "execute_result"
    }
   ],
   "source": [
    "sales_above_0_percent = len(train_df[train_df['sales'] == 0]) / len(train_df) * 100\n",
    "f'{round(sales_above_0_percent, 2)}%'"
   ]
  },
  {
   "cell_type": "markdown",
   "id": "5ce74702",
   "metadata": {
    "papermill": {
     "duration": 0.109033,
     "end_time": "2022-04-16T14:04:14.421241",
     "exception": false,
     "start_time": "2022-04-16T14:04:14.312208",
     "status": "completed"
    },
    "tags": []
   },
   "source": [
    "Interestingly enough, ~31.3% of stores have 0 sales which I find to be quite strange given the amount of data available. I don't know why this is the case."
   ]
  },
  {
   "cell_type": "code",
   "execution_count": 124,
   "id": "125e07e1",
   "metadata": {},
   "outputs": [
    {
     "data": {
      "text/plain": [
       "<AxesSubplot:xlabel='sales', ylabel='product_family'>"
      ]
     },
     "execution_count": 124,
     "metadata": {},
     "output_type": "execute_result"
    },
    {
     "data": {
      "image/png": "[encoded data removed]",
      "text/plain": [
       "<Figure size 720x720 with 1 Axes>"
      ]
     },
     "metadata": {
      "needs_background": "light"
     },
     "output_type": "display_data"
    }
   ],
   "source": [
    "_,_ = plt.subplots(figsize=(10,10))\n",
    "sns.barplot(y='product_family', x='sales', data=train_df)"
   ]
  },
  {
   "cell_type": "markdown",
   "id": "47f99c3b",
   "metadata": {},
   "source": [
    "Product family is quite clearly a way of predicting sales as some product families are much more popular than others (e.g. groceries will be much more popular than pet supplies)."
   ]
  },
  {
   "cell_type": "markdown",
   "id": "a796c98d",
   "metadata": {
    "papermill": {
     "duration": 0.109426,
     "end_time": "2022-04-16T14:04:14.639771",
     "exception": false,
     "start_time": "2022-04-16T14:04:14.530345",
     "status": "completed"
    },
    "tags": []
   },
   "source": [
    "## Correlation\n",
    "For analyzing correlation, I'll just merge a bunch of tables together, remove useless attributes from the merged table and create a heatmap for the correlation matrix."
   ]
  },
  {
   "cell_type": "code",
   "execution_count": 56,
   "id": "7f1b2b1f",
   "metadata": {},
   "outputs": [
    {
     "data": {
      "text/plain": [
       "((3000888, 6), (83488, 5), (1175, 4))"
      ]
     },
     "execution_count": 56,
     "metadata": {},
     "output_type": "execute_result"
    }
   ],
   "source": [
    "(train_df.shape, transactions_df.shape, oil_df.shape)"
   ]
  },
  {
   "cell_type": "code",
   "execution_count": 139,
   "id": "5316ad90",
   "metadata": {
    "execution": {
     "iopub.execute_input": "2022-04-16T14:04:14.864419Z",
     "iopub.status.busy": "2022-04-16T14:04:14.863753Z",
     "iopub.status.idle": "2022-04-16T14:04:14.865457Z",
     "shell.execute_reply": "2022-04-16T14:04:14.865881Z"
    },
    "papermill": {
     "duration": 0.117177,
     "end_time": "2022-04-16T14:04:14.866057",
     "exception": false,
     "start_time": "2022-04-16T14:04:14.748880",
     "status": "completed"
    },
    "tags": []
   },
   "outputs": [
    {
     "data": {
      "text/html": [
       "<div>\n",
       "<style scoped>\n",
       "    .dataframe tbody tr th:only-of-type {\n",
       "        vertical-align: middle;\n",
       "    }\n",
       "\n",
       "    .dataframe tbody tr th {\n",
       "        vertical-align: top;\n",
       "    }\n",
       "\n",
       "    .dataframe thead th {\n",
       "        text-align: right;\n",
       "    }\n",
       "</style>\n",
       "<table border=\"1\" class=\"dataframe\">\n",
       "  <thead>\n",
       "    <tr style=\"text-align: right;\">\n",
       "      <th></th>\n",
       "      <th>date</th>\n",
       "      <th>store_nbr</th>\n",
       "      <th>transactions</th>\n",
       "      <th>moving_avg_x</th>\n",
       "      <th>Lag_1_x</th>\n",
       "      <th>dcoilwtico</th>\n",
       "      <th>moving_avg_y</th>\n",
       "      <th>Lag_1_y</th>\n",
       "      <th>id</th>\n",
       "      <th>product_family</th>\n",
       "      <th>sales</th>\n",
       "      <th>onpromotion</th>\n",
       "    </tr>\n",
       "  </thead>\n",
       "  <tbody>\n",
       "    <tr>\n",
       "      <th>0</th>\n",
       "      <td>2013-01-02</td>\n",
       "      <td>1</td>\n",
       "      <td>2111</td>\n",
       "      <td>1776.418033</td>\n",
       "      <td>770.0</td>\n",
       "      <td>93.14</td>\n",
       "      <td>94.096250</td>\n",
       "      <td>NaN</td>\n",
       "      <td>1782</td>\n",
       "      <td>AUTOMOTIVE</td>\n",
       "      <td>2.000</td>\n",
       "      <td>0</td>\n",
       "    </tr>\n",
       "    <tr>\n",
       "      <th>1</th>\n",
       "      <td>2013-01-02</td>\n",
       "      <td>1</td>\n",
       "      <td>2111</td>\n",
       "      <td>1776.418033</td>\n",
       "      <td>770.0</td>\n",
       "      <td>93.14</td>\n",
       "      <td>94.096250</td>\n",
       "      <td>NaN</td>\n",
       "      <td>1783</td>\n",
       "      <td>BABY CARE</td>\n",
       "      <td>0.000</td>\n",
       "      <td>0</td>\n",
       "    </tr>\n",
       "    <tr>\n",
       "      <th>2</th>\n",
       "      <td>2013-01-02</td>\n",
       "      <td>1</td>\n",
       "      <td>2111</td>\n",
       "      <td>1776.418033</td>\n",
       "      <td>770.0</td>\n",
       "      <td>93.14</td>\n",
       "      <td>94.096250</td>\n",
       "      <td>NaN</td>\n",
       "      <td>1784</td>\n",
       "      <td>BEAUTY</td>\n",
       "      <td>2.000</td>\n",
       "      <td>0</td>\n",
       "    </tr>\n",
       "    <tr>\n",
       "      <th>3</th>\n",
       "      <td>2013-01-02</td>\n",
       "      <td>1</td>\n",
       "      <td>2111</td>\n",
       "      <td>1776.418033</td>\n",
       "      <td>770.0</td>\n",
       "      <td>93.14</td>\n",
       "      <td>94.096250</td>\n",
       "      <td>NaN</td>\n",
       "      <td>1785</td>\n",
       "      <td>BEVERAGES</td>\n",
       "      <td>1091.000</td>\n",
       "      <td>0</td>\n",
       "    </tr>\n",
       "    <tr>\n",
       "      <th>4</th>\n",
       "      <td>2013-01-02</td>\n",
       "      <td>1</td>\n",
       "      <td>2111</td>\n",
       "      <td>1776.418033</td>\n",
       "      <td>770.0</td>\n",
       "      <td>93.14</td>\n",
       "      <td>94.096250</td>\n",
       "      <td>NaN</td>\n",
       "      <td>1786</td>\n",
       "      <td>BOOKS</td>\n",
       "      <td>0.000</td>\n",
       "      <td>0</td>\n",
       "    </tr>\n",
       "    <tr>\n",
       "      <th>...</th>\n",
       "      <td>...</td>\n",
       "      <td>...</td>\n",
       "      <td>...</td>\n",
       "      <td>...</td>\n",
       "      <td>...</td>\n",
       "      <td>...</td>\n",
       "      <td>...</td>\n",
       "      <td>...</td>\n",
       "      <td>...</td>\n",
       "      <td>...</td>\n",
       "      <td>...</td>\n",
       "      <td>...</td>\n",
       "    </tr>\n",
       "    <tr>\n",
       "      <th>1908979</th>\n",
       "      <td>2017-08-15</td>\n",
       "      <td>54</td>\n",
       "      <td>802</td>\n",
       "      <td>1596.923497</td>\n",
       "      <td>932.0</td>\n",
       "      <td>47.57</td>\n",
       "      <td>48.220714</td>\n",
       "      <td>47.59</td>\n",
       "      <td>3000751</td>\n",
       "      <td>POULTRY</td>\n",
       "      <td>59.619</td>\n",
       "      <td>0</td>\n",
       "    </tr>\n",
       "    <tr>\n",
       "      <th>1908980</th>\n",
       "      <td>2017-08-15</td>\n",
       "      <td>54</td>\n",
       "      <td>802</td>\n",
       "      <td>1596.923497</td>\n",
       "      <td>932.0</td>\n",
       "      <td>47.57</td>\n",
       "      <td>48.220714</td>\n",
       "      <td>47.59</td>\n",
       "      <td>3000752</td>\n",
       "      <td>PREPARED FOODS</td>\n",
       "      <td>94.000</td>\n",
       "      <td>0</td>\n",
       "    </tr>\n",
       "    <tr>\n",
       "      <th>1908981</th>\n",
       "      <td>2017-08-15</td>\n",
       "      <td>54</td>\n",
       "      <td>802</td>\n",
       "      <td>1596.923497</td>\n",
       "      <td>932.0</td>\n",
       "      <td>47.57</td>\n",
       "      <td>48.220714</td>\n",
       "      <td>47.59</td>\n",
       "      <td>3000753</td>\n",
       "      <td>PRODUCE</td>\n",
       "      <td>915.371</td>\n",
       "      <td>76</td>\n",
       "    </tr>\n",
       "    <tr>\n",
       "      <th>1908982</th>\n",
       "      <td>2017-08-15</td>\n",
       "      <td>54</td>\n",
       "      <td>802</td>\n",
       "      <td>1596.923497</td>\n",
       "      <td>932.0</td>\n",
       "      <td>47.57</td>\n",
       "      <td>48.220714</td>\n",
       "      <td>47.59</td>\n",
       "      <td>3000754</td>\n",
       "      <td>SCHOOL AND OFFICE SUPPLIES</td>\n",
       "      <td>0.000</td>\n",
       "      <td>0</td>\n",
       "    </tr>\n",
       "    <tr>\n",
       "      <th>1908983</th>\n",
       "      <td>2017-08-15</td>\n",
       "      <td>54</td>\n",
       "      <td>802</td>\n",
       "      <td>1596.923497</td>\n",
       "      <td>932.0</td>\n",
       "      <td>47.57</td>\n",
       "      <td>48.220714</td>\n",
       "      <td>47.59</td>\n",
       "      <td>3000755</td>\n",
       "      <td>SEAFOOD</td>\n",
       "      <td>3.000</td>\n",
       "      <td>0</td>\n",
       "    </tr>\n",
       "  </tbody>\n",
       "</table>\n",
       "<p>1908984 rows × 12 columns</p>\n",
       "</div>"
      ],
      "text/plain": [
       "              date  store_nbr  transactions  moving_avg_x  Lag_1_x  \\\n",
       "0       2013-01-02          1          2111   1776.418033    770.0   \n",
       "1       2013-01-02          1          2111   1776.418033    770.0   \n",
       "2       2013-01-02          1          2111   1776.418033    770.0   \n",
       "3       2013-01-02          1          2111   1776.418033    770.0   \n",
       "4       2013-01-02          1          2111   1776.418033    770.0   \n",
       "...            ...        ...           ...           ...      ...   \n",
       "1908979 2017-08-15         54           802   1596.923497    932.0   \n",
       "1908980 2017-08-15         54           802   1596.923497    932.0   \n",
       "1908981 2017-08-15         54           802   1596.923497    932.0   \n",
       "1908982 2017-08-15         54           802   1596.923497    932.0   \n",
       "1908983 2017-08-15         54           802   1596.923497    932.0   \n",
       "\n",
       "         dcoilwtico  moving_avg_y  Lag_1_y       id  \\\n",
       "0             93.14     94.096250      NaN     1782   \n",
       "1             93.14     94.096250      NaN     1783   \n",
       "2             93.14     94.096250      NaN     1784   \n",
       "3             93.14     94.096250      NaN     1785   \n",
       "4             93.14     94.096250      NaN     1786   \n",
       "...             ...           ...      ...      ...   \n",
       "1908979       47.57     48.220714    47.59  3000751   \n",
       "1908980       47.57     48.220714    47.59  3000752   \n",
       "1908981       47.57     48.220714    47.59  3000753   \n",
       "1908982       47.57     48.220714    47.59  3000754   \n",
       "1908983       47.57     48.220714    47.59  3000755   \n",
       "\n",
       "                     product_family     sales  onpromotion  \n",
       "0                        AUTOMOTIVE     2.000            0  \n",
       "1                         BABY CARE     0.000            0  \n",
       "2                            BEAUTY     2.000            0  \n",
       "3                         BEVERAGES  1091.000            0  \n",
       "4                             BOOKS     0.000            0  \n",
       "...                             ...       ...          ...  \n",
       "1908979                     POULTRY    59.619            0  \n",
       "1908980              PREPARED FOODS    94.000            0  \n",
       "1908981                     PRODUCE   915.371           76  \n",
       "1908982  SCHOOL AND OFFICE SUPPLIES     0.000            0  \n",
       "1908983                     SEAFOOD     3.000            0  \n",
       "\n",
       "[1908984 rows x 12 columns]"
      ]
     },
     "execution_count": 139,
     "metadata": {},
     "output_type": "execute_result"
    }
   ],
   "source": [
    "transactions_oils_df = pd.merge(transactions_df, oil_df, how='inner', on='date')\n",
    "train_merged_df = pd.merge(transactions_oils_df, train_df, how='inner', on=['date', 'store_nbr'])\n",
    "test_merged_df = pd.merge(oil_df, test_df, how='inner', on='date')\n",
    "train_merged_df"
   ]
  },
  {
   "cell_type": "code",
   "execution_count": 140,
   "id": "0dd37137",
   "metadata": {},
   "outputs": [
    {
     "data": {
      "text/html": [
       "<div>\n",
       "<style scoped>\n",
       "    .dataframe tbody tr th:only-of-type {\n",
       "        vertical-align: middle;\n",
       "    }\n",
       "\n",
       "    .dataframe tbody tr th {\n",
       "        vertical-align: top;\n",
       "    }\n",
       "\n",
       "    .dataframe thead th {\n",
       "        text-align: right;\n",
       "    }\n",
       "</style>\n",
       "<table border=\"1\" class=\"dataframe\">\n",
       "  <thead>\n",
       "    <tr style=\"text-align: right;\">\n",
       "      <th></th>\n",
       "      <th>date</th>\n",
       "      <th>dcoilwtico</th>\n",
       "      <th>moving_avg</th>\n",
       "      <th>Lag_1</th>\n",
       "      <th>id</th>\n",
       "      <th>store_nbr</th>\n",
       "      <th>product_family</th>\n",
       "      <th>onpromotion</th>\n",
       "    </tr>\n",
       "  </thead>\n",
       "  <tbody>\n",
       "    <tr>\n",
       "      <th>0</th>\n",
       "      <td>2017-08-16</td>\n",
       "      <td>46.80</td>\n",
       "      <td>48.237407</td>\n",
       "      <td>47.57</td>\n",
       "      <td>3000888</td>\n",
       "      <td>1</td>\n",
       "      <td>AUTOMOTIVE</td>\n",
       "      <td>0</td>\n",
       "    </tr>\n",
       "    <tr>\n",
       "      <th>1</th>\n",
       "      <td>2017-08-16</td>\n",
       "      <td>46.80</td>\n",
       "      <td>48.237407</td>\n",
       "      <td>47.57</td>\n",
       "      <td>3000889</td>\n",
       "      <td>1</td>\n",
       "      <td>BABY CARE</td>\n",
       "      <td>0</td>\n",
       "    </tr>\n",
       "    <tr>\n",
       "      <th>2</th>\n",
       "      <td>2017-08-16</td>\n",
       "      <td>46.80</td>\n",
       "      <td>48.237407</td>\n",
       "      <td>47.57</td>\n",
       "      <td>3000890</td>\n",
       "      <td>1</td>\n",
       "      <td>BEAUTY</td>\n",
       "      <td>2</td>\n",
       "    </tr>\n",
       "    <tr>\n",
       "      <th>3</th>\n",
       "      <td>2017-08-16</td>\n",
       "      <td>46.80</td>\n",
       "      <td>48.237407</td>\n",
       "      <td>47.57</td>\n",
       "      <td>3000891</td>\n",
       "      <td>1</td>\n",
       "      <td>BEVERAGES</td>\n",
       "      <td>20</td>\n",
       "    </tr>\n",
       "    <tr>\n",
       "      <th>4</th>\n",
       "      <td>2017-08-16</td>\n",
       "      <td>46.80</td>\n",
       "      <td>48.237407</td>\n",
       "      <td>47.57</td>\n",
       "      <td>3000892</td>\n",
       "      <td>1</td>\n",
       "      <td>BOOKS</td>\n",
       "      <td>0</td>\n",
       "    </tr>\n",
       "    <tr>\n",
       "      <th>...</th>\n",
       "      <td>...</td>\n",
       "      <td>...</td>\n",
       "      <td>...</td>\n",
       "      <td>...</td>\n",
       "      <td>...</td>\n",
       "      <td>...</td>\n",
       "      <td>...</td>\n",
       "      <td>...</td>\n",
       "    </tr>\n",
       "    <tr>\n",
       "      <th>21379</th>\n",
       "      <td>2017-08-31</td>\n",
       "      <td>47.26</td>\n",
       "      <td>47.464375</td>\n",
       "      <td>45.96</td>\n",
       "      <td>3029395</td>\n",
       "      <td>9</td>\n",
       "      <td>POULTRY</td>\n",
       "      <td>1</td>\n",
       "    </tr>\n",
       "    <tr>\n",
       "      <th>21380</th>\n",
       "      <td>2017-08-31</td>\n",
       "      <td>47.26</td>\n",
       "      <td>47.464375</td>\n",
       "      <td>45.96</td>\n",
       "      <td>3029396</td>\n",
       "      <td>9</td>\n",
       "      <td>PREPARED FOODS</td>\n",
       "      <td>0</td>\n",
       "    </tr>\n",
       "    <tr>\n",
       "      <th>21381</th>\n",
       "      <td>2017-08-31</td>\n",
       "      <td>47.26</td>\n",
       "      <td>47.464375</td>\n",
       "      <td>45.96</td>\n",
       "      <td>3029397</td>\n",
       "      <td>9</td>\n",
       "      <td>PRODUCE</td>\n",
       "      <td>1</td>\n",
       "    </tr>\n",
       "    <tr>\n",
       "      <th>21382</th>\n",
       "      <td>2017-08-31</td>\n",
       "      <td>47.26</td>\n",
       "      <td>47.464375</td>\n",
       "      <td>45.96</td>\n",
       "      <td>3029398</td>\n",
       "      <td>9</td>\n",
       "      <td>SCHOOL AND OFFICE SUPPLIES</td>\n",
       "      <td>9</td>\n",
       "    </tr>\n",
       "    <tr>\n",
       "      <th>21383</th>\n",
       "      <td>2017-08-31</td>\n",
       "      <td>47.26</td>\n",
       "      <td>47.464375</td>\n",
       "      <td>45.96</td>\n",
       "      <td>3029399</td>\n",
       "      <td>9</td>\n",
       "      <td>SEAFOOD</td>\n",
       "      <td>0</td>\n",
       "    </tr>\n",
       "  </tbody>\n",
       "</table>\n",
       "<p>21384 rows × 8 columns</p>\n",
       "</div>"
      ],
      "text/plain": [
       "            date  dcoilwtico  moving_avg  Lag_1       id  store_nbr  \\\n",
       "0     2017-08-16       46.80   48.237407  47.57  3000888          1   \n",
       "1     2017-08-16       46.80   48.237407  47.57  3000889          1   \n",
       "2     2017-08-16       46.80   48.237407  47.57  3000890          1   \n",
       "3     2017-08-16       46.80   48.237407  47.57  3000891          1   \n",
       "4     2017-08-16       46.80   48.237407  47.57  3000892          1   \n",
       "...          ...         ...         ...    ...      ...        ...   \n",
       "21379 2017-08-31       47.26   47.464375  45.96  3029395          9   \n",
       "21380 2017-08-31       47.26   47.464375  45.96  3029396          9   \n",
       "21381 2017-08-31       47.26   47.464375  45.96  3029397          9   \n",
       "21382 2017-08-31       47.26   47.464375  45.96  3029398          9   \n",
       "21383 2017-08-31       47.26   47.464375  45.96  3029399          9   \n",
       "\n",
       "                   product_family  onpromotion  \n",
       "0                      AUTOMOTIVE            0  \n",
       "1                       BABY CARE            0  \n",
       "2                          BEAUTY            2  \n",
       "3                       BEVERAGES           20  \n",
       "4                           BOOKS            0  \n",
       "...                           ...          ...  \n",
       "21379                     POULTRY            1  \n",
       "21380              PREPARED FOODS            0  \n",
       "21381                     PRODUCE            1  \n",
       "21382  SCHOOL AND OFFICE SUPPLIES            9  \n",
       "21383                     SEAFOOD            0  \n",
       "\n",
       "[21384 rows x 8 columns]"
      ]
     },
     "execution_count": 140,
     "metadata": {},
     "output_type": "execute_result"
    }
   ],
   "source": [
    "test_merged_df"
   ]
  },
  {
   "cell_type": "code",
   "execution_count": 90,
   "id": "ef20f99d",
   "metadata": {
    "execution": {
     "iopub.execute_input": "2022-04-16T14:04:15.107084Z",
     "iopub.status.busy": "2022-04-16T14:04:15.106387Z",
     "iopub.status.idle": "2022-04-16T14:04:15.582991Z",
     "shell.execute_reply": "2022-04-16T14:04:15.583456Z",
     "shell.execute_reply.started": "2022-04-16T13:46:46.996936Z"
    },
    "papermill": {
     "duration": 0.600944,
     "end_time": "2022-04-16T14:04:15.583613",
     "exception": false,
     "start_time": "2022-04-16T14:04:14.982669",
     "status": "completed"
    },
    "tags": []
   },
   "outputs": [
    {
     "data": {
      "text/plain": [
       "<AxesSubplot:>"
      ]
     },
     "execution_count": 90,
     "metadata": {},
     "output_type": "execute_result"
    },
    {
     "data": {
      "image/png": "[encoded data removed]",
      "text/plain": [
       "<Figure size 432x288 with 2 Axes>"
      ]
     },
     "metadata": {
      "needs_background": "light"
     },
     "output_type": "display_data"
    }
   ],
   "source": [
    "trimmed_train_merged_df = merged_df[['transactions', 'dcoilwtico', 'sales', 'onpromotion']]\n",
    "sns.heatmap(trimmed_train_merged_df.corr(), annot=True, fmt='.2f')"
   ]
  },
  {
   "cell_type": "markdown",
   "id": "f5ab755a",
   "metadata": {},
   "source": [
    "It should come without a surprise that promotions heavily affect sales. Oddly enough, oil price doesn't seem to have much of an effect on sales (at least according to correlation). I still think oil price is quite relevant judging from the earlier analysis we have done. It could be that the oil price is much more relevant during certain time periods for predicting sales."
   ]
  },
  {
   "cell_type": "markdown",
   "id": "55e28082",
   "metadata": {},
   "source": [
    "# Model building"
   ]
  },
  {
   "cell_type": "code",
   "execution_count": 142,
   "id": "f9a2a071",
   "metadata": {},
   "outputs": [],
   "source": [
    "from sklearn.linear_model import LinearRegression\n",
    "\n",
    "selected_features = ['onpromotion']\n",
    "X = merged_df[selected_features]\n",
    "y = merged_df['sales']\n",
    "X_test = test_merged_df[selected_features]\n",
    "\n",
    "lr_reg = LinearRegression()\n",
    "lr_reg.fit(X, y)\n",
    "y_pred = lr_reg.predict(X_test)"
   ]
  },
  {
   "cell_type": "markdown",
   "id": "a679b610",
   "metadata": {},
   "source": [
    "# Evaluation"
   ]
  },
  {
   "cell_type": "code",
   "execution_count": 151,
   "id": "efc87946",
   "metadata": {},
   "outputs": [
    {
     "data": {
      "text/plain": [
       "'Score: 3.53%'"
      ]
     },
     "execution_count": 151,
     "metadata": {},
     "output_type": "execute_result"
    }
   ],
   "source": [
    "from sklearn.metrics import mean_squared_log_error\n",
    "\n",
    "f'Score: {round(np.sqrt(mean_squared_log_error(X, y)), 2)}%'"
   ]
  }
 ],
 "metadata": {
  "kernelspec": {
   "display_name": "Python 3",
   "language": "python",
   "name": "python3"
  },
  "language_info": {
   "codemirror_mode": {
    "name": "ipython",
    "version": 3
   },
   "file_extension": ".py",
   "mimetype": "text/x-python",
   "name": "python",
   "nbconvert_exporter": "python",
   "pygments_lexer": "ipython3",
   "version": "3.8.8"
  },
  "papermill": {
   "default_parameters": {},
   "duration": 226.167123,
   "end_time": "2022-04-16T14:04:16.407045",
   "environment_variables": {},
   "exception": null,
   "input_path": "__notebook__.ipynb",
   "output_path": "__notebook__.ipynb",
   "parameters": {},
   "start_time": "2022-04-16T14:00:30.239922",
   "version": "2.3.3"
  }
 },
 "nbformat": 4,
 "nbformat_minor": 5
}
